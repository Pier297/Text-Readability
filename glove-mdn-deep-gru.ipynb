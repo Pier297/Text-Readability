{
 "cells": [
  {
   "cell_type": "code",
   "execution_count": 1,
   "id": "ea5b7e35",
   "metadata": {
    "execution": {
     "iopub.execute_input": "2021-07-20T20:18:20.180323Z",
     "iopub.status.busy": "2021-07-20T20:18:20.179796Z",
     "iopub.status.idle": "2021-07-20T20:18:21.772729Z",
     "shell.execute_reply": "2021-07-20T20:18:21.773535Z",
     "shell.execute_reply.started": "2021-07-20T19:34:31.570898Z"
    },
    "id": "kAIyrp5Fs7xt",
    "outputId": "25496935-8ca5-4611-f816-7adaea58461f",
    "papermill": {
     "duration": 1.625511,
     "end_time": "2021-07-20T20:18:21.773851",
     "exception": false,
     "start_time": "2021-07-20T20:18:20.148340",
     "status": "completed"
    },
    "tags": []
   },
   "outputs": [
    {
     "name": "stdout",
     "output_type": "stream",
     "text": [
      "cuda is used\n"
     ]
    }
   ],
   "source": [
    "import numpy as np\n",
    "import torch\n",
    "import random\n",
    "import os\n",
    "import torch.nn as nn\n",
    "import pandas as pd\n",
    "import matplotlib.pyplot as plt\n",
    "import string\n",
    "from torch.utils.data import Dataset\n",
    "from torch.nn.utils.rnn import pack_padded_sequence, pad_packed_sequence\n",
    "from torchtext.vocab import GloVe\n",
    "import torch.nn.functional as F\n",
    "from torch.nn.utils import clip_grad_norm_\n",
    "from torch.autograd import Variable\n",
    "from torchvision.utils import save_image\n",
    "from IPython.core.display import Image, display\n",
    "\n",
    "device = torch.device(\"cuda\" if torch.cuda.is_available() else \"cpu\")\n",
    "print(f\"{device} is used\")\n",
    "\n",
    "# seed everything\n",
    "seed = 1\n",
    "random.seed(seed)\n",
    "os.environ['PYTHONASSEED'] = str(seed)\n",
    "np.random.seed(seed)\n",
    "torch.manual_seed(seed)\n",
    "torch.cuda.manual_seed(seed)\n",
    "torch.backends.cudnn.deterministic = True\n",
    "torch.backends.cudnn.benchmark = True\n",
    "#os.environ['WANDB_CONSOLE'] = 'off'"
   ]
  },
  {
   "cell_type": "code",
   "execution_count": 2,
   "id": "59370e20",
   "metadata": {
    "execution": {
     "iopub.execute_input": "2021-07-20T20:18:21.812137Z",
     "iopub.status.busy": "2021-07-20T20:18:21.811604Z",
     "iopub.status.idle": "2021-07-20T20:18:21.931150Z",
     "shell.execute_reply": "2021-07-20T20:18:21.930530Z",
     "shell.execute_reply.started": "2021-07-20T19:35:06.967552Z"
    },
    "id": "nAk8BRNKs7xv",
    "outputId": "89bcfe3a-b97e-4e70-a49f-27e14b51e7e0",
    "papermill": {
     "duration": 0.140016,
     "end_time": "2021-07-20T20:18:21.931319",
     "exception": false,
     "start_time": "2021-07-20T20:18:21.791303",
     "status": "completed"
    },
    "tags": []
   },
   "outputs": [
    {
     "name": "stdout",
     "output_type": "stream",
     "text": [
      "(2834, 6) (7, 4) (2834, 6)\n"
     ]
    }
   ],
   "source": [
    "# Read the data\n",
    "training = pd.read_csv('../input/commonlitreadabilityprize/train.csv').to_numpy()\n",
    "blind_test = pd.read_csv('../input/commonlitreadabilityprize/test.csv').to_numpy()\n",
    "full_training = pd.read_csv('../input/commonlitreadabilityprize/train.csv').to_numpy()\n",
    "\n",
    "# TODO: Remove to train on full dataset\n",
    "#training = training[:10, :]\n",
    "\n",
    "training = np.random.permutation(training)\n",
    "print(training.shape, blind_test.shape, full_training.shape)"
   ]
  },
  {
   "cell_type": "code",
   "execution_count": 3,
   "id": "d653085e",
   "metadata": {
    "execution": {
     "iopub.execute_input": "2021-07-20T20:18:21.971224Z",
     "iopub.status.busy": "2021-07-20T20:18:21.970543Z",
     "iopub.status.idle": "2021-07-20T20:18:21.974014Z",
     "shell.execute_reply": "2021-07-20T20:18:21.974712Z",
     "shell.execute_reply.started": "2021-07-20T19:35:15.573285Z"
    },
    "id": "MIYcHII9s7xv",
    "outputId": "1a75572f-8b82-4545-ed26-33c85d185818",
    "papermill": {
     "duration": 0.026198,
     "end_time": "2021-07-20T20:18:21.974878",
     "exception": false,
     "start_time": "2021-07-20T20:18:21.948680",
     "status": "completed"
    },
    "tags": []
   },
   "outputs": [
    {
     "name": "stdout",
     "output_type": "stream",
     "text": [
      "training shape = (2834,) (2834,)\n",
      "Real training shape = (2834,) (2834,)\n",
      "BLIND test shape = (7,)\n"
     ]
    }
   ],
   "source": [
    "# id,url_legal,license,excerpt,target,standard_error\n",
    "\n",
    "# We have 5 features (id,url_legal,license,excerpt,standard_error) and 1 output 'target'\n",
    "\n",
    "# For our model we'll only use the excerpt as a feature\n",
    "training_X = training[:, 3]\n",
    "training_Y = training[:, 4]\n",
    "print('training shape =', training_X.shape, training_Y.shape)\n",
    "\n",
    "full_training_X = full_training[:, 3]\n",
    "full_training_Y = full_training[:, 4]\n",
    "print('Real training shape =', full_training_X.shape, full_training_Y.shape)\n",
    "\n",
    "blind_test_X = blind_test[:, 3]\n",
    "print('BLIND test shape =', blind_test_X.shape)"
   ]
  },
  {
   "cell_type": "code",
   "execution_count": 4,
   "id": "9822d61d",
   "metadata": {
    "execution": {
     "iopub.execute_input": "2021-07-20T20:18:22.013853Z",
     "iopub.status.busy": "2021-07-20T20:18:22.013161Z",
     "iopub.status.idle": "2021-07-20T20:18:22.016893Z",
     "shell.execute_reply": "2021-07-20T20:18:22.017507Z",
     "shell.execute_reply.started": "2021-07-20T19:35:17.147059Z"
    },
    "id": "qi8sdh8qs7xw",
    "outputId": "3f4e91ef-64bb-4863-87b2-c622672817c4",
    "papermill": {
     "duration": 0.024683,
     "end_time": "2021-07-20T20:18:22.017691",
     "exception": false,
     "start_time": "2021-07-20T20:18:21.993008",
     "status": "completed"
    },
    "tags": []
   },
   "outputs": [
    {
     "name": "stdout",
     "output_type": "stream",
     "text": [
      "Frederick Fleet, who was lookout in the crow's nest of the Titanic when the giant liner smashed into the iceberg, made oath that not a single lookout on the Titanic was provided with marine glasses and declared that had his request for such glasses in Southampton not been refused the Titanic might yet be afloat. \"I could easily have sighted the iceberg with marine glasses in plenty of time to have the vessel steered out of the way.\" said Fleet, and gave in detail the request he made in Southampton for them. Although all other liners are so provided, Fleet swore, his request was flatly refused and he was told there were no glasses for him.\n",
      "Third Officer Pittman admitted that the Titanic had been warned that icebergs were prevalent, but said he did not see any on the Sunday of the disaster. He declared that in his 14 years' experience he had seen only one iceberg before.\n",
      "\n",
      "Target = -0.952408653\n"
     ]
    }
   ],
   "source": [
    "print(training_X[0])\n",
    "print('\\nTarget =', training_Y[0])"
   ]
  },
  {
   "cell_type": "markdown",
   "id": "bfff2ff7",
   "metadata": {
    "id": "vh-F3FJjs7xy",
    "papermill": {
     "duration": 0.017717,
     "end_time": "2021-07-20T20:18:22.053321",
     "exception": false,
     "start_time": "2021-07-20T20:18:22.035604",
     "status": "completed"
    },
    "tags": []
   },
   "source": [
    "### Turning excerpts into Tensors\n",
    "\n",
    "Map each word to the its glove embeddings ID"
   ]
  },
  {
   "cell_type": "code",
   "execution_count": 5,
   "id": "4ea0e1c8",
   "metadata": {
    "execution": {
     "iopub.execute_input": "2021-07-20T20:18:22.094737Z",
     "iopub.status.busy": "2021-07-20T20:18:22.094179Z",
     "iopub.status.idle": "2021-07-20T20:24:40.779325Z",
     "shell.execute_reply": "2021-07-20T20:24:40.778897Z",
     "shell.execute_reply.started": "2021-07-20T19:35:35.205861Z"
    },
    "id": "mHwGRXqT1-d_",
    "outputId": "ed13b72b-c022-4bde-e229-f19ac8a33204",
    "papermill": {
     "duration": 378.708586,
     "end_time": "2021-07-20T20:24:40.779455",
     "exception": false,
     "start_time": "2021-07-20T20:18:22.070869",
     "status": "completed"
    },
    "tags": []
   },
   "outputs": [
    {
     "name": "stderr",
     "output_type": "stream",
     "text": [
      "2196019it [06:18, 5800.84it/s]\n"
     ]
    },
    {
     "name": "stdout",
     "output_type": "stream",
     "text": [
      "[-1.8567e-01  6.6008e-02 -2.5209e-01 -1.1725e-01  2.6513e-01  6.4908e-02\n",
      "  1.2291e-01 -9.3979e-02  2.4321e-02  2.4926e+00 -1.7916e-02 -7.1218e-02\n",
      " -2.4782e-01 -2.6237e-01 -2.2460e-01 -2.1961e-01 -1.2927e-01  1.0867e+00\n",
      " -6.6072e-01 -3.1617e-02 -5.7328e-02  5.6903e-02 -2.7939e-01 -3.9825e-01\n",
      "  1.4251e-01 -8.5146e-02 -1.4779e-01  5.5067e-02 -2.8687e-03 -2.0917e-01\n",
      " -7.0735e-02  2.2577e-01 -1.5881e-01 -1.0395e-01  9.7110e-02 -5.6251e-01\n",
      " -3.2929e-01 -2.0853e-01  9.8711e-03  4.9777e-02  1.4883e-03  1.5884e-01\n",
      "  4.2771e-02 -2.6956e-03 -2.4620e-02 -1.9213e-01 -2.2556e-01  1.0838e-01\n",
      "  9.0086e-02 -1.3291e-01  3.2559e-01 -1.7038e-01 -1.0990e-01 -2.3986e-01\n",
      " -2.4289e-02  1.4656e-02 -2.3700e-01  8.4828e-02 -3.5982e-01 -7.6746e-02\n",
      "  4.8909e-02  1.1431e-01 -2.1013e-01  2.4765e-01 -1.7531e-02 -1.4028e-01\n",
      "  4.6191e-02  2.2972e-01  1.1750e-01  1.2724e-01  1.2992e-02  4.5870e-01\n",
      "  4.1085e-01  3.9106e-02  1.5713e-01 -1.8376e-01  2.6834e-01  5.6662e-02\n",
      "  1.6844e-01 -5.3788e-02 -9.1892e-02  1.1193e-01 -8.6810e-02 -1.3324e-01\n",
      "  1.5062e-01 -3.1733e-01 -2.2078e-01  2.5038e-01  3.4131e-01  3.6419e-01\n",
      " -8.9514e-02 -2.2193e-01  2.4471e-01  4.0091e-02  4.7798e-01 -2.9996e-02\n",
      "  1.9212e-03  6.3511e-02 -2.0417e-01 -2.6478e-01  2.0649e-01  1.5573e-02\n",
      " -2.7722e-01 -1.8861e-01 -1.0289e-01 -4.9773e-01  1.4986e-01 -1.0877e-02\n",
      "  2.5085e-01 -2.8117e-01  1.8966e-01 -6.5879e-02  9.4753e-02 -1.5338e-01\n",
      " -5.5071e-02 -3.6747e-01  2.4993e-01  9.6527e-02  2.3538e-01  1.8405e-01\n",
      "  5.2859e-02  2.2967e-01  1.2582e-01  1.5536e-01 -1.7275e-01  3.3946e-01\n",
      " -1.0049e-01  7.4948e-02 -9.3575e-02 -4.0490e-02 -1.6922e-02 -5.8039e-03\n",
      " -1.8108e-01  1.9537e-01  4.5178e-01  1.0965e-01  2.3370e-01 -9.9050e-02\n",
      " -7.8633e-02  2.1678e-01 -7.1231e-01 -9.9759e-02  3.3333e-01 -1.6460e-01\n",
      " -9.1688e-02  2.1056e-01  2.3669e-02  2.8922e-02  1.1990e-01 -1.2512e-01\n",
      " -2.6037e-02 -6.2217e-02  5.5816e-01  5.0273e-03 -3.0888e-01  3.8611e-02\n",
      "  1.7568e-01 -1.1163e-01 -1.0815e-01 -1.9444e-01  2.9433e-01  1.4519e-01\n",
      " -4.2878e-02  1.8534e-01  1.8891e-02 -6.1883e-01  1.3352e-01  3.6007e-02\n",
      "  3.3995e-01  2.2109e-01 -7.9328e-02  7.1319e-02  1.7678e-01  1.6378e-01\n",
      " -2.3142e-01 -1.4340e-01 -9.8122e-02 -1.9286e-02  2.3560e-01 -3.4013e-01\n",
      " -6.1007e-02 -2.3208e-01 -3.1152e-01  1.0063e-01 -1.5957e-01  2.0183e-01\n",
      " -1.6345e-02 -1.2303e-01  2.2667e-02 -2.0986e-01 -2.0127e-01 -8.7883e-02\n",
      "  6.4731e-02  1.0195e-01 -1.7860e-01  3.3056e-01  2.1407e-01 -3.2165e-01\n",
      " -1.7106e-01  1.9407e-01 -3.8618e-01 -2.1480e-01 -5.2254e-02  2.3175e-02\n",
      "  4.7389e-01  1.8612e-01  1.2711e-01  2.0855e-01 -1.0256e-01 -1.2016e-01\n",
      " -4.0488e-01  2.9695e-02 -2.7419e-02 -8.5227e-03 -1.1415e-01  8.1134e-02\n",
      " -1.7228e-01  1.9142e-01  2.6514e-02  4.3789e-02 -1.2399e-01  1.3354e-01\n",
      "  1.0112e-01  8.1682e-02 -1.5085e-01  7.5806e-03 -1.8971e-01  2.4669e-01\n",
      "  2.2491e-01  3.5553e-01 -3.2770e-01 -2.1821e-01  1.4020e-01  2.8604e-01\n",
      "  5.5226e-02 -8.6544e-02  2.1110e-02 -1.9236e-01  7.4245e-02  7.6782e-02\n",
      "  8.1666e-04  3.4097e-02 -5.7719e-01  1.0657e-01  2.8134e-01 -1.1964e-01\n",
      " -6.8281e-01 -3.2893e-01 -2.4442e-01 -2.5847e-02  9.1273e-03  2.0250e-01\n",
      " -5.0959e-02 -1.1042e-01  1.0962e-02  7.6773e-02  4.0048e-01 -4.0739e-01\n",
      " -4.4773e-01  3.1954e-01 -3.6326e-02 -1.2789e-02 -1.7282e-01  1.4760e-01\n",
      "  2.3560e-01  8.0642e-02 -3.6528e-01 -8.3443e-03  6.2390e-01 -2.4379e-01\n",
      "  1.9917e-02 -2.8803e-01 -1.0494e-02  3.8412e-02 -1.1718e-01 -7.2462e-02\n",
      "  1.6381e-01  3.8488e-01 -2.9783e-02  2.3444e-01  4.5320e-01  1.4815e-01\n",
      " -2.7021e-02 -7.3181e-02 -1.1470e-01 -5.4545e-03  4.7796e-01  9.0912e-02\n",
      "  9.4489e-02 -3.6882e-01 -5.9396e-01 -9.7729e-02  2.0072e-01  1.7055e-01\n",
      " -4.7356e-03 -3.9709e-02  3.2498e-01 -2.3452e-02  1.2302e-01  3.3120e-01]\n",
      "tensor([[ 0.0449,  0.0015, -0.0079,  ...,  0.3165, -0.0729,  0.4814],\n",
      "        [ 0.3925, -0.1590,  0.1637,  ...,  0.1981,  0.0989, -0.4905],\n",
      "        [-0.0828,  0.6720, -0.1499,  ..., -0.1918, -0.3785, -0.0659],\n",
      "        ...,\n",
      "        [-0.1623, -0.2264,  0.3986,  ..., -0.1241, -0.2320, -0.7791],\n",
      "        [ 0.4179,  0.0349, -0.1880,  ...,  0.2687,  0.0645, -0.0247],\n",
      "        [ 0.0120,  0.2075, -0.1258,  ...,  0.1387, -0.3605, -0.0350]])\n"
     ]
    }
   ],
   "source": [
    "import re\n",
    "from torchtext import data, datasets, vocab\n",
    "import codecs\n",
    "from tqdm import tqdm\n",
    "\n",
    "embedding_dim = 300\n",
    "#glove = GloVe(name=\"840B\", dim=embedding_dim)\n",
    "\n",
    "GLOVE_EMB = '../input/glove840b300dtxt/glove.840B.300d.txt'\n",
    "EMBEDDING_DIM = 300\n",
    "embeddings_index = {}\n",
    "f = codecs.open(GLOVE_EMB, encoding='utf-8')\n",
    "for line in tqdm(f):\n",
    "    values = line.split(\" \")\n",
    "    word = value = values[0]\n",
    "    coefs = np.asarray(values[1:301], dtype='float32')\n",
    "    embeddings_index[word] = coefs\n",
    "f.close()\n",
    "\n",
    "print(embeddings_index['and'])\n",
    "\n",
    "# Turn a line of words into the curresponding indices\n",
    "def lineToTensor(line):\n",
    "    # Split a string into array of words and punctation\n",
    "    # \"Much, fun.\" => [\"Much\", \",\", \"fun\", \".\"]\n",
    "    words = re.findall(r\"[\\w']+|[.,!?;]\", line)\n",
    "    tensor = torch.tensor([embeddings_index[w] for w in words if w in embeddings_index])\n",
    "    return tensor\n",
    "\n",
    "print(lineToTensor(training_X[0]))"
   ]
  },
  {
   "cell_type": "code",
   "execution_count": 6,
   "id": "541545d2",
   "metadata": {
    "execution": {
     "iopub.execute_input": "2021-07-20T20:24:42.645788Z",
     "iopub.status.busy": "2021-07-20T20:24:42.645013Z",
     "iopub.status.idle": "2021-07-20T20:26:07.199386Z",
     "shell.execute_reply": "2021-07-20T20:26:07.199822Z",
     "shell.execute_reply.started": "2021-07-20T20:05:37.446251Z"
    },
    "id": "6s8cf7iTs7xz",
    "outputId": "933df1ff-4191-4579-ced5-f5502e296dae",
    "papermill": {
     "duration": 85.492216,
     "end_time": "2021-07-20T20:26:07.199964",
     "exception": false,
     "start_time": "2021-07-20T20:24:41.707748",
     "status": "completed"
    },
    "tags": []
   },
   "outputs": [
    {
     "name": "stdout",
     "output_type": "stream",
     "text": [
      "encoded Training shape = (2834, 1, 1341, 300)\n",
      "encoded Real/Full Training shape = (2834, 1, 1341, 300)\n",
      "enc. Test shape = (7, 1, 1144, 300)\n"
     ]
    }
   ],
   "source": [
    "# We want the entire dataset encoded with the glove embeddings\n",
    "# So, the final size will be (n_samples, 1, excerpt_length, embedding_dim) (extra dimension 1 inserted for pytorch batch)\n",
    "# Since a tensor has fixed size we pad the sequences to ensure all have the same length.\n",
    "\n",
    "# Get the max excerpt length and encode the training set\n",
    "max_excerpt_len = len(max(training_X, key=len))\n",
    "enc_training_X = np.zeros((training_X.shape[0], 1, max_excerpt_len, embedding_dim))\n",
    "training_lengths = []\n",
    "for i, x in enumerate(training_X):\n",
    "    enc_x = lineToTensor(x)\n",
    "    enc_training_X[i, 0, :enc_x.shape[0]] = enc_x\n",
    "    training_lengths.append(enc_x.shape[0])\n",
    "\n",
    "print('encoded Training shape =',enc_training_X.shape)\n",
    "\n",
    "\n",
    "max_excerpt_len = len(max(full_training_X, key=len))\n",
    "enc_full_training_X = np.zeros((full_training_X.shape[0], 1, max_excerpt_len,embedding_dim))\n",
    "full_training_lengths = []\n",
    "for i, x in enumerate(full_training_X):\n",
    "    enc_x = lineToTensor(x)\n",
    "    enc_full_training_X[i, 0, :enc_x.shape[0]] = enc_x\n",
    "    full_training_lengths.append(enc_x.shape[0])\n",
    "\n",
    "print('encoded Real/Full Training shape =',enc_full_training_X.shape)\n",
    "\n",
    "\n",
    "max_excerpt_len = len(max(blind_test_X, key=len))\n",
    "enc_blind_test_X = np.zeros((blind_test_X.shape[0], 1, max_excerpt_len,embedding_dim))\n",
    "blind_test_lengths = []\n",
    "for i, x in enumerate(blind_test_X):\n",
    "    enc_x = lineToTensor(x)\n",
    "    enc_blind_test_X[i, 0, :enc_x.shape[0]] = enc_x\n",
    "    blind_test_lengths.append(enc_x.shape[0])\n",
    "\n",
    "print('enc. Test shape =', enc_blind_test_X.shape)"
   ]
  },
  {
   "cell_type": "code",
   "execution_count": 7,
   "id": "a69361cd",
   "metadata": {
    "execution": {
     "iopub.execute_input": "2021-07-20T20:26:09.784930Z",
     "iopub.status.busy": "2021-07-20T20:26:09.784012Z",
     "iopub.status.idle": "2021-07-20T20:26:09.790900Z",
     "shell.execute_reply": "2021-07-20T20:26:09.791399Z",
     "shell.execute_reply.started": "2021-07-20T20:07:20.712810Z"
    },
    "id": "nKV-nZKJs7x0",
    "outputId": "b8c9140b-f81e-464e-9e68-b8c88bd2f013",
    "papermill": {
     "duration": 1.160683,
     "end_time": "2021-07-20T20:26:09.791555",
     "exception": false,
     "start_time": "2021-07-20T20:26:08.630872",
     "status": "completed"
    },
    "tags": []
   },
   "outputs": [
    {
     "data": {
      "text/plain": [
       "(tensor([[-0.3082, -0.0424, -0.1774,  ...,  0.1793,  0.0658,  0.0419],\n",
       "         [ 0.0852,  0.5089, -0.0883,  ...,  0.4368,  0.2978, -0.0882],\n",
       "         [ 0.8461,  0.0897,  0.1433,  ...,  0.3759,  0.0255,  0.1606],\n",
       "         ...,\n",
       "         [ 0.6164, -0.2851, -0.6487,  ...,  0.1159,  0.0657,  0.0450],\n",
       "         [-0.0802, -0.2603, -0.0466,  ..., -0.4782,  0.0459, -0.2130],\n",
       "         [ 0.0120,  0.2075, -0.1258,  ...,  0.1387, -0.3605, -0.0350]]),\n",
       " tensor(-0.5843))"
      ]
     },
     "execution_count": 7,
     "metadata": {},
     "output_type": "execute_result"
    }
   ],
   "source": [
    "from math import floor\n",
    "#Utility function to get a random sample\n",
    "def randomTrainingExample():\n",
    "    i = np.random.randint(0, training_X.shape[0])\n",
    "    excerpt_tensor = lineToTensor(training_X[i])\n",
    "    target_tensor = torch.tensor(training_Y[i], dtype=torch.float)\n",
    "    return excerpt_tensor, target_tensor\n",
    "\n",
    "randomTrainingExample()"
   ]
  },
  {
   "cell_type": "code",
   "execution_count": 8,
   "id": "d5e783b3",
   "metadata": {
    "execution": {
     "iopub.execute_input": "2021-07-20T20:26:11.855487Z",
     "iopub.status.busy": "2021-07-20T20:26:11.854488Z",
     "iopub.status.idle": "2021-07-20T20:26:11.857244Z",
     "shell.execute_reply": "2021-07-20T20:26:11.856760Z",
     "shell.execute_reply.started": "2021-07-20T20:07:42.983314Z"
    },
    "id": "TxgzMVEws7x0",
    "papermill": {
     "duration": 1.004049,
     "end_time": "2021-07-20T20:26:11.857377",
     "exception": false,
     "start_time": "2021-07-20T20:26:10.853328",
     "status": "completed"
    },
    "tags": []
   },
   "outputs": [],
   "source": [
    "class CommonLitDataset(Dataset):\n",
    "    # X: numpy matrix (n_samples, 1, excerpt_length, embedding_dim)\n",
    "    def __init__(self, X, Y, lengths):\n",
    "        self.X = X\n",
    "        self.Y = Y\n",
    "        self.lengths = lengths\n",
    "\n",
    "    def __len__(self):\n",
    "        return self.X.shape[0]\n",
    "\n",
    "    def __getitem__(self, idx):\n",
    "        return (torch.tensor(self.X[idx][0]).float(), self.lengths[idx]), torch.tensor(self.Y[idx]).float()"
   ]
  },
  {
   "cell_type": "code",
   "execution_count": 9,
   "id": "0fc6bb4d",
   "metadata": {
    "execution": {
     "iopub.execute_input": "2021-07-20T20:26:13.857779Z",
     "iopub.status.busy": "2021-07-20T20:26:13.856751Z",
     "iopub.status.idle": "2021-07-20T20:26:13.858904Z",
     "shell.execute_reply": "2021-07-20T20:26:13.859359Z",
     "shell.execute_reply.started": "2021-07-20T20:07:48.568685Z"
    },
    "id": "jLjCYgNls7x0",
    "papermill": {
     "duration": 1.007289,
     "end_time": "2021-07-20T20:26:13.859495",
     "exception": false,
     "start_time": "2021-07-20T20:26:12.852206",
     "status": "completed"
    },
    "tags": []
   },
   "outputs": [],
   "source": [
    "# Define the model\n",
    "\n",
    "n_gaussians = 20\n",
    "class MDNLSTM(nn.Module):\n",
    "    def __init__(self, hidden_dim):\n",
    "        super(MDNLSTM, self).__init__()\n",
    "        self.z_size = 1\n",
    "        self.n_gaussians = n_gaussians\n",
    "        self.n_layers = 3\n",
    "        self.n_hidden = hidden_dim\n",
    "\n",
    "        self.gru = nn.GRU(embedding_dim, self.n_hidden, self.n_layers, batch_first=True, dropout=0.2, bidirectional=True)\n",
    "        self.fc1 = nn.Linear(self.n_hidden, self.n_gaussians*self.z_size)\n",
    "        self.fc2 = nn.Linear(self.n_hidden, self.n_gaussians*self.z_size)\n",
    "        self.fc3 = nn.Linear(self.n_hidden, self.n_gaussians*self.z_size)\n",
    "\n",
    "    def get_mixture_coef(self, y, rollout_length):\n",
    "        # y.shape = torch.Size([3, 16, 256]) \n",
    "        pi, mu, sigma = self.fc1(y), self.fc2(y), self.fc3(y)\n",
    "        \n",
    "        pi = pi.view(-1, self.n_gaussians, self.z_size)\n",
    "        mu = mu.view(-1, self.n_gaussians, self.z_size)\n",
    "        sigma = sigma.view(-1, self.n_gaussians, self.z_size)\n",
    "        \n",
    "        pi = F.softmax(pi, 1)\n",
    "        sigma = torch.exp(sigma)\n",
    "        return pi, mu, sigma\n",
    "        \n",
    "    def forward(self, x, sequence_length):\n",
    "        # Forward propagate gru\n",
    "        x = pack_padded_sequence(x, sequence_length, batch_first=True, enforce_sorted=False)\n",
    "        out, h = self.gru(x)\n",
    "        #seq_unpacked, lens_unpacked = pad_packed_sequence(y, batch_first=True)\n",
    "        pi, mu, sigma = self.get_mixture_coef(h[-1], sequence_length)\n",
    "        return (pi, mu, sigma), h\n",
    "    \n",
    "    def init_hidden(self, bsz):\n",
    "        return (torch.zeros(self.n_layers, bsz, self.n_hidden).to(device),\n",
    "                torch.zeros(self.n_layers, bsz, self.n_hidden).to(device))\n",
    "        \n",
    "    # old\n",
    "\n",
    "    # def forward(self, x, sequence_length):\n",
    "    #     x_pack = pack_padded_sequence(x, sequence_length, batch_first=True, enforce_sorted=False)\n",
    "    #     lstm_out, ht = self.gru(x_pack)\n",
    "    #     return self.linear(ht[-1])\n",
    "\n",
    "    # def initHidden(self, batch_size):\n",
    "    #     return (torch.zeros(1, batch_size, self.hidden_dim), torch.zeros(1, batch_size, self.hidden_dim))\n"
   ]
  },
  {
   "cell_type": "code",
   "execution_count": 10,
   "id": "768f999a",
   "metadata": {
    "execution": {
     "iopub.execute_input": "2021-07-20T20:26:15.965172Z",
     "iopub.status.busy": "2021-07-20T20:26:15.964158Z",
     "iopub.status.idle": "2021-07-20T20:26:15.973720Z",
     "shell.execute_reply": "2021-07-20T20:26:15.972941Z",
     "shell.execute_reply.started": "2021-07-20T20:11:26.753893Z"
    },
    "id": "eUkyxuLkj05o",
    "papermill": {
     "duration": 1.094052,
     "end_time": "2021-07-20T20:26:15.973906",
     "exception": false,
     "start_time": "2021-07-20T20:26:14.879854",
     "status": "completed"
    },
    "tags": []
   },
   "outputs": [],
   "source": [
    "def mdn_loss_fn(y, pi, mu, sigma):\n",
    "    # pi \\in 16 x 5 x 1\n",
    "    # 16 = batch size, 5 gaussians\n",
    "    m = torch.distributions.Normal(loc=mu, scale=sigma)\n",
    "    loss = torch.exp(m.log_prob(y))\n",
    "    loss = torch.sum(loss * pi, dim=2)\n",
    "    loss = -torch.log(loss)\n",
    "    return loss.mean()\n",
    "\n",
    "def criterion(y, pi, mu, sigma):\n",
    "    y = torch.unsqueeze(y, 1)\n",
    "    y = torch.unsqueeze(y, 1)\n",
    "    #print(y.shape)\n",
    "    return mdn_loss_fn(y, pi, mu, sigma)"
   ]
  },
  {
   "cell_type": "code",
   "execution_count": 11,
   "id": "5c4da569",
   "metadata": {
    "execution": {
     "iopub.execute_input": "2021-07-20T20:26:18.133666Z",
     "iopub.status.busy": "2021-07-20T20:26:18.132734Z",
     "iopub.status.idle": "2021-07-20T20:26:18.135382Z",
     "shell.execute_reply": "2021-07-20T20:26:18.134897Z",
     "shell.execute_reply.started": "2021-07-20T20:07:56.543623Z"
    },
    "id": "lbzD09zHqmfF",
    "papermill": {
     "duration": 1.002878,
     "end_time": "2021-07-20T20:26:18.135499",
     "exception": false,
     "start_time": "2021-07-20T20:26:17.132621",
     "status": "completed"
    },
    "tags": []
   },
   "outputs": [],
   "source": [
    "def compute_mse(model, generator):\n",
    "    model.eval()\n",
    "    r = 0.0\n",
    "    error = nn.MSELoss(reduction='sum')\n",
    "    n = 0\n",
    "    for (x, seq_len), y in generator:\n",
    "        x, targets_batch = x.to(device), y.to(device)\n",
    "\n",
    "        batch_size = x.shape[0]\n",
    "        n += batch_size\n",
    "\n",
    "        (pi, mu, sigma), hidden = mdnlstm(x, seq_len)\n",
    "        y_preds = [torch.normal(mu, sigma)[:, i, :] for i in range(n_gaussians)]\n",
    "        pred = torch.zeros((batch_size, 1)).to(device)\n",
    "        for i, gauss_out in enumerate(y_preds):\n",
    "            # gauss_out \\in batch_size, 1\n",
    "            pred += gauss_out\n",
    "        mse = error(torch.unsqueeze(targets_batch, 1), pred / n_gaussians)\n",
    "\n",
    "        r += mse.item()\n",
    "    return r / n"
   ]
  },
  {
   "cell_type": "code",
   "execution_count": 12,
   "id": "549e55d9",
   "metadata": {
    "execution": {
     "iopub.execute_input": "2021-07-20T20:26:20.139690Z",
     "iopub.status.busy": "2021-07-20T20:26:20.138985Z",
     "iopub.status.idle": "2021-07-20T20:33:37.422808Z",
     "shell.execute_reply": "2021-07-20T20:33:37.423779Z",
     "shell.execute_reply.started": "2021-07-20T20:07:58.985498Z"
    },
    "id": "WNTcVkpes7x2",
    "outputId": "8e6955a2-47c0-4bf9-bf86-c98cd691707d",
    "papermill": {
     "duration": 438.297478,
     "end_time": "2021-07-20T20:33:37.424006",
     "exception": false,
     "start_time": "2021-07-20T20:26:19.126528",
     "status": "completed"
    },
    "tags": []
   },
   "outputs": [
    {
     "name": "stdout",
     "output_type": "stream",
     "text": [
      "Iteration 1 | 3% (0m 21s) Loss = 4.4217 Val RMSE = 0.8358\n",
      "Iteration 2 | 6% (0m 35s) Loss = 4.1571 Val RMSE = 0.8078\n",
      "Iteration 3 | 10% (0m 49s) Loss = 4.0751 Val RMSE = 0.7065\n",
      "Iteration 4 | 13% (1m 4s) Loss = 3.9762 Val RMSE = 0.6956\n",
      "Iteration 5 | 16% (1m 18s) Loss = 3.9525 Val RMSE = 0.6573\n",
      "Iteration 6 | 20% (1m 33s) Loss = 3.8920 Val RMSE = 0.6714\n",
      "Iteration 7 | 23% (1m 47s) Loss = 3.9083 Val RMSE = 0.6441\n",
      "Iteration 8 | 26% (2m 2s) Loss = 3.8181 Val RMSE = 0.6491\n",
      "Iteration 9 | 30% (2m 16s) Loss = 3.7915 Val RMSE = 0.6416\n",
      "Iteration 10 | 33% (2m 31s) Loss = 3.7610 Val RMSE = 0.6285\n",
      "Iteration 11 | 36% (2m 45s) Loss = 3.7060 Val RMSE = 0.6475\n",
      "Iteration 12 | 40% (2m 59s) Loss = 3.6719 Val RMSE = 0.7691\n",
      "Iteration 13 | 43% (3m 14s) Loss = 3.6544 Val RMSE = 0.8469\n",
      "Iteration 14 | 46% (3m 28s) Loss = 3.8607 Val RMSE = 0.6421\n",
      "Iteration 15 | 50% (3m 42s) Loss = 3.5527 Val RMSE = 0.7088\n",
      "Iteration 16 | 53% (3m 57s) Loss = 3.5283 Val RMSE = 0.7117\n",
      "Iteration 17 | 56% (4m 11s) Loss = 3.5573 Val RMSE = 0.6627\n",
      "Iteration 18 | 60% (4m 25s) Loss = 3.4221 Val RMSE = 0.7396\n",
      "Iteration 19 | 63% (4m 39s) Loss = 3.5866 Val RMSE = 0.6673\n",
      "Iteration 20 | 66% (4m 54s) Loss = 3.3357 Val RMSE = 0.7022\n",
      "Iteration 21 | 70% (5m 8s) Loss = 3.3723 Val RMSE = 0.6912\n",
      "Iteration 22 | 73% (5m 22s) Loss = 3.1380 Val RMSE = 0.7005\n",
      "Iteration 23 | 76% (5m 36s) Loss = 3.1401 Val RMSE = 0.7171\n",
      "Iteration 24 | 80% (5m 51s) Loss = 3.0781 Val RMSE = 0.7258\n",
      "Iteration 25 | 83% (6m 5s) Loss = 3.0013 Val RMSE = 0.7445\n",
      "Iteration 26 | 86% (6m 19s) Loss = 3.0482 Val RMSE = 0.6777\n",
      "Iteration 27 | 90% (6m 34s) Loss = 3.1828 Val RMSE = 0.6769\n",
      "Iteration 28 | 93% (6m 48s) Loss = 2.9675 Val RMSE = 0.6816\n",
      "Iteration 29 | 96% (7m 2s) Loss = 3.0964 Val RMSE = 0.6968\n",
      "Iteration 30 | 100% (7m 17s) Loss = 2.9000 Val RMSE = 0.7015\n"
     ]
    }
   ],
   "source": [
    "import time\n",
    "from math import floor, inf\n",
    "\n",
    "# Keep track of losses for plotting\n",
    "current_loss = 0\n",
    "all_losses = []\n",
    "\n",
    "def timeSince(since):\n",
    "    now = time.time()\n",
    "    s = now - since\n",
    "    m = floor(s / 60)\n",
    "    s -= m * 60\n",
    "    return '%dm %ds' % (m, s)\n",
    "\n",
    "start = time.time()\n",
    "print_every = 1\n",
    "plot_every = 1\n",
    "\n",
    "\n",
    "BATCH_SIZE = 64     # batch = 16\n",
    "hidden_dim = 256    # 256\n",
    "epochs = 30          # 75\n",
    "lr = 0.0005         # 0.00003\n",
    "weight_decay = 1e-7 # 1e-7\n",
    "\n",
    "# test_error = 0.61\n",
    "\n",
    "mdnlstm = MDNLSTM(hidden_dim).to(device)\n",
    "\n",
    "parameters = filter(lambda p: p.requires_grad, mdnlstm.parameters())\n",
    "optimizer = torch.optim.Adam(parameters, lr=lr, weight_decay=weight_decay)\n",
    "\n",
    "params = {'batch_size': BATCH_SIZE,\n",
    "          'shuffle': True,\n",
    "          'num_workers': 0}\n",
    "\n",
    "commonlit_dataset1 = CommonLitDataset(enc_training_X[400:], training_Y[400:], training_lengths[400:])\n",
    "training_generator = torch.utils.data.DataLoader(commonlit_dataset1, **params)\n",
    "\n",
    "commonlit_dataset2 = CommonLitDataset(enc_training_X[:400], training_Y[:400], training_lengths[:400])\n",
    "validation_generator = torch.utils.data.DataLoader(commonlit_dataset2, **params)\n",
    "\n",
    "# Early stopping logic\n",
    "val_losses = []\n",
    "best_val_error = inf\n",
    "best_val_epoch = 0\n",
    "\n",
    "for iter in range(1, epochs + 1):\n",
    "    total = 0\n",
    "    current_loss = 0.0\n",
    "    mdnlstm.train()\n",
    "    for (x, seq_len), y in training_generator:\n",
    "        x, y = x.to(device), y.to(device)\n",
    "        optimizer.zero_grad()\n",
    "\n",
    "        (pi, mu, sigma), hidden = mdnlstm(x, seq_len)\n",
    "        loss = criterion(y, pi, mu, sigma)\n",
    "        \n",
    "        # Backward and optimize\n",
    "        mdnlstm.zero_grad()\n",
    "        loss.backward()\n",
    "        # clip_grad_norm_(mdnlstm.parameters(), 0.5)\n",
    "        optimizer.step()\n",
    "\n",
    "        current_loss += loss.item()*y.shape[0]\n",
    "        total += y.shape[0]\n",
    "\n",
    "    # Mean squared error\n",
    "    current_loss /= total # -log prob\n",
    "    #current_loss = compute_mse(mdnlstm, training_generator)\n",
    "\n",
    "    current_val_error = compute_mse(mdnlstm, validation_generator)\n",
    "    val_losses.append(current_val_error)\n",
    "    if current_val_error < best_val_error:\n",
    "        best_val_error = current_val_error\n",
    "        best_val_epoch = iter\n",
    "\n",
    "    # Print iter number, loss\n",
    "    if iter % print_every == 0:\n",
    "        print('Iteration %d | %d%% (%s) Loss = %.4f Val RMSE = %.4f' % (iter, iter / epochs * 100, timeSince(start), current_loss, np.sqrt(current_val_error)))\n",
    "\n",
    "    # Add current loss avg to list of losses\n",
    "    if iter % plot_every == 0:\n",
    "        all_losses.append(current_loss / plot_every)\n",
    "        current_loss = 0"
   ]
  },
  {
   "cell_type": "code",
   "execution_count": 13,
   "id": "d8535b2a",
   "metadata": {
    "execution": {
     "iopub.execute_input": "2021-07-20T20:33:39.336865Z",
     "iopub.status.busy": "2021-07-20T20:33:39.335867Z",
     "iopub.status.idle": "2021-07-20T20:33:39.519709Z",
     "shell.execute_reply": "2021-07-20T20:33:39.520134Z",
     "shell.execute_reply.started": "2021-07-20T20:10:22.125706Z"
    },
    "id": "7CE1fwNJs7x2",
    "outputId": "6d8abb69-3877-4967-a45b-364fa3c116a1",
    "papermill": {
     "duration": 1.128605,
     "end_time": "2021-07-20T20:33:39.520284",
     "exception": false,
     "start_time": "2021-07-20T20:33:38.391679",
     "status": "completed"
    },
    "tags": []
   },
   "outputs": [
    {
     "data": {
      "text/plain": [
       "<matplotlib.legend.Legend at 0x7f8ec621c550>"
      ]
     },
     "execution_count": 13,
     "metadata": {},
     "output_type": "execute_result"
    },
    {
     "data": {
      "image/png": "[encoded data removed]",
      "text/plain": [
       "<Figure size 432x288 with 1 Axes>"
      ]
     },
     "metadata": {
      "needs_background": "light"
     },
     "output_type": "display_data"
    }
   ],
   "source": [
    "# Plot the learning curve\n",
    "plt.figure()\n",
    "plt.plot(all_losses, label='Training error')\n",
    "plt.plot(val_losses, label='Val Error')\n",
    "plt.legend()"
   ]
  },
  {
   "cell_type": "markdown",
   "id": "961b575f",
   "metadata": {
    "id": "NP1AJH_32H1V",
    "papermill": {
     "duration": 0.992601,
     "end_time": "2021-07-20T20:33:41.440291",
     "exception": false,
     "start_time": "2021-07-20T20:33:40.447690",
     "status": "completed"
    },
    "tags": []
   },
   "source": [
    "## Retrain the model on the full train dataset"
   ]
  },
  {
   "cell_type": "code",
   "execution_count": 14,
   "id": "f4649720",
   "metadata": {
    "execution": {
     "iopub.execute_input": "2021-07-20T20:33:43.346177Z",
     "iopub.status.busy": "2021-07-20T20:33:43.345283Z",
     "iopub.status.idle": "2021-07-20T20:36:08.322857Z",
     "shell.execute_reply": "2021-07-20T20:36:08.323325Z",
     "shell.execute_reply.started": "2021-07-20T20:11:59.703706Z"
    },
    "id": "7lCC0Tlv2Hld",
    "outputId": "e8c39a0f-e9f8-41b1-c3c6-b4328fdf05e1",
    "papermill": {
     "duration": 145.92005,
     "end_time": "2021-07-20T20:36:08.323510",
     "exception": false,
     "start_time": "2021-07-20T20:33:42.403460",
     "status": "completed"
    },
    "tags": []
   },
   "outputs": [
    {
     "name": "stdout",
     "output_type": "stream",
     "text": [
      "Iteration 1 | 10% (0m 16s) Loss = 4.4191\n",
      "Iteration 2 | 20% (0m 30s) Loss = 4.1179\n",
      "Iteration 3 | 30% (0m 45s) Loss = 3.9974\n",
      "Iteration 4 | 40% (0m 59s) Loss = 3.9468\n",
      "Iteration 5 | 50% (1m 13s) Loss = 3.8651\n",
      "Iteration 6 | 60% (1m 28s) Loss = 3.8398\n",
      "Iteration 7 | 70% (1m 42s) Loss = 3.7982\n",
      "Iteration 8 | 80% (1m 56s) Loss = 3.7448\n",
      "Iteration 9 | 90% (2m 10s) Loss = 3.6932\n",
      "Iteration 10 | 100% (2m 24s) Loss = 3.6505\n"
     ]
    }
   ],
   "source": [
    "params = {'batch_size': BATCH_SIZE,\n",
    "          'shuffle': True,\n",
    "          'num_workers': 0}\n",
    "\n",
    "commonlit_dataset3 = CommonLitDataset(enc_full_training_X, full_training_Y, full_training_lengths)\n",
    "full_training_generator = torch.utils.data.DataLoader(commonlit_dataset3, **params)\n",
    "\n",
    "final_model = MDNLSTM(hidden_dim).to(device)\n",
    "\n",
    "epochs = best_val_epoch\n",
    "\n",
    "all_losses = []\n",
    "\n",
    "start = time.time()\n",
    "\n",
    "parameters = filter(lambda p: p.requires_grad, final_model.parameters())\n",
    "optimizer = torch.optim.Adam(parameters, lr=lr)\n",
    "\n",
    "for iter in range(1, epochs + 1):\n",
    "    total = 0\n",
    "    current_loss = 0.0\n",
    "    final_model.train()\n",
    "    for (x, seq_len), y in full_training_generator:\n",
    "        x, y = x.to(device), y.to(device)\n",
    "        optimizer.zero_grad()\n",
    "\n",
    "        (pi, mu, sigma), hidden = final_model(x, seq_len)\n",
    "        loss = criterion(y, pi, mu, sigma)\n",
    "        \n",
    "        # Backward and optimize\n",
    "        mdnlstm.zero_grad()\n",
    "        loss.backward()\n",
    "        # clip_grad_norm_(mdnlstm.parameters(), 0.5)\n",
    "        optimizer.step()\n",
    "\n",
    "        current_loss += loss.item()*y.shape[0]\n",
    "        total += y.shape[0]\n",
    "\n",
    "    # Mean squared error\n",
    "    current_loss /= total\n",
    "\n",
    "    # Print iter number, loss\n",
    "    if iter % print_every == 0:\n",
    "        print('Iteration %d | %d%% (%s) Loss = %.4f' % (iter, iter / epochs * 100, timeSince(start), current_loss))\n",
    "\n",
    "    # Add current loss avg to list of losses\n",
    "    if iter % plot_every == 0:\n",
    "        all_losses.append(current_loss / plot_every)\n",
    "        current_loss = 0"
   ]
  },
  {
   "cell_type": "code",
   "execution_count": 15,
   "id": "ce8a93e1",
   "metadata": {
    "execution": {
     "iopub.execute_input": "2021-07-20T20:36:10.608498Z",
     "iopub.status.busy": "2021-07-20T20:36:10.607201Z",
     "iopub.status.idle": "2021-07-20T20:36:10.768449Z",
     "shell.execute_reply": "2021-07-20T20:36:10.769336Z",
     "shell.execute_reply.started": "2021-07-20T20:13:39.166542Z"
    },
    "id": "2Ek2Bi2P8cDS",
    "outputId": "5ca66226-02a8-4164-8d6f-66708720798f",
    "papermill": {
     "duration": 1.428214,
     "end_time": "2021-07-20T20:36:10.769646",
     "exception": false,
     "start_time": "2021-07-20T20:36:09.341432",
     "status": "completed"
    },
    "tags": []
   },
   "outputs": [
    {
     "data": {
      "text/plain": [
       "<matplotlib.legend.Legend at 0x7f8ec61428d0>"
      ]
     },
     "execution_count": 15,
     "metadata": {},
     "output_type": "execute_result"
    },
    {
     "data": {
      "image/png": "[encoded data removed]",
      "text/plain": [
       "<Figure size 432x288 with 1 Axes>"
      ]
     },
     "metadata": {
      "needs_background": "light"
     },
     "output_type": "display_data"
    }
   ],
   "source": [
    "# Plot the learning curve\n",
    "plt.figure()\n",
    "plt.plot(all_losses, label='Training error')\n",
    "plt.legend()"
   ]
  },
  {
   "cell_type": "markdown",
   "id": "afdeced4",
   "metadata": {
    "id": "s1eFoTOT6Ajx",
    "papermill": {
     "duration": 1.051226,
     "end_time": "2021-07-20T20:36:12.917986",
     "exception": false,
     "start_time": "2021-07-20T20:36:11.866760",
     "status": "completed"
    },
    "tags": []
   },
   "source": [
    "## Evaluate the model"
   ]
  },
  {
   "cell_type": "code",
   "execution_count": 16,
   "id": "478c77f2",
   "metadata": {
    "execution": {
     "iopub.execute_input": "2021-07-20T20:36:15.041155Z",
     "iopub.status.busy": "2021-07-20T20:36:15.039266Z",
     "iopub.status.idle": "2021-07-20T20:36:15.041905Z",
     "shell.execute_reply": "2021-07-20T20:36:15.042386Z",
     "shell.execute_reply.started": "2021-07-20T20:13:42.722652Z"
    },
    "id": "b3odVoUa5rXI",
    "papermill": {
     "duration": 1.065681,
     "end_time": "2021-07-20T20:36:15.042546",
     "exception": false,
     "start_time": "2021-07-20T20:36:13.976865",
     "status": "completed"
    },
    "tags": []
   },
   "outputs": [],
   "source": [
    "blind_test_params = {'batch_size': 1,\n",
    "          'shuffle': False,\n",
    "          'num_workers': 0}\n",
    "\n",
    "blind_test_dataset = CommonLitDataset(enc_blind_test_X, np.zeros(enc_blind_test_X.shape), blind_test_lengths)\n",
    "blind_test_generator = torch.utils.data.DataLoader(blind_test_dataset, **blind_test_params)"
   ]
  },
  {
   "cell_type": "code",
   "execution_count": 17,
   "id": "9d45536c",
   "metadata": {
    "execution": {
     "iopub.execute_input": "2021-07-20T20:36:17.169285Z",
     "iopub.status.busy": "2021-07-20T20:36:17.168412Z",
     "iopub.status.idle": "2021-07-20T20:36:25.999267Z",
     "shell.execute_reply": "2021-07-20T20:36:25.999752Z",
     "shell.execute_reply.started": "2021-07-20T20:13:44.203800Z"
    },
    "id": "WSz_-_y_s7x3",
    "outputId": "0c39de1c-6fa9-4100-82ce-75d2185b962b",
    "papermill": {
     "duration": 9.889962,
     "end_time": "2021-07-20T20:36:25.999914",
     "exception": false,
     "start_time": "2021-07-20T20:36:16.109952",
     "status": "completed"
    },
    "tags": []
   },
   "outputs": [
    {
     "name": "stdout",
     "output_type": "stream",
     "text": [
      "Training RMSE = 0.00678418636396892\n"
     ]
    }
   ],
   "source": [
    "\n",
    "print('Training RMSE =', np.sqrt(compute_mse(final_model, full_training_generator) / enc_training_X.shape[0]))\n",
    "    "
   ]
  },
  {
   "cell_type": "markdown",
   "id": "b12cf9b6",
   "metadata": {
    "id": "nGPYFMTABCmK",
    "papermill": {
     "duration": 0.990915,
     "end_time": "2021-07-20T20:36:27.934333",
     "exception": false,
     "start_time": "2021-07-20T20:36:26.943418",
     "status": "completed"
    },
    "tags": []
   },
   "source": [
    "# Compute blind test set outputs"
   ]
  },
  {
   "cell_type": "code",
   "execution_count": 18,
   "id": "db1e1941",
   "metadata": {
    "execution": {
     "iopub.execute_input": "2021-07-20T20:36:29.837863Z",
     "iopub.status.busy": "2021-07-20T20:36:29.836843Z",
     "iopub.status.idle": "2021-07-20T20:36:30.003946Z",
     "shell.execute_reply": "2021-07-20T20:36:30.004373Z",
     "shell.execute_reply.started": "2021-07-20T20:17:44.594478Z"
    },
    "id": "7wnMzcZvCl8Z",
    "outputId": "97ebd72d-a557-4078-af38-83da233e0e76",
    "papermill": {
     "duration": 1.11069,
     "end_time": "2021-07-20T20:36:30.004535",
     "exception": false,
     "start_time": "2021-07-20T20:36:28.893845",
     "status": "completed"
    },
    "tags": []
   },
   "outputs": [
    {
     "name": "stdout",
     "output_type": "stream",
     "text": [
      "c0f722661 -1.7624658346176147\n",
      "f0953f0a5 0.3321051299571991\n",
      "0df072751 -0.5137155652046204\n",
      "04caf4e0c -2.074028730392456\n",
      "0e63f8bea -2.2476508617401123\n",
      "12537fe78 -2.277606964111328\n",
      "965e592c0 -0.206984743475914\n"
     ]
    }
   ],
   "source": [
    "outputs = []\n",
    "with torch.no_grad():\n",
    "    for i, ((x, seq_len), targets_batch) in enumerate(blind_test_generator):\n",
    "        excerpts_batch = x.to(device)\n",
    "\n",
    "        batch_size = excerpts_batch.shape[0]\n",
    "\n",
    "        (pi, mu, sigma), hidden = final_model(excerpts_batch, seq_len)\n",
    "        \n",
    "        y_preds = [torch.normal(mu, sigma)[:, i, :] for i in range(n_gaussians)]\n",
    "        pred = torch.zeros((batch_size, 1)).to(device)\n",
    "        for k, gauss_out in enumerate(y_preds):\n",
    "            pred += gauss_out\n",
    "        out = pred / n_gaussians\n",
    "        \n",
    "        id = blind_test[i, 0]\n",
    "        print(id, out.item())\n",
    "        outputs.append((id, out.item()))\n",
    "\n",
    "# Save outputs to submission.csv\n",
    "if True:\n",
    "    with open('submission.csv', 'w') as f:\n",
    "        f.write('id,target\\n')\n",
    "        for id, o in outputs:\n",
    "            f.write(id+','+str(o)+'\\n')"
   ]
  },
  {
   "cell_type": "markdown",
   "id": "2cca0194",
   "metadata": {
    "id": "RP4t2r6es7x4",
    "papermill": {
     "duration": 1.035204,
     "end_time": "2021-07-20T20:36:31.987443",
     "exception": false,
     "start_time": "2021-07-20T20:36:30.952239",
     "status": "completed"
    },
    "tags": []
   },
   "source": [
    " NEXT:\n",
    "\n",
    "https://pytorch.org/tutorials/beginner/basics/data_tutorial.html\n",
    " \n",
    " \n",
    " \n",
    "    Try the nn.LSTM and nn.GRU layers\n",
    "    Combine multiple of these RNNs as a higher level network\n"
   ]
  },
  {
   "cell_type": "code",
   "execution_count": null,
   "id": "150066fc",
   "metadata": {
    "id": "wt08ZXlQ5gvI",
    "papermill": {
     "duration": 1.00188,
     "end_time": "2021-07-20T20:36:34.132730",
     "exception": false,
     "start_time": "2021-07-20T20:36:33.130850",
     "status": "completed"
    },
    "tags": []
   },
   "outputs": [],
   "source": []
  }
 ],
 "metadata": {
  "kernelspec": {
   "display_name": "Python 3",
   "language": "python",
   "name": "python3"
  },
  "language_info": {
   "codemirror_mode": {
    "name": "ipython",
    "version": 3
   },
   "file_extension": ".py",
   "mimetype": "text/x-python",
   "name": "python",
   "nbconvert_exporter": "python",
   "pygments_lexer": "ipython3",
   "version": "3.7.10"
  },
  "papermill": {
   "default_parameters": {},
   "duration": 1104.564334,
   "end_time": "2021-07-20T20:36:37.941763",
   "environment_variables": {},
   "exception": null,
   "input_path": "__notebook__.ipynb",
   "output_path": "__notebook__.ipynb",
   "parameters": {},
   "start_time": "2021-07-20T20:18:13.377429",
   "version": "2.3.3"
  }
 },
 "nbformat": 4,
 "nbformat_minor": 5
}
