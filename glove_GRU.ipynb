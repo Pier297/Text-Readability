{
  "nbformat": 4,
  "nbformat_minor": 0,
  "metadata": {
    "accelerator": "GPU",
    "colab": {
      "name": "glove_GRU.ipynb",
      "provenance": [],
      "collapsed_sections": []
    },
    "kernelspec": {
      "display_name": "Python 3 (ipykernel)",
      "language": "python",
      "name": "python3"
    },
    "language_info": {
      "codemirror_mode": {
        "name": "ipython",
        "version": 3
      },
      "file_extension": ".py",
      "mimetype": "text/x-python",
      "name": "python",
      "nbconvert_exporter": "python",
      "pygments_lexer": "ipython3",
      "version": "3.8.10"
    }
  },
  "cells": [
    {
      "cell_type": "markdown",
      "metadata": {
        "id": "icNlOrUPs7xp"
      },
      "source": [
        "We'll first try with the simplest possible approach based on char-RNN that read all the excerpt and predicts in output the target complexity."
      ]
    },
    {
      "cell_type": "code",
      "metadata": {
        "colab": {
          "base_uri": "https://localhost:8080/"
        },
        "id": "1RoiZuW4l1Ed",
        "outputId": "f04cc625-720b-4945-ceb1-a38bc4dd5829"
      },
      "source": [
        "!pip install torchtext"
      ],
      "execution_count": 1,
      "outputs": [
        {
          "output_type": "stream",
          "text": [
            "Requirement already satisfied: torchtext in /usr/local/lib/python3.7/dist-packages (0.10.0)\n",
            "Requirement already satisfied: numpy in /usr/local/lib/python3.7/dist-packages (from torchtext) (1.19.5)\n",
            "Requirement already satisfied: torch==1.9.0 in /usr/local/lib/python3.7/dist-packages (from torchtext) (1.9.0+cu102)\n",
            "Requirement already satisfied: tqdm in /usr/local/lib/python3.7/dist-packages (from torchtext) (4.41.1)\n",
            "Requirement already satisfied: requests in /usr/local/lib/python3.7/dist-packages (from torchtext) (2.23.0)\n",
            "Requirement already satisfied: typing-extensions in /usr/local/lib/python3.7/dist-packages (from torch==1.9.0->torchtext) (3.7.4.3)\n",
            "Requirement already satisfied: idna<3,>=2.5 in /usr/local/lib/python3.7/dist-packages (from requests->torchtext) (2.10)\n",
            "Requirement already satisfied: urllib3!=1.25.0,!=1.25.1,<1.26,>=1.21.1 in /usr/local/lib/python3.7/dist-packages (from requests->torchtext) (1.24.3)\n",
            "Requirement already satisfied: certifi>=2017.4.17 in /usr/local/lib/python3.7/dist-packages (from requests->torchtext) (2021.5.30)\n",
            "Requirement already satisfied: chardet<4,>=3.0.2 in /usr/local/lib/python3.7/dist-packages (from requests->torchtext) (3.0.4)\n"
          ],
          "name": "stdout"
        }
      ]
    },
    {
      "cell_type": "code",
      "metadata": {
        "colab": {
          "base_uri": "https://localhost:8080/"
        },
        "id": "kAIyrp5Fs7xt",
        "outputId": "6d19b74b-12d8-4a4b-d3bf-c863ca598166"
      },
      "source": [
        "import numpy as np\n",
        "import torch\n",
        "import random\n",
        "import os\n",
        "import torch.nn as nn\n",
        "import pandas as pd\n",
        "import matplotlib.pyplot as plt\n",
        "import string\n",
        "from torch.utils.data import Dataset\n",
        "from torch.nn.utils.rnn import pack_padded_sequence\n",
        "from torchtext.vocab import GloVe\n",
        "\n",
        "device = torch.device(\"cuda\" if torch.cuda.is_available() else \"cpu\")\n",
        "print(f\"{device} is used\")\n",
        "\n",
        "# seed everything\n",
        "seed = 1\n",
        "random.seed(seed)\n",
        "os.environ['PYTHONASSEED'] = str(seed)\n",
        "np.random.seed(seed)\n",
        "torch.manual_seed(seed)\n",
        "torch.cuda.manual_seed(seed)\n",
        "torch.backends.cudnn.deterministic = True\n",
        "torch.backends.cudnn.benchmark = True\n",
        "#os.environ['WANDB_CONSOLE'] = 'off'"
      ],
      "execution_count": 2,
      "outputs": [
        {
          "output_type": "stream",
          "text": [
            "cuda is used\n"
          ],
          "name": "stdout"
        }
      ]
    },
    {
      "cell_type": "code",
      "metadata": {
        "colab": {
          "base_uri": "https://localhost:8080/"
        },
        "id": "RXcYbQg6mYOe",
        "outputId": "ed1c339e-5a8f-497b-f8c7-0e6f9ecbb17a"
      },
      "source": [
        "from google.colab import drive\n",
        "drive.mount('/content/drive')"
      ],
      "execution_count": 3,
      "outputs": [
        {
          "output_type": "stream",
          "text": [
            "Mounted at /content/drive\n"
          ],
          "name": "stdout"
        }
      ]
    },
    {
      "cell_type": "code",
      "metadata": {
        "colab": {
          "base_uri": "https://localhost:8080/"
        },
        "id": "nAk8BRNKs7xv",
        "outputId": "28484f14-20dc-45fe-fec7-0bb7ebea3eaa"
      },
      "source": [
        "# Read the data\n",
        "# Internal datasets\n",
        "training = pd.read_csv('/content/drive/MyDrive/Unipi/HLT/HLT-Project/internal_train.csv').to_numpy()\n",
        "test = pd.read_csv('/content/drive/MyDrive/Unipi/HLT/HLT-Project/internal_test.csv').to_numpy()\n",
        "# Real datasets (Keep only these ones for kaggle (delete test))\n",
        "blind_test = pd.read_csv('/content/drive/MyDrive/Unipi/HLT/HLT-Project/test.csv').to_numpy()\n",
        "full_training = pd.read_csv('/content/drive/MyDrive/Unipi/HLT/HLT-Project/train.csv').to_numpy()\n",
        "\n",
        "# TODO: Remove to train on full dataset\n",
        "#training = training[:10, :]\n",
        "\n",
        "training = np.random.permutation(training)\n",
        "print(training.shape, test.shape, blind_test.shape, full_training.shape)"
      ],
      "execution_count": 4,
      "outputs": [
        {
          "output_type": "stream",
          "text": [
            "(2434, 6) (400, 6) (7, 4) (2834, 6)\n"
          ],
          "name": "stdout"
        }
      ]
    },
    {
      "cell_type": "code",
      "metadata": {
        "colab": {
          "base_uri": "https://localhost:8080/"
        },
        "id": "MIYcHII9s7xv",
        "outputId": "aab5ef5f-cfdc-474c-aa12-20c5ba2020c9"
      },
      "source": [
        "# id,url_legal,license,excerpt,target,standard_error\n",
        "\n",
        "# We have 5 features (id,url_legal,license,excerpt,standard_error) and 1 output 'target'\n",
        "\n",
        "# For our model we'll only use the excerpt as a feature\n",
        "training_X = training[:, 3]\n",
        "training_Y = training[:, 4]\n",
        "print('training shape =', training_X.shape, training_Y.shape)\n",
        "\n",
        "full_training_X = full_training[:, 3]\n",
        "full_training_Y = full_training[:, 4]\n",
        "print('Real training shape =', full_training_X.shape, full_training_Y.shape)\n",
        "\n",
        "test_X = test[:, 3]\n",
        "test_Y = test[:, 4]\n",
        "print('test shape =', test_X.shape, test_Y.shape)\n",
        "\n",
        "blind_test_X = blind_test[:, 3]\n",
        "print('BLIND test shape =', blind_test_X.shape)"
      ],
      "execution_count": 5,
      "outputs": [
        {
          "output_type": "stream",
          "text": [
            "training shape = (2434,) (2434,)\n",
            "Real training shape = (2834,) (2834,)\n",
            "test shape = (400,) (400,)\n",
            "BLIND test shape = (7,)\n"
          ],
          "name": "stdout"
        }
      ]
    },
    {
      "cell_type": "code",
      "metadata": {
        "colab": {
          "base_uri": "https://localhost:8080/"
        },
        "id": "qi8sdh8qs7xw",
        "outputId": "5e66e0a4-c50d-4fe1-a7fb-a283a485429b"
      },
      "source": [
        "print(training_X[0])\n",
        "print('\\nTarget =', training_Y[0])"
      ],
      "execution_count": 6,
      "outputs": [
        {
          "output_type": "stream",
          "text": [
            "I have found that when I used blood charcoal or bone coal in place of wood coal it was still more efficient; but it must be mentioned that when they are used they must be purified as follows before using: Charcoal from blood contains potash and hence it is necessary to wash it with distilled water and dry it before using it. Bone coal (also called bone black, animal charcoal, etc.) contains on an average 10 per cent. of nitrogenous and hydrogenated carbon, 8 per cent. of carbonate of lime, 78 per cent. of phosphate of lime, besides phosphate of magnesia, sulphate of lime, soluble salts, etc. Before using, it should be treated with dilute hydrochloric acid until it does not effervesce any more. The bone coal is then left to stand for 24 or 30 hours and at the end of this time is washed with distilled water until the wash water no longer reddens a blue piece of litmus paper, i.e., until every trace of hydrochloric acid has been removed from the bone coal. Wood charcoal may be treated in like manner.\n",
            "\n",
            "Target = -2.308546397\n"
          ],
          "name": "stdout"
        }
      ]
    },
    {
      "cell_type": "markdown",
      "metadata": {
        "id": "vh-F3FJjs7xy"
      },
      "source": [
        "### Turning excerpts into Tensors\n",
        "\n",
        "Map each word to the its glove embeddings ID"
      ]
    },
    {
      "cell_type": "code",
      "metadata": {
        "colab": {
          "base_uri": "https://localhost:8080/"
        },
        "id": "mHwGRXqT1-d_",
        "outputId": "4feb6774-f861-4f54-f95b-8bf500a73807"
      },
      "source": [
        "import re\n",
        "from torchtext.legacy import data, datasets, vocab\n",
        "\n",
        "embedding_dim = 300\n",
        "glove = GloVe(name=\"840B\", dim=embedding_dim)\n",
        "\n",
        "# Turn a line of words into the curresponding indices\n",
        "def lineToTensor(line):\n",
        "    # Split a string into array of words and punctation\n",
        "    # \"Much, fun.\" => [\"Much\", \",\", \"fun\", \".\"]\n",
        "    words = re.findall(r\"[\\w']+|[.,!?;]\", line)\n",
        "    tensor = torch.tensor([glove.stoi[w] for w in words if w in glove.stoi], dtype=torch.long)\n",
        "    return tensor\n",
        "\n",
        "print(lineToTensor(training_X[0]))"
      ],
      "execution_count": 7,
      "outputs": [
        {
          "output_type": "stream",
          "text": [
            ".vector_cache/glove.840B.300d.zip: 2.18GB [06:51, 5.29MB/s]                            \n",
            "100%|█████████▉| 2195162/2196017 [03:42<00:00, 10370.06it/s]"
          ],
          "name": "stderr"
        },
        {
          "output_type": "stream",
          "text": [
            "tensor([    12,     31,    254,     15,     82,     12,    183,   1231,  19259,\n",
            "            32,   4868,   7604,      7,    246,      5,   2179,   7604,     21,\n",
            "            30,    194,     50,   3239,     54,     42,     21,    265,     26,\n",
            "          1880,     15,     82,     49,     23,    183,     49,    265,     26,\n",
            "         26823,     28,   3186,    182,    245,  22786,     29,   1231,   1795,\n",
            "         88291,      3,   6759,     21,     10,   1222,      4,   5003,     21,\n",
            "            19,  29893,    333,      3,   2065,     21,    182,    245,     21,\n",
            "             1,  10812,   7604,     89,    416,   4868,    536,      0,   2479,\n",
            "         19259,      0,   2605,      1,   1795,     17,     39,   1149,    167,\n",
            "           404,   4018,      1,      5, 194722,      3,  64460,   4052,      0,\n",
            "           236,    404,   4018,      1,      5,  33234,      5,  12209,      0,\n",
            "          4795,    404,   4018,      1,      5,  27451,      5,  12209,      0,\n",
            "          6139,  27451,      5, 183295,      0,  70949,      5,  12209,      0,\n",
            "         24800,  22447,      0,   2605,      1,   2103,    245,      0,     21,\n",
            "           139,     26,   2926,     19,  38554,  77692,   3689,    355,     21,\n",
            "           154,     35, 766741,     97,     50,      1,     22,   4868,   7604,\n",
            "            10,    123,    331,      4,   1333,     11,    418,     32,    307,\n",
            "           419,      3,     25,      2,    283,      5,     27,     77,     10,\n",
            "          9734,     19,  29893,    333,    355,      2,   5003,    333,     96,\n",
            "           843, 516258,      6,   1394,   1104,      5,  74455,    872,      0,\n",
            "           108,      1,   1939,      1,      0,    355,    230,   9347,      5,\n",
            "         77692,   3689,     45,     84,   2471,     29,      2,   4868,   7604,\n",
            "             1,   3121,  19259,    119,     26,   2926,      7,     64,   2707,\n",
            "             1])\n"
          ],
          "name": "stdout"
        }
      ]
    },
    {
      "cell_type": "code",
      "metadata": {
        "colab": {
          "base_uri": "https://localhost:8080/"
        },
        "id": "6s8cf7iTs7xz",
        "outputId": "6f579d28-e7e4-44dd-e896-52865bb134b2"
      },
      "source": [
        "# We want the entire dataset encoded with the glove embeddings\n",
        "# So, the final size will be (n_samples, 1, excerpt_length, embedding_dim) (extra dimension 1 inserted for pytorch batch)\n",
        "# Since a tensor has fixed size we pad the sequences to ensure all have the same length.\n",
        "\n",
        "# Get the max excerpt length and encode the training set\n",
        "max_excerpt_len = len(max(training_X, key=len))\n",
        "enc_training_X = np.zeros((training_X.shape[0], 1, max_excerpt_len,))\n",
        "training_lengths = []\n",
        "for i, x in enumerate(training_X):\n",
        "    enc_x = lineToTensor(x)\n",
        "    enc_training_X[i, 0, :enc_x.shape[0]] = enc_x\n",
        "    training_lengths.append(enc_x.shape[0])\n",
        "\n",
        "print('encoded Training shape =',enc_training_X.shape)\n",
        "\n",
        "\n",
        "max_excerpt_len = len(max(full_training_X, key=len))\n",
        "enc_full_training_X = np.zeros((full_training_X.shape[0], 1, max_excerpt_len,))\n",
        "full_training_lengths = []\n",
        "for i, x in enumerate(full_training_X):\n",
        "    enc_x = lineToTensor(x)\n",
        "    enc_full_training_X[i, 0, :enc_x.shape[0]] = enc_x\n",
        "    full_training_lengths.append(enc_x.shape[0])\n",
        "\n",
        "print('encoded Real/Full Training shape =',enc_full_training_X.shape)\n",
        "\n",
        "\n",
        "max_excerpt_len = len(max(test_X, key=len))\n",
        "enc_test_X = np.zeros((test_X.shape[0], 1, max_excerpt_len,))\n",
        "test_lengths = []\n",
        "for i, x in enumerate(test_X):\n",
        "    enc_x = lineToTensor(x)\n",
        "    enc_test_X[i, 0, :enc_x.shape[0]] = enc_x\n",
        "    test_lengths.append(enc_x.shape[0])\n",
        "\n",
        "print('enc. Test shape =', enc_test_X.shape)\n",
        "\n",
        "\n",
        "max_excerpt_len = len(max(blind_test_X, key=len))\n",
        "enc_blind_test_X = np.zeros((blind_test_X.shape[0], 1, max_excerpt_len,))\n",
        "blind_test_lengths = []\n",
        "for i, x in enumerate(blind_test_X):\n",
        "    enc_x = lineToTensor(x)\n",
        "    enc_blind_test_X[i, 0, :enc_x.shape[0]] = enc_x\n",
        "    blind_test_lengths.append(enc_x.shape[0])\n",
        "\n",
        "print('enc. Test shape =', enc_blind_test_X.shape)"
      ],
      "execution_count": 8,
      "outputs": [
        {
          "output_type": "stream",
          "text": [
            "encoded Training shape = (2434, 1, 1341)\n",
            "encoded Real/Full Training shape = (2834, 1, 1341)\n",
            "enc. Test shape = (400, 1, 1323)\n",
            "enc. Test shape = (7, 1, 1144)\n"
          ],
          "name": "stdout"
        }
      ]
    },
    {
      "cell_type": "code",
      "metadata": {
        "colab": {
          "base_uri": "https://localhost:8080/"
        },
        "id": "nKV-nZKJs7x0",
        "outputId": "4c026038-397e-46dd-9a90-74a89017e192"
      },
      "source": [
        "from math import floor\n",
        "#Utility function to get a random sample\n",
        "def randomTrainingExample():\n",
        "    i = np.random.randint(0, training_X.shape[0])\n",
        "    excerpt_tensor = lineToTensor(training_X[i])\n",
        "    target_tensor = torch.tensor(training_Y[i], dtype=torch.float)\n",
        "    return excerpt_tensor, target_tensor\n",
        "\n",
        "randomTrainingExample()"
      ],
      "execution_count": 9,
      "outputs": [
        {
          "output_type": "execute_result",
          "data": {
            "text/plain": [
              "(tensor([ 61946,     99,     31,   3917,     52, 216787,     11,      6,    212,\n",
              "              0,     42,   4090,      3,   4620,    194,     47,     35,    113,\n",
              "            114,    138,     52,     21,      1,    242,     51,   1492,    657,\n",
              "         216787,     41,    192,     99,     32,     68,     21,    406,   2833,\n",
              "          29441,     99,     50,    661,      1,  13831,    510,      4,    702,\n",
              "             50,     52, 216787,     24,   2193,  29441,     99,     52,     58,\n",
              "           2674,      5, 216787,     32,  31521,      0,     32,   8713,   3080,\n",
              "              5,    830,     32,  17965,      4,     26,     64,    458,    639,\n",
              "              1,    148,    549,      0,      6,    377,    291,   6903,     58,\n",
              "          13002,     24,  17965,      4,   1532,      7,      6,    239,    153,\n",
              "             68,     49,     47,     35,    700,      2,   1547,      1,  61946,\n",
              "             99,   1594,     15,     49,  32706,     58,  13002,    145,     49,\n",
              "            157,      4,    111,    476,      3,    498,   4866,     19,     99,\n",
              "              0,      3,    145, 216787,     41,     26,   1704,      4,     92,\n",
              "              1,    605,     99,    291,  32706,     58,  13002,     82,     49,\n",
              "             23,     25,    329,     32,    134,      0,     59,     15,     99,\n",
              "             47,     35,   2625,     92,   7231,      3,     49,     41,   9151,\n",
              "             17,     78,     49,     31,      4,     47,      1,    605,     99,\n",
              "          32706,     58,  13002,     82,     49,    822,     94,     99,      0,\n",
              "             59,     15,     49,     41,    111,      6,    112,   5731,      3,\n",
              "            889,    478,    476,      1,    605,     99,     38,    709, 216787,\n",
              "             82,     49,     86,      4,    113,    458,    114,    133,      0,\n",
              "             68,     49,    137,      2,    377,     38,   2089,     92,    153,\n",
              "             82,     49,   1585,     50,  29441,      1]), tensor(-0.5144))"
            ]
          },
          "metadata": {
            "tags": []
          },
          "execution_count": 9
        }
      ]
    },
    {
      "cell_type": "code",
      "metadata": {
        "id": "TxgzMVEws7x0"
      },
      "source": [
        "class CommonLitDataset(Dataset):\n",
        "    # X: numpy matrix (n_samples, 1, excerpt_length, embedding_dim)\n",
        "    def __init__(self, X, Y, lengths):\n",
        "        self.X = X\n",
        "        self.Y = Y\n",
        "        self.lengths = lengths\n",
        "\n",
        "    def __len__(self):\n",
        "        return self.X.shape[0]\n",
        "\n",
        "    def __getitem__(self, idx):\n",
        "        return (glove.vectors[self.X[idx][0]].float(), self.lengths[idx]), torch.tensor(self.Y[idx]).float()"
      ],
      "execution_count": 10,
      "outputs": []
    },
    {
      "cell_type": "code",
      "metadata": {
        "id": "jLjCYgNls7x0"
      },
      "source": [
        "# Define the model\n",
        "\n",
        "class GRU(nn.Module):\n",
        "    def __init__(self, hidden_dim):\n",
        "        super(GRU, self).__init__()\n",
        "        self.hidden_dim = hidden_dim\n",
        "        self.gru = nn.GRU(embedding_dim, hidden_dim, num_layers=3, batch_first=True)\n",
        "        self.linear = nn.Linear(hidden_dim, 1)\n",
        "\n",
        "    def forward(self, x, sequence_length):\n",
        "        x_pack = pack_padded_sequence(x, sequence_length, batch_first=True, enforce_sorted=False)\n",
        "        lstm_out, ht = self.gru(x_pack)\n",
        "        return self.linear(ht[-1])\n",
        "\n",
        "    def initHidden(self, batch_size):\n",
        "        return (torch.zeros(1, batch_size, self.hidden_dim), torch.zeros(1, batch_size, self.hidden_dim))\n"
      ],
      "execution_count": 25,
      "outputs": []
    },
    {
      "cell_type": "code",
      "metadata": {
        "id": "lbzD09zHqmfF"
      },
      "source": [
        "def compute_mse(model, generator):\n",
        "    model.eval()\n",
        "    mse = 0.0\n",
        "    error = nn.MSELoss(reduction='sum')\n",
        "    n = 0\n",
        "    for (x, seq_len), y in generator:\n",
        "        x, targets_batch = x.to(device), y.to(device)\n",
        "\n",
        "        batch_size = x.shape[0]\n",
        "        n += batch_size\n",
        "\n",
        "        output = model(x, seq_len)\n",
        "\n",
        "        targets_batch = torch.reshape(targets_batch, (batch_size, 1))\n",
        "\n",
        "        loss = error(output, targets_batch)\n",
        "        mse += loss.item()\n",
        "    return mse / n"
      ],
      "execution_count": 12,
      "outputs": []
    },
    {
      "cell_type": "code",
      "metadata": {
        "colab": {
          "base_uri": "https://localhost:8080/",
          "height": 593
        },
        "id": "WNTcVkpes7x2",
        "outputId": "12646d89-b836-4775-e939-706b7d83f357"
      },
      "source": [
        "import time\n",
        "from math import floor, inf\n",
        "\n",
        "# Keep track of losses for plotting\n",
        "current_loss = 0\n",
        "all_losses = []\n",
        "\n",
        "def timeSince(since):\n",
        "    now = time.time()\n",
        "    s = now - since\n",
        "    m = floor(s / 60)\n",
        "    s -= m * 60\n",
        "    return '%dm %ds' % (m, s)\n",
        "\n",
        "start = time.time()\n",
        "print_every = 1\n",
        "plot_every = 1\n",
        "\n",
        "\n",
        "BATCH_SIZE = 16     # batch = 16\n",
        "hidden_dim = 256    # 256\n",
        "epochs = 150          # 75\n",
        "lr = 0.00003         # 0.00005\n",
        "weight_decay = 1e-8 # 1e-7\n",
        "\n",
        "# test_error = 0.61\n",
        "\n",
        "gru = GRU(hidden_dim).to(device)\n",
        "\n",
        "criterion = nn.MSELoss()\n",
        "\n",
        "parameters = filter(lambda p: p.requires_grad, gru.parameters())\n",
        "optimizer = torch.optim.Adam(parameters, lr=lr, weight_decay=weight_decay)\n",
        "\n",
        "params = {'batch_size': BATCH_SIZE,\n",
        "          'shuffle': True,\n",
        "          'num_workers': 0}\n",
        "\n",
        "commonlit_dataset1 = CommonLitDataset(enc_training_X[400:], training_Y[400:], training_lengths[400:])\n",
        "training_generator = torch.utils.data.DataLoader(commonlit_dataset1, **params)\n",
        "\n",
        "commonlit_dataset2 = CommonLitDataset(enc_training_X[:400], training_Y[:400], training_lengths[:400])\n",
        "validation_generator = torch.utils.data.DataLoader(commonlit_dataset2, **params)\n",
        "\n",
        "# Early stopping logic\n",
        "val_losses = []\n",
        "best_val_error = inf\n",
        "best_val_epoch = 0\n",
        "\n",
        "for iter in range(1, epochs + 1):\n",
        "    total = 0\n",
        "    current_loss = 0.0\n",
        "    gru.train()\n",
        "    for (x, seq_len), y in training_generator:\n",
        "        x, y = x.to(device), y.to(device)\n",
        "        optimizer.zero_grad()\n",
        "        y_pred = gru(x, seq_len)\n",
        "\n",
        "        loss = criterion(y_pred, y.unsqueeze(-1))\n",
        "        loss.backward()\n",
        "        optimizer.step()\n",
        "        current_loss += loss.item()*y.shape[0]\n",
        "        total += y.shape[0]\n",
        "\n",
        "    # Mean squared error\n",
        "    current_loss /= total\n",
        "\n",
        "    current_val_error = compute_mse(gru, validation_generator)\n",
        "    val_losses.append(current_val_error)\n",
        "    if current_val_error < best_val_error:\n",
        "        best_val_error = current_val_error\n",
        "        best_val_epoch = iter\n",
        "\n",
        "    # Print iter number, loss\n",
        "    if iter % print_every == 0:\n",
        "        print('Iteration %d | %d%% (%s) MSE = %.4f Val MSE = %.4f' % (iter, iter / epochs * 100, timeSince(start), current_loss, current_val_error))\n",
        "\n",
        "    # Add current loss avg to list of losses\n",
        "    if iter % plot_every == 0:\n",
        "        all_losses.append(current_loss / plot_every)\n",
        "        current_loss = 0"
      ],
      "execution_count": 24,
      "outputs": [
        {
          "output_type": "stream",
          "text": [
            "Iteration 1 | 0% (0m 7s) MSE = 1.8350 Val MSE = 1.8815\n",
            "Iteration 2 | 1% (0m 13s) MSE = 1.7498 Val MSE = 1.7034\n",
            "Iteration 3 | 2% (0m 19s) MSE = 1.4681 Val MSE = 1.3694\n",
            "Iteration 4 | 2% (0m 26s) MSE = 1.2116 Val MSE = 1.1607\n",
            "Iteration 5 | 3% (0m 32s) MSE = 1.0930 Val MSE = 1.0967\n",
            "Iteration 6 | 4% (0m 38s) MSE = 1.0689 Val MSE = 1.0869\n",
            "Iteration 7 | 4% (0m 44s) MSE = 1.0669 Val MSE = 1.0855\n",
            "Iteration 8 | 5% (0m 51s) MSE = 1.0668 Val MSE = 1.0858\n",
            "Iteration 9 | 6% (0m 57s) MSE = 1.0669 Val MSE = 1.0857\n",
            "Iteration 10 | 6% (1m 4s) MSE = 1.0670 Val MSE = 1.0859\n"
          ],
          "name": "stdout"
        },
        {
          "output_type": "error",
          "ename": "KeyboardInterrupt",
          "evalue": "ignored",
          "traceback": [
            "\u001b[0;31m---------------------------------------------------------------------------\u001b[0m",
            "\u001b[0;31mKeyboardInterrupt\u001b[0m                         Traceback (most recent call last)",
            "\u001b[0;32m<ipython-input-24-091ad0668bbc>\u001b[0m in \u001b[0;36m<module>\u001b[0;34m()\u001b[0m\n\u001b[1;32m     55\u001b[0m         \u001b[0mx\u001b[0m\u001b[0;34m,\u001b[0m \u001b[0my\u001b[0m \u001b[0;34m=\u001b[0m \u001b[0mx\u001b[0m\u001b[0;34m.\u001b[0m\u001b[0mto\u001b[0m\u001b[0;34m(\u001b[0m\u001b[0mdevice\u001b[0m\u001b[0;34m)\u001b[0m\u001b[0;34m,\u001b[0m \u001b[0my\u001b[0m\u001b[0;34m.\u001b[0m\u001b[0mto\u001b[0m\u001b[0;34m(\u001b[0m\u001b[0mdevice\u001b[0m\u001b[0;34m)\u001b[0m\u001b[0;34m\u001b[0m\u001b[0;34m\u001b[0m\u001b[0m\n\u001b[1;32m     56\u001b[0m         \u001b[0moptimizer\u001b[0m\u001b[0;34m.\u001b[0m\u001b[0mzero_grad\u001b[0m\u001b[0;34m(\u001b[0m\u001b[0;34m)\u001b[0m\u001b[0;34m\u001b[0m\u001b[0;34m\u001b[0m\u001b[0m\n\u001b[0;32m---> 57\u001b[0;31m         \u001b[0my_pred\u001b[0m \u001b[0;34m=\u001b[0m \u001b[0mgru\u001b[0m\u001b[0;34m(\u001b[0m\u001b[0mx\u001b[0m\u001b[0;34m,\u001b[0m \u001b[0mseq_len\u001b[0m\u001b[0;34m)\u001b[0m\u001b[0;34m\u001b[0m\u001b[0;34m\u001b[0m\u001b[0m\n\u001b[0m\u001b[1;32m     58\u001b[0m \u001b[0;34m\u001b[0m\u001b[0m\n\u001b[1;32m     59\u001b[0m         \u001b[0mloss\u001b[0m \u001b[0;34m=\u001b[0m \u001b[0mcriterion\u001b[0m\u001b[0;34m(\u001b[0m\u001b[0my_pred\u001b[0m\u001b[0;34m,\u001b[0m \u001b[0my\u001b[0m\u001b[0;34m.\u001b[0m\u001b[0munsqueeze\u001b[0m\u001b[0;34m(\u001b[0m\u001b[0;34m-\u001b[0m\u001b[0;36m1\u001b[0m\u001b[0;34m)\u001b[0m\u001b[0;34m)\u001b[0m\u001b[0;34m\u001b[0m\u001b[0;34m\u001b[0m\u001b[0m\n",
            "\u001b[0;32m/usr/local/lib/python3.7/dist-packages/torch/nn/modules/module.py\u001b[0m in \u001b[0;36m_call_impl\u001b[0;34m(self, *input, **kwargs)\u001b[0m\n\u001b[1;32m   1049\u001b[0m         if not (self._backward_hooks or self._forward_hooks or self._forward_pre_hooks or _global_backward_hooks\n\u001b[1;32m   1050\u001b[0m                 or _global_forward_hooks or _global_forward_pre_hooks):\n\u001b[0;32m-> 1051\u001b[0;31m             \u001b[0;32mreturn\u001b[0m \u001b[0mforward_call\u001b[0m\u001b[0;34m(\u001b[0m\u001b[0;34m*\u001b[0m\u001b[0minput\u001b[0m\u001b[0;34m,\u001b[0m \u001b[0;34m**\u001b[0m\u001b[0mkwargs\u001b[0m\u001b[0;34m)\u001b[0m\u001b[0;34m\u001b[0m\u001b[0;34m\u001b[0m\u001b[0m\n\u001b[0m\u001b[1;32m   1052\u001b[0m         \u001b[0;31m# Do not call functions when jit is used\u001b[0m\u001b[0;34m\u001b[0m\u001b[0;34m\u001b[0m\u001b[0;34m\u001b[0m\u001b[0m\n\u001b[1;32m   1053\u001b[0m         \u001b[0mfull_backward_hooks\u001b[0m\u001b[0;34m,\u001b[0m \u001b[0mnon_full_backward_hooks\u001b[0m \u001b[0;34m=\u001b[0m \u001b[0;34m[\u001b[0m\u001b[0;34m]\u001b[0m\u001b[0;34m,\u001b[0m \u001b[0;34m[\u001b[0m\u001b[0;34m]\u001b[0m\u001b[0;34m\u001b[0m\u001b[0;34m\u001b[0m\u001b[0m\n",
            "\u001b[0;32m<ipython-input-22-3e758ee12331>\u001b[0m in \u001b[0;36mforward\u001b[0;34m(self, x, sequence_length)\u001b[0m\n\u001b[1;32m     16\u001b[0m     \u001b[0;32mdef\u001b[0m \u001b[0mforward\u001b[0m\u001b[0;34m(\u001b[0m\u001b[0mself\u001b[0m\u001b[0;34m,\u001b[0m \u001b[0mx\u001b[0m\u001b[0;34m,\u001b[0m \u001b[0msequence_length\u001b[0m\u001b[0;34m)\u001b[0m\u001b[0;34m:\u001b[0m\u001b[0;34m\u001b[0m\u001b[0;34m\u001b[0m\u001b[0m\n\u001b[1;32m     17\u001b[0m         \u001b[0mx_pack\u001b[0m \u001b[0;34m=\u001b[0m \u001b[0mpack_padded_sequence\u001b[0m\u001b[0;34m(\u001b[0m\u001b[0mx\u001b[0m\u001b[0;34m,\u001b[0m \u001b[0msequence_length\u001b[0m\u001b[0;34m,\u001b[0m \u001b[0mbatch_first\u001b[0m\u001b[0;34m=\u001b[0m\u001b[0;32mTrue\u001b[0m\u001b[0;34m,\u001b[0m \u001b[0menforce_sorted\u001b[0m\u001b[0;34m=\u001b[0m\u001b[0;32mFalse\u001b[0m\u001b[0;34m)\u001b[0m\u001b[0;34m\u001b[0m\u001b[0;34m\u001b[0m\u001b[0m\n\u001b[0;32m---> 18\u001b[0;31m         \u001b[0mlstm_out\u001b[0m\u001b[0;34m,\u001b[0m \u001b[0mht\u001b[0m \u001b[0;34m=\u001b[0m \u001b[0mself\u001b[0m\u001b[0;34m.\u001b[0m\u001b[0mgru\u001b[0m\u001b[0;34m(\u001b[0m\u001b[0mx_pack\u001b[0m\u001b[0;34m)\u001b[0m\u001b[0;34m\u001b[0m\u001b[0;34m\u001b[0m\u001b[0m\n\u001b[0m\u001b[1;32m     19\u001b[0m         \u001b[0mout\u001b[0m \u001b[0;34m=\u001b[0m \u001b[0mself\u001b[0m\u001b[0;34m.\u001b[0m\u001b[0mout_layer1\u001b[0m\u001b[0;34m(\u001b[0m\u001b[0mht\u001b[0m\u001b[0;34m[\u001b[0m\u001b[0;34m-\u001b[0m\u001b[0;36m1\u001b[0m\u001b[0;34m]\u001b[0m\u001b[0;34m)\u001b[0m\u001b[0;34m\u001b[0m\u001b[0;34m\u001b[0m\u001b[0m\n\u001b[1;32m     20\u001b[0m         \u001b[0mout\u001b[0m \u001b[0;34m=\u001b[0m \u001b[0mself\u001b[0m\u001b[0;34m.\u001b[0m\u001b[0mrelu\u001b[0m\u001b[0;34m(\u001b[0m\u001b[0mout\u001b[0m\u001b[0;34m)\u001b[0m\u001b[0;34m\u001b[0m\u001b[0;34m\u001b[0m\u001b[0m\n",
            "\u001b[0;32m/usr/local/lib/python3.7/dist-packages/torch/nn/modules/module.py\u001b[0m in \u001b[0;36m_call_impl\u001b[0;34m(self, *input, **kwargs)\u001b[0m\n\u001b[1;32m   1049\u001b[0m         if not (self._backward_hooks or self._forward_hooks or self._forward_pre_hooks or _global_backward_hooks\n\u001b[1;32m   1050\u001b[0m                 or _global_forward_hooks or _global_forward_pre_hooks):\n\u001b[0;32m-> 1051\u001b[0;31m             \u001b[0;32mreturn\u001b[0m \u001b[0mforward_call\u001b[0m\u001b[0;34m(\u001b[0m\u001b[0;34m*\u001b[0m\u001b[0minput\u001b[0m\u001b[0;34m,\u001b[0m \u001b[0;34m**\u001b[0m\u001b[0mkwargs\u001b[0m\u001b[0;34m)\u001b[0m\u001b[0;34m\u001b[0m\u001b[0;34m\u001b[0m\u001b[0m\n\u001b[0m\u001b[1;32m   1052\u001b[0m         \u001b[0;31m# Do not call functions when jit is used\u001b[0m\u001b[0;34m\u001b[0m\u001b[0;34m\u001b[0m\u001b[0;34m\u001b[0m\u001b[0m\n\u001b[1;32m   1053\u001b[0m         \u001b[0mfull_backward_hooks\u001b[0m\u001b[0;34m,\u001b[0m \u001b[0mnon_full_backward_hooks\u001b[0m \u001b[0;34m=\u001b[0m \u001b[0;34m[\u001b[0m\u001b[0;34m]\u001b[0m\u001b[0;34m,\u001b[0m \u001b[0;34m[\u001b[0m\u001b[0;34m]\u001b[0m\u001b[0;34m\u001b[0m\u001b[0;34m\u001b[0m\u001b[0m\n",
            "\u001b[0;32m/usr/local/lib/python3.7/dist-packages/torch/nn/modules/rnn.py\u001b[0m in \u001b[0;36mforward\u001b[0;34m(self, input, hx)\u001b[0m\n\u001b[1;32m    839\u001b[0m         \u001b[0;32melse\u001b[0m\u001b[0;34m:\u001b[0m\u001b[0;34m\u001b[0m\u001b[0;34m\u001b[0m\u001b[0m\n\u001b[1;32m    840\u001b[0m             result = _VF.gru(input, batch_sizes, hx, self._flat_weights, self.bias,\n\u001b[0;32m--> 841\u001b[0;31m                              self.num_layers, self.dropout, self.training, self.bidirectional)\n\u001b[0m\u001b[1;32m    842\u001b[0m         \u001b[0moutput\u001b[0m \u001b[0;34m=\u001b[0m \u001b[0mresult\u001b[0m\u001b[0;34m[\u001b[0m\u001b[0;36m0\u001b[0m\u001b[0;34m]\u001b[0m\u001b[0;34m\u001b[0m\u001b[0;34m\u001b[0m\u001b[0m\n\u001b[1;32m    843\u001b[0m         \u001b[0mhidden\u001b[0m \u001b[0;34m=\u001b[0m \u001b[0mresult\u001b[0m\u001b[0;34m[\u001b[0m\u001b[0;36m1\u001b[0m\u001b[0;34m]\u001b[0m\u001b[0;34m\u001b[0m\u001b[0;34m\u001b[0m\u001b[0m\n",
            "\u001b[0;31mKeyboardInterrupt\u001b[0m: "
          ]
        }
      ]
    },
    {
      "cell_type": "code",
      "metadata": {
        "colab": {
          "base_uri": "https://localhost:8080/",
          "height": 284
        },
        "id": "7CE1fwNJs7x2",
        "outputId": "2a980543-eb54-4bdb-ec94-ae45a9bae485"
      },
      "source": [
        "# Plot the learning curve\n",
        "plt.figure()\n",
        "plt.plot(all_losses, label='Training error')\n",
        "plt.plot(val_losses, label='Val Error')\n",
        "plt.legend()"
      ],
      "execution_count": 14,
      "outputs": [
        {
          "output_type": "execute_result",
          "data": {
            "text/plain": [
              "<matplotlib.legend.Legend at 0x7f668347da10>"
            ]
          },
          "metadata": {
            "tags": []
          },
          "execution_count": 14
        },
        {
          "output_type": "display_data",
          "data": {
            "image/png": "[encoded data removed]",
            "text/plain": [
              "<Figure size 432x288 with 1 Axes>"
            ]
          },
          "metadata": {
            "tags": [],
            "needs_background": "light"
          }
        }
      ]
    },
    {
      "cell_type": "markdown",
      "metadata": {
        "id": "NP1AJH_32H1V"
      },
      "source": [
        "## Retrain the model on the full train dataset"
      ]
    },
    {
      "cell_type": "code",
      "metadata": {
        "colab": {
          "base_uri": "https://localhost:8080/"
        },
        "id": "7lCC0Tlv2Hld",
        "outputId": "e8c39a0f-e9f8-41b1-c3c6-b4328fdf05e1"
      },
      "source": [
        "params = {'batch_size': BATCH_SIZE,\n",
        "          'shuffle': True,\n",
        "          'num_workers': 0}\n",
        "\n",
        "commonlit_dataset3 = CommonLitDataset(enc_full_training_X, full_training_Y, full_training_lengths)\n",
        "full_training_generator = torch.utils.data.DataLoader(commonlit_dataset3, **params)\n",
        "\n",
        "final_model = GRU(hidden_dim).to(device)\n",
        "\n",
        "epochs = best_val_epoch\n",
        "\n",
        "criterion = nn.MSELoss()\n",
        "\n",
        "all_losses = []\n",
        "\n",
        "start = time.time()\n",
        "\n",
        "parameters = filter(lambda p: p.requires_grad, final_model.parameters())\n",
        "optimizer = torch.optim.Adam(parameters, lr=lr)\n",
        "\n",
        "for iter in range(1, epochs + 1):\n",
        "    total = 0\n",
        "    current_loss = 0.0\n",
        "    final_model.train()\n",
        "    for (x, seq_len), y in training_generator: # TODO: Change in full_training_generator (to include the test data)\n",
        "        x, y = x.to(device), y.to(device)\n",
        "        optimizer.zero_grad()\n",
        "        y_pred = final_model(x, seq_len)\n",
        "\n",
        "        loss = criterion(y_pred, y.unsqueeze(-1))\n",
        "        loss.backward()\n",
        "        optimizer.step()\n",
        "        current_loss += loss.item()*y.shape[0]\n",
        "        total += y.shape[0]\n",
        "\n",
        "    # Mean squared error\n",
        "    current_loss /= total\n",
        "\n",
        "    # Print iter number, loss\n",
        "    if iter % print_every == 0:\n",
        "        print('Iteration %d | %d%% (%s) MSE = %.4f' % (iter, iter / epochs * 100, timeSince(start), current_loss))\n",
        "\n",
        "    # Add current loss avg to list of losses\n",
        "    if iter % plot_every == 0:\n",
        "        all_losses.append(current_loss / plot_every)\n",
        "        current_loss = 0"
      ],
      "execution_count": 15,
      "outputs": [
        {
          "output_type": "stream",
          "text": [
            "Iteration 1 | 7% (0m 8s) MSE = 1.1108\n",
            "Iteration 2 | 14% (0m 17s) MSE = 0.8441\n",
            "Iteration 3 | 21% (0m 26s) MSE = 0.6629\n",
            "Iteration 4 | 28% (0m 35s) MSE = 0.5666\n",
            "Iteration 5 | 35% (0m 44s) MSE = 0.5133\n",
            "Iteration 6 | 42% (0m 53s) MSE = 0.4574\n",
            "Iteration 7 | 50% (1m 2s) MSE = 0.4369\n",
            "Iteration 8 | 57% (1m 11s) MSE = 0.4045\n",
            "Iteration 9 | 64% (1m 20s) MSE = 0.3625\n",
            "Iteration 10 | 71% (1m 32s) MSE = 0.3463\n",
            "Iteration 11 | 78% (1m 41s) MSE = 0.3447\n",
            "Iteration 12 | 85% (1m 50s) MSE = 0.3287\n",
            "Iteration 13 | 92% (1m 59s) MSE = 0.3217\n",
            "Iteration 14 | 100% (2m 8s) MSE = 0.3162\n"
          ],
          "name": "stdout"
        }
      ]
    },
    {
      "cell_type": "code",
      "metadata": {
        "colab": {
          "base_uri": "https://localhost:8080/",
          "height": 284
        },
        "id": "2Ek2Bi2P8cDS",
        "outputId": "5ca66226-02a8-4164-8d6f-66708720798f"
      },
      "source": [
        "# Plot the learning curve\n",
        "plt.figure()\n",
        "plt.plot(all_losses, label='Training error')\n",
        "plt.legend()"
      ],
      "execution_count": 16,
      "outputs": [
        {
          "output_type": "execute_result",
          "data": {
            "text/plain": [
              "<matplotlib.legend.Legend at 0x7f6682f39310>"
            ]
          },
          "metadata": {
            "tags": []
          },
          "execution_count": 16
        },
        {
          "output_type": "display_data",
          "data": {
            "image/png": "[encoded data removed]",
            "text/plain": [
              "<Figure size 432x288 with 1 Axes>"
            ]
          },
          "metadata": {
            "tags": [],
            "needs_background": "light"
          }
        }
      ]
    },
    {
      "cell_type": "markdown",
      "metadata": {
        "id": "s1eFoTOT6Ajx"
      },
      "source": [
        "## Evaluate the model"
      ]
    },
    {
      "cell_type": "code",
      "metadata": {
        "id": "b3odVoUa5rXI"
      },
      "source": [
        "test_params = {'batch_size': 64,\n",
        "          'shuffle': False,\n",
        "          'num_workers': 0}\n",
        "\n",
        "internal_test_dataset = CommonLitDataset(enc_test_X, test_Y, test_lengths)\n",
        "test_generator = torch.utils.data.DataLoader(internal_test_dataset, **test_params)\n",
        "\n",
        "\n",
        "blind_test_params = {'batch_size': 1,\n",
        "          'shuffle': False,\n",
        "          'num_workers': 0}\n",
        "\n",
        "blind_test_dataset = CommonLitDataset(enc_blind_test_X, np.zeros(enc_blind_test_X.shape), blind_test_lengths)\n",
        "blind_test_generator = torch.utils.data.DataLoader(blind_test_dataset, **blind_test_params)"
      ],
      "execution_count": 17,
      "outputs": []
    },
    {
      "cell_type": "code",
      "metadata": {
        "colab": {
          "base_uri": "https://localhost:8080/"
        },
        "id": "WSz_-_y_s7x3",
        "outputId": "0c39de1c-6fa9-4100-82ce-75d2185b962b"
      },
      "source": [
        "# Compute the final MSE on the training set\n",
        "def compute_squared_error(generator):\n",
        "    error = nn.MSELoss(reduction='sum')\n",
        "    with torch.no_grad():\n",
        "        mse = 0.0\n",
        "        for (x, seq_len), targets_batch in generator:\n",
        "            x, targets_batch = x.to(device), targets_batch.to(device)\n",
        "\n",
        "            batch_size = x.shape[0]\n",
        "\n",
        "            output = final_model(x, seq_len)\n",
        "\n",
        "            targets_batch = torch.reshape(targets_batch, (batch_size, 1))\n",
        "\n",
        "            loss = error(output, targets_batch)\n",
        "            mse += loss.item()\n",
        "    return mse\n",
        "print('Training RMSE =', np.sqrt(compute_squared_error(training_generator) / enc_training_X.shape[0]))\n",
        "# A bit useless since we train also on this data\n",
        "print('Internal TEST RMSE =', np.sqrt(compute_squared_error(test_generator) / enc_test_X.shape[0]))\n",
        "    "
      ],
      "execution_count": 18,
      "outputs": [
        {
          "output_type": "stream",
          "text": [
            "Training RMSE = 0.4943330085804977\n",
            "Internal TEST RMSE = 0.6446025702580013\n"
          ],
          "name": "stdout"
        }
      ]
    },
    {
      "cell_type": "markdown",
      "metadata": {
        "id": "nGPYFMTABCmK"
      },
      "source": [
        "# Compute blind test set outputs"
      ]
    },
    {
      "cell_type": "code",
      "metadata": {
        "colab": {
          "base_uri": "https://localhost:8080/"
        },
        "id": "7wnMzcZvCl8Z",
        "outputId": "97ebd72d-a557-4078-af38-83da233e0e76"
      },
      "source": [
        "outputs = []\n",
        "with torch.no_grad():\n",
        "    for i, ((x, seq_len), targets_batch) in enumerate(blind_test_generator):\n",
        "        excerpts_batch = x.to(device)\n",
        "\n",
        "        batch_size = excerpts_batch.shape[0]\n",
        "\n",
        "        output = final_model(excerpts_batch, seq_len)\n",
        "        id = blind_test[i, 0]\n",
        "        print(id, output.item())\n",
        "        outputs.append((id, output.item()))\n",
        "\n",
        "# Save outputs to submission.csv\n",
        "if False:\n",
        "    with open('submission.csv', 'w') as f:\n",
        "        f.write('id,target\\n')\n",
        "        for id, o in outputs:\n",
        "            f.write(id+','+str(o)+'\\n')"
      ],
      "execution_count": 19,
      "outputs": [
        {
          "output_type": "stream",
          "text": [
            "c0f722661 -1.3720139265060425\n",
            "f0953f0a5 -0.1726866364479065\n",
            "0df072751 -0.22537215054035187\n",
            "04caf4e0c -2.459099769592285\n",
            "0e63f8bea -1.8731929063796997\n",
            "12537fe78 -1.6504805088043213\n",
            "965e592c0 0.11292542517185211\n"
          ],
          "name": "stdout"
        }
      ]
    },
    {
      "cell_type": "markdown",
      "metadata": {
        "id": "RP4t2r6es7x4"
      },
      "source": [
        " NEXT:\n",
        "\n",
        "https://pytorch.org/tutorials/beginner/basics/data_tutorial.html\n",
        " \n",
        " \n",
        " \n",
        "    Try the nn.LSTM and nn.GRU layers\n",
        "    Combine multiple of these RNNs as a higher level network\n"
      ]
    },
    {
      "cell_type": "code",
      "metadata": {
        "id": "wt08ZXlQ5gvI"
      },
      "source": [
        ""
      ],
      "execution_count": 19,
      "outputs": []
    }
  ]
}