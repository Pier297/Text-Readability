{
  "nbformat": 4,
  "nbformat_minor": 0,
  "metadata": {
    "accelerator": "GPU",
    "colab": {
      "name": "glove_LSTM.ipynb",
      "provenance": [],
      "collapsed_sections": []
    },
    "kernelspec": {
      "display_name": "Python 3 (ipykernel)",
      "language": "python",
      "name": "python3"
    },
    "language_info": {
      "codemirror_mode": {
        "name": "ipython",
        "version": 3
      },
      "file_extension": ".py",
      "mimetype": "text/x-python",
      "name": "python",
      "nbconvert_exporter": "python",
      "pygments_lexer": "ipython3",
      "version": "3.8.10"
    }
  },
  "cells": [
    {
      "cell_type": "markdown",
      "metadata": {
        "id": "icNlOrUPs7xp"
      },
      "source": [
        "We'll first try with the simplest possible approach based on char-RNN that read all the excerpt and predicts in output the target complexity."
      ]
    },
    {
      "cell_type": "code",
      "metadata": {
        "colab": {
          "base_uri": "https://localhost:8080/"
        },
        "id": "1RoiZuW4l1Ed",
        "outputId": "643e9b59-a4db-4480-a282-225665e8a040"
      },
      "source": [
        "!pip install torchtext"
      ],
      "execution_count": null,
      "outputs": [
        {
          "output_type": "stream",
          "text": [
            "Requirement already satisfied: torchtext in /usr/local/lib/python3.7/dist-packages (0.10.0)\n",
            "Requirement already satisfied: torch==1.9.0 in /usr/local/lib/python3.7/dist-packages (from torchtext) (1.9.0+cu102)\n",
            "Requirement already satisfied: requests in /usr/local/lib/python3.7/dist-packages (from torchtext) (2.23.0)\n",
            "Requirement already satisfied: tqdm in /usr/local/lib/python3.7/dist-packages (from torchtext) (4.41.1)\n",
            "Requirement already satisfied: numpy in /usr/local/lib/python3.7/dist-packages (from torchtext) (1.19.5)\n",
            "Requirement already satisfied: typing-extensions in /usr/local/lib/python3.7/dist-packages (from torch==1.9.0->torchtext) (3.7.4.3)\n",
            "Requirement already satisfied: certifi>=2017.4.17 in /usr/local/lib/python3.7/dist-packages (from requests->torchtext) (2021.5.30)\n",
            "Requirement already satisfied: urllib3!=1.25.0,!=1.25.1,<1.26,>=1.21.1 in /usr/local/lib/python3.7/dist-packages (from requests->torchtext) (1.24.3)\n",
            "Requirement already satisfied: chardet<4,>=3.0.2 in /usr/local/lib/python3.7/dist-packages (from requests->torchtext) (3.0.4)\n",
            "Requirement already satisfied: idna<3,>=2.5 in /usr/local/lib/python3.7/dist-packages (from requests->torchtext) (2.10)\n"
          ],
          "name": "stdout"
        }
      ]
    },
    {
      "cell_type": "code",
      "metadata": {
        "colab": {
          "base_uri": "https://localhost:8080/"
        },
        "id": "kAIyrp5Fs7xt",
        "outputId": "2de12649-7d27-49c5-f640-57c41d8076e9"
      },
      "source": [
        "import numpy as np\n",
        "import torch\n",
        "import random\n",
        "import os\n",
        "import torch.nn as nn\n",
        "import pandas as pd\n",
        "import matplotlib.pyplot as plt\n",
        "import string\n",
        "from torch.utils.data import Dataset\n",
        "from torch.nn.utils.rnn import pack_padded_sequence\n",
        "from torchtext.vocab import GloVe\n",
        "\n",
        "device = torch.device(\"cuda\" if torch.cuda.is_available() else \"cpu\")\n",
        "print(f\"{device} is used\")\n",
        "\n",
        "# seed everything\n",
        "seed = 1\n",
        "random.seed(seed)\n",
        "os.environ['PYTHONASSEED'] = str(seed)\n",
        "np.random.seed(seed)\n",
        "torch.manual_seed(seed)\n",
        "torch.cuda.manual_seed(seed)\n",
        "torch.backends.cudnn.deterministic = True\n",
        "torch.backends.cudnn.benchmark = True\n",
        "#os.environ['WANDB_CONSOLE'] = 'off'"
      ],
      "execution_count": null,
      "outputs": [
        {
          "output_type": "stream",
          "text": [
            "cuda is used\n"
          ],
          "name": "stdout"
        }
      ]
    },
    {
      "cell_type": "code",
      "metadata": {
        "colab": {
          "base_uri": "https://localhost:8080/"
        },
        "id": "RXcYbQg6mYOe",
        "outputId": "55755a8d-46df-48e4-a8df-cf49f4857a8d"
      },
      "source": [
        "from google.colab import drive\n",
        "drive.mount('/content/drive')"
      ],
      "execution_count": null,
      "outputs": [
        {
          "output_type": "stream",
          "text": [
            "Drive already mounted at /content/drive; to attempt to forcibly remount, call drive.mount(\"/content/drive\", force_remount=True).\n"
          ],
          "name": "stdout"
        }
      ]
    },
    {
      "cell_type": "code",
      "metadata": {
        "colab": {
          "base_uri": "https://localhost:8080/"
        },
        "id": "nAk8BRNKs7xv",
        "outputId": "08a14aa1-1438-497c-8597-bb9667cd430f"
      },
      "source": [
        "# Read the data\n",
        "# Internal datasets\n",
        "training = pd.read_csv('/content/drive/MyDrive/Unipi/HLT/HLT-Project/internal_train.csv').to_numpy()\n",
        "test = pd.read_csv('/content/drive/MyDrive/Unipi/HLT/HLT-Project/internal_test.csv').to_numpy()\n",
        "# Real datasets (Keep only these ones for kaggle (delete test))\n",
        "blind_test = pd.read_csv('/content/drive/MyDrive/Unipi/HLT/HLT-Project/test.csv').to_numpy()\n",
        "full_training = pd.read_csv('/content/drive/MyDrive/Unipi/HLT/HLT-Project/train.csv').to_numpy()\n",
        "\n",
        "# TODO: Remove to train on full dataset\n",
        "#training = training[:10, :]\n",
        "\n",
        "training = np.random.permutation(training)\n",
        "print(training.shape, test.shape, blind_test.shape, full_training.shape)"
      ],
      "execution_count": null,
      "outputs": [
        {
          "output_type": "stream",
          "text": [
            "(2434, 6) (400, 6) (7, 4) (2834, 6)\n"
          ],
          "name": "stdout"
        }
      ]
    },
    {
      "cell_type": "code",
      "metadata": {
        "colab": {
          "base_uri": "https://localhost:8080/"
        },
        "id": "MIYcHII9s7xv",
        "outputId": "d124158f-3b51-420e-e804-d811bed8537f"
      },
      "source": [
        "# id,url_legal,license,excerpt,target,standard_error\n",
        "\n",
        "# We have 5 features (id,url_legal,license,excerpt,standard_error) and 1 output 'target'\n",
        "\n",
        "# For our model we'll only use the excerpt as a feature\n",
        "training_X = training[:, 3]\n",
        "training_Y = training[:, 4]\n",
        "print('training shape =', training_X.shape, training_Y.shape)\n",
        "\n",
        "full_training_X = full_training[:, 3]\n",
        "full_training_Y = full_training[:, 4]\n",
        "print('Real training shape =', full_training_X.shape, full_training_Y.shape)\n",
        "\n",
        "test_X = test[:, 3]\n",
        "test_Y = test[:, 4]\n",
        "print('test shape =', test_X.shape, test_Y.shape)\n",
        "\n",
        "blind_test_X = blind_test[:, 3]\n",
        "print('BLIND test shape =', blind_test_X.shape)"
      ],
      "execution_count": null,
      "outputs": [
        {
          "output_type": "stream",
          "text": [
            "training shape = (2434,) (2434,)\n",
            "Real training shape = (2834,) (2834,)\n",
            "test shape = (400,) (400,)\n",
            "BLIND test shape = (7,)\n"
          ],
          "name": "stdout"
        }
      ]
    },
    {
      "cell_type": "code",
      "metadata": {
        "colab": {
          "base_uri": "https://localhost:8080/"
        },
        "id": "qi8sdh8qs7xw",
        "outputId": "19d33027-7684-40ea-f9bf-d5485df338a1"
      },
      "source": [
        "print(training_X[0])\n",
        "print('\\nTarget =', training_Y[0])"
      ],
      "execution_count": null,
      "outputs": [
        {
          "output_type": "stream",
          "text": [
            "I have found that when I used blood charcoal or bone coal in place of wood coal it was still more efficient; but it must be mentioned that when they are used they must be purified as follows before using: Charcoal from blood contains potash and hence it is necessary to wash it with distilled water and dry it before using it. Bone coal (also called bone black, animal charcoal, etc.) contains on an average 10 per cent. of nitrogenous and hydrogenated carbon, 8 per cent. of carbonate of lime, 78 per cent. of phosphate of lime, besides phosphate of magnesia, sulphate of lime, soluble salts, etc. Before using, it should be treated with dilute hydrochloric acid until it does not effervesce any more. The bone coal is then left to stand for 24 or 30 hours and at the end of this time is washed with distilled water until the wash water no longer reddens a blue piece of litmus paper, i.e., until every trace of hydrochloric acid has been removed from the bone coal. Wood charcoal may be treated in like manner.\n",
            "\n",
            "Target = -2.308546397\n"
          ],
          "name": "stdout"
        }
      ]
    },
    {
      "cell_type": "markdown",
      "metadata": {
        "id": "vh-F3FJjs7xy"
      },
      "source": [
        "### Turning excerpts into Tensors\n",
        "\n",
        "Map each word to the its glove embeddings ID"
      ]
    },
    {
      "cell_type": "code",
      "metadata": {
        "colab": {
          "base_uri": "https://localhost:8080/"
        },
        "id": "mHwGRXqT1-d_",
        "outputId": "0c6b734b-17ab-422d-b385-4e43a9ec5881"
      },
      "source": [
        "import re\n",
        "from torchtext.legacy import data, datasets, vocab\n",
        "\n",
        "embedding_dim = 300\n",
        "glove = GloVe(name=\"840B\", dim=embedding_dim)\n",
        "\n",
        "# Turn a line of words into the curresponding indices\n",
        "def lineToTensor(line):\n",
        "    # Split a string into array of words and punctation\n",
        "    # \"Much, fun.\" => [\"Much\", \",\", \"fun\", \".\"]\n",
        "    words = re.findall(r\"[\\w']+|[.,!?;]\", line)\n",
        "    tensor = torch.tensor([glove.stoi[w] for w in words if w in glove.stoi], dtype=torch.long)\n",
        "    return tensor\n",
        "\n",
        "print(lineToTensor(training_X[0]))"
      ],
      "execution_count": null,
      "outputs": [
        {
          "output_type": "stream",
          "text": [
            "tensor([    12,     31,    254,     15,     82,     12,    183,   1231,  19259,\n",
            "            32,   4868,   7604,      7,    246,      5,   2179,   7604,     21,\n",
            "            30,    194,     50,   3239,     54,     42,     21,    265,     26,\n",
            "          1880,     15,     82,     49,     23,    183,     49,    265,     26,\n",
            "         26823,     28,   3186,    182,    245,  22786,     29,   1231,   1795,\n",
            "         88291,      3,   6759,     21,     10,   1222,      4,   5003,     21,\n",
            "            19,  29893,    333,      3,   2065,     21,    182,    245,     21,\n",
            "             1,  10812,   7604,     89,    416,   4868,    536,      0,   2479,\n",
            "         19259,      0,   2605,      1,   1795,     17,     39,   1149,    167,\n",
            "           404,   4018,      1,      5, 194722,      3,  64460,   4052,      0,\n",
            "           236,    404,   4018,      1,      5,  33234,      5,  12209,      0,\n",
            "          4795,    404,   4018,      1,      5,  27451,      5,  12209,      0,\n",
            "          6139,  27451,      5, 183295,      0,  70949,      5,  12209,      0,\n",
            "         24800,  22447,      0,   2605,      1,   2103,    245,      0,     21,\n",
            "           139,     26,   2926,     19,  38554,  77692,   3689,    355,     21,\n",
            "           154,     35, 766741,     97,     50,      1,     22,   4868,   7604,\n",
            "            10,    123,    331,      4,   1333,     11,    418,     32,    307,\n",
            "           419,      3,     25,      2,    283,      5,     27,     77,     10,\n",
            "          9734,     19,  29893,    333,    355,      2,   5003,    333,     96,\n",
            "           843, 516258,      6,   1394,   1104,      5,  74455,    872,      0,\n",
            "           108,      1,   1939,      1,      0,    355,    230,   9347,      5,\n",
            "         77692,   3689,     45,     84,   2471,     29,      2,   4868,   7604,\n",
            "             1,   3121,  19259,    119,     26,   2926,      7,     64,   2707,\n",
            "             1])\n"
          ],
          "name": "stdout"
        }
      ]
    },
    {
      "cell_type": "code",
      "metadata": {
        "colab": {
          "base_uri": "https://localhost:8080/"
        },
        "id": "6s8cf7iTs7xz",
        "outputId": "51d93e45-9e96-45ec-fbfa-2d1b833a8acb"
      },
      "source": [
        "# We want the entire dataset encoded with the glove embeddings\n",
        "# So, the final size will be (n_samples, 1, excerpt_length, embedding_dim) (extra dimension 1 inserted for pytorch batch)\n",
        "# Since a tensor has fixed size we pad the sequences to ensure all have the same length.\n",
        "\n",
        "# Get the max excerpt length and encode the training set\n",
        "max_excerpt_len = len(max(training_X, key=len))\n",
        "enc_training_X = np.zeros((training_X.shape[0], 1, max_excerpt_len,))\n",
        "training_lengths = []\n",
        "for i, x in enumerate(training_X):\n",
        "    enc_x = lineToTensor(x)\n",
        "    enc_training_X[i, 0, :enc_x.shape[0]] = enc_x\n",
        "    training_lengths.append(enc_x.shape[0])\n",
        "\n",
        "print('encoded Training shape =',enc_training_X.shape)\n",
        "\n",
        "\n",
        "max_excerpt_len = len(max(full_training_X, key=len))\n",
        "enc_full_training_X = np.zeros((full_training_X.shape[0], 1, max_excerpt_len,))\n",
        "full_training_lengths = []\n",
        "for i, x in enumerate(full_training_X):\n",
        "    enc_x = lineToTensor(x)\n",
        "    enc_full_training_X[i, 0, :enc_x.shape[0]] = enc_x\n",
        "    full_training_lengths.append(enc_x.shape[0])\n",
        "\n",
        "print('encoded Real/Full Training shape =',enc_full_training_X.shape)\n",
        "\n",
        "\n",
        "max_excerpt_len = len(max(test_X, key=len))\n",
        "enc_test_X = np.zeros((test_X.shape[0], 1, max_excerpt_len,))\n",
        "test_lengths = []\n",
        "for i, x in enumerate(test_X):\n",
        "    enc_x = lineToTensor(x)\n",
        "    enc_test_X[i, 0, :enc_x.shape[0]] = enc_x\n",
        "    test_lengths.append(enc_x.shape[0])\n",
        "\n",
        "print('enc. Test shape =', enc_test_X.shape)\n",
        "\n",
        "\n",
        "max_excerpt_len = len(max(blind_test_X, key=len))\n",
        "enc_blind_test_X = np.zeros((blind_test_X.shape[0], 1, max_excerpt_len,))\n",
        "blind_test_lengths = []\n",
        "for i, x in enumerate(blind_test_X):\n",
        "    enc_x = lineToTensor(x)\n",
        "    enc_blind_test_X[i, 0, :enc_x.shape[0]] = enc_x\n",
        "    blind_test_lengths.append(enc_x.shape[0])\n",
        "\n",
        "print('enc. Test shape =', enc_blind_test_X.shape)"
      ],
      "execution_count": null,
      "outputs": [
        {
          "output_type": "stream",
          "text": [
            "encoded Training shape = (2434, 1, 1341)\n",
            "encoded Real/Full Training shape = (2834, 1, 1341)\n",
            "enc. Test shape = (400, 1, 1323)\n",
            "enc. Test shape = (7, 1, 1144)\n"
          ],
          "name": "stdout"
        }
      ]
    },
    {
      "cell_type": "code",
      "metadata": {
        "colab": {
          "base_uri": "https://localhost:8080/"
        },
        "id": "nKV-nZKJs7x0",
        "outputId": "2cf97892-8308-45c6-9fe5-84406a723d3f"
      },
      "source": [
        "from math import floor\n",
        "#Utility function to get a random sample\n",
        "def randomTrainingExample():\n",
        "    i = np.random.randint(0, training_X.shape[0])\n",
        "    excerpt_tensor = lineToTensor(training_X[i])\n",
        "    target_tensor = torch.tensor(training_Y[i], dtype=torch.float)\n",
        "    return excerpt_tensor, target_tensor\n",
        "\n",
        "randomTrainingExample()"
      ],
      "execution_count": null,
      "outputs": [
        {
          "output_type": "execute_result",
          "data": {
            "text/plain": [
              "(tensor([ 61946,     99,     31,   3917,     52, 216787,     11,      6,    212,\n",
              "              0,     42,   4090,      3,   4620,    194,     47,     35,    113,\n",
              "            114,    138,     52,     21,      1,    242,     51,   1492,    657,\n",
              "         216787,     41,    192,     99,     32,     68,     21,    406,   2833,\n",
              "          29441,     99,     50,    661,      1,  13831,    510,      4,    702,\n",
              "             50,     52, 216787,     24,   2193,  29441,     99,     52,     58,\n",
              "           2674,      5, 216787,     32,  31521,      0,     32,   8713,   3080,\n",
              "              5,    830,     32,  17965,      4,     26,     64,    458,    639,\n",
              "              1,    148,    549,      0,      6,    377,    291,   6903,     58,\n",
              "          13002,     24,  17965,      4,   1532,      7,      6,    239,    153,\n",
              "             68,     49,     47,     35,    700,      2,   1547,      1,  61946,\n",
              "             99,   1594,     15,     49,  32706,     58,  13002,    145,     49,\n",
              "            157,      4,    111,    476,      3,    498,   4866,     19,     99,\n",
              "              0,      3,    145, 216787,     41,     26,   1704,      4,     92,\n",
              "              1,    605,     99,    291,  32706,     58,  13002,     82,     49,\n",
              "             23,     25,    329,     32,    134,      0,     59,     15,     99,\n",
              "             47,     35,   2625,     92,   7231,      3,     49,     41,   9151,\n",
              "             17,     78,     49,     31,      4,     47,      1,    605,     99,\n",
              "          32706,     58,  13002,     82,     49,    822,     94,     99,      0,\n",
              "             59,     15,     49,     41,    111,      6,    112,   5731,      3,\n",
              "            889,    478,    476,      1,    605,     99,     38,    709, 216787,\n",
              "             82,     49,     86,      4,    113,    458,    114,    133,      0,\n",
              "             68,     49,    137,      2,    377,     38,   2089,     92,    153,\n",
              "             82,     49,   1585,     50,  29441,      1]), tensor(-0.5144))"
            ]
          },
          "metadata": {
            "tags": []
          },
          "execution_count": 9
        }
      ]
    },
    {
      "cell_type": "code",
      "metadata": {
        "id": "TxgzMVEws7x0"
      },
      "source": [
        "class CommonLitDataset(Dataset):\n",
        "    # X: numpy matrix (n_samples, 1, excerpt_length, embedding_dim)\n",
        "    def __init__(self, X, Y, lengths):\n",
        "        self.X = X\n",
        "        self.Y = Y\n",
        "        self.lengths = lengths\n",
        "\n",
        "    def __len__(self):\n",
        "        return self.X.shape[0]\n",
        "\n",
        "    def __getitem__(self, idx):\n",
        "        return (glove.vectors[self.X[idx][0]].float(), self.lengths[idx]), torch.tensor(self.Y[idx]).float()"
      ],
      "execution_count": null,
      "outputs": []
    },
    {
      "cell_type": "code",
      "metadata": {
        "id": "jLjCYgNls7x0"
      },
      "source": [
        "# Define the model\n",
        "\n",
        "class LSTM(nn.Module):\n",
        "    def __init__(self, hidden_dim):\n",
        "        super(LSTM, self).__init__()\n",
        "        self.hidden_dim = hidden_dim\n",
        "        self.lstm = nn.LSTM(embedding_dim, hidden_dim, batch_first=True)\n",
        "        # TODO: Do we also need to pass the cell state in the output layer?\n",
        "        self.linear = nn.Linear(hidden_dim, 1)\n",
        "\n",
        "    def forward(self, x, sequence_length):\n",
        "        x_pack = pack_padded_sequence(x, sequence_length, batch_first=True, enforce_sorted=False)\n",
        "        lstm_out, (ht, ct) = self.lstm(x_pack)\n",
        "        return self.linear(ht[-1])\n",
        "\n",
        "    def initHidden(self, batch_size):\n",
        "        return (torch.zeros(1, batch_size, self.hidden_dim), torch.zeros(1, batch_size, self.hidden_dim))\n"
      ],
      "execution_count": null,
      "outputs": []
    },
    {
      "cell_type": "code",
      "metadata": {
        "id": "lbzD09zHqmfF"
      },
      "source": [
        "def compute_mse(model, generator):\n",
        "    model.eval()\n",
        "    mse = 0.0\n",
        "    error = nn.MSELoss(reduction='sum')\n",
        "    n = 0\n",
        "    for (x, seq_len), y in generator:\n",
        "        x, targets_batch = x.to(device), y.to(device)\n",
        "\n",
        "        batch_size = x.shape[0]\n",
        "        n += batch_size\n",
        "\n",
        "        output = lstm(x, seq_len)\n",
        "\n",
        "        targets_batch = torch.reshape(targets_batch, (batch_size, 1))\n",
        "\n",
        "        loss = error(output, targets_batch)\n",
        "        mse += loss.item()\n",
        "    return mse / n"
      ],
      "execution_count": null,
      "outputs": []
    },
    {
      "cell_type": "code",
      "metadata": {
        "colab": {
          "base_uri": "https://localhost:8080/"
        },
        "id": "WNTcVkpes7x2",
        "outputId": "d34b7c2f-fb3e-429e-e273-9286d0dd481a"
      },
      "source": [
        "import time\n",
        "from math import floor, inf\n",
        "\n",
        "# Keep track of losses for plotting\n",
        "current_loss = 0\n",
        "all_losses = []\n",
        "\n",
        "def timeSince(since):\n",
        "    now = time.time()\n",
        "    s = now - since\n",
        "    m = floor(s / 60)\n",
        "    s -= m * 60\n",
        "    return '%dm %ds' % (m, s)\n",
        "\n",
        "start = time.time()\n",
        "print_every = 1\n",
        "plot_every = 1\n",
        "\n",
        "\n",
        "BATCH_SIZE = 16     # batch = 16\n",
        "hidden_dim = 256    # 256\n",
        "epochs = 75         # 50\n",
        "lr = 0.00003         # 0.00005\n",
        "weight_decay = 1e-8 # 1e-7\n",
        "\n",
        "# test_error = 0.66\n",
        "\n",
        "lstm = LSTM(hidden_dim).to(device)\n",
        "\n",
        "criterion = nn.MSELoss()\n",
        "\n",
        "parameters = filter(lambda p: p.requires_grad, lstm.parameters())\n",
        "optimizer = torch.optim.Adam(parameters, lr=lr, weight_decay=weight_decay)\n",
        "\n",
        "params = {'batch_size': BATCH_SIZE,\n",
        "          'shuffle': True,\n",
        "          'num_workers': 0}\n",
        "\n",
        "commonlit_dataset1 = CommonLitDataset(enc_training_X[400:], training_Y[400:], training_lengths[400:])\n",
        "training_generator = torch.utils.data.DataLoader(commonlit_dataset1, **params)\n",
        "\n",
        "commonlit_dataset2 = CommonLitDataset(enc_training_X[:400], training_Y[:400], training_lengths[:400])\n",
        "validation_generator = torch.utils.data.DataLoader(commonlit_dataset2, **params)\n",
        "\n",
        "# Early stopping logic\n",
        "val_losses = []\n",
        "best_val_error = inf\n",
        "best_val_epoch = 0\n",
        "\n",
        "for iter in range(1, epochs + 1):\n",
        "    total = 0\n",
        "    current_loss = 0.0\n",
        "    lstm.train()\n",
        "    for (x, seq_len), y in training_generator:\n",
        "        x, y = x.to(device), y.to(device)\n",
        "        optimizer.zero_grad()\n",
        "        y_pred = lstm(x, seq_len)\n",
        "\n",
        "        loss = criterion(y_pred, y.unsqueeze(-1))\n",
        "        loss.backward()\n",
        "        optimizer.step()\n",
        "        current_loss += loss.item()*y.shape[0]\n",
        "        total += y.shape[0]\n",
        "\n",
        "    # Mean squared error\n",
        "    current_loss /= total\n",
        "\n",
        "    current_val_error = compute_mse(lstm, validation_generator)\n",
        "    val_losses.append(current_val_error)\n",
        "    if current_val_error < best_val_error:\n",
        "        best_val_error = current_val_error\n",
        "        best_val_epoch = iter\n",
        "\n",
        "    # Print iter number, loss\n",
        "    if iter % print_every == 0:\n",
        "        print('Iteration %d | %d%% (%s) MSE = %.4f Val MSE = %.4f' % (iter, iter / epochs * 100, timeSince(start), current_loss, current_val_error))\n",
        "\n",
        "    # Add current loss avg to list of losses\n",
        "    if iter % plot_every == 0:\n",
        "        all_losses.append(current_loss / plot_every)\n",
        "        current_loss = 0"
      ],
      "execution_count": null,
      "outputs": [
        {
          "output_type": "stream",
          "text": [
            "Iteration 1 | 1% (0m 14s) MSE = 1.3784 Val MSE = 1.1188\n",
            "Iteration 2 | 2% (0m 28s) MSE = 1.0654 Val MSE = 1.0645\n",
            "Iteration 3 | 4% (0m 41s) MSE = 1.0130 Val MSE = 0.9889\n",
            "Iteration 4 | 5% (0m 54s) MSE = 0.8726 Val MSE = 0.7958\n",
            "Iteration 5 | 6% (1m 7s) MSE = 0.7356 Val MSE = 0.7054\n",
            "Iteration 6 | 8% (1m 20s) MSE = 0.6734 Val MSE = 0.6996\n",
            "Iteration 7 | 9% (1m 33s) MSE = 0.6203 Val MSE = 0.6709\n",
            "Iteration 8 | 10% (1m 46s) MSE = 0.6038 Val MSE = 0.6664\n",
            "Iteration 9 | 12% (1m 59s) MSE = 0.6365 Val MSE = 0.7317\n",
            "Iteration 10 | 13% (2m 12s) MSE = 0.5896 Val MSE = 0.6387\n",
            "Iteration 11 | 14% (2m 25s) MSE = 0.5684 Val MSE = 0.6464\n",
            "Iteration 12 | 16% (2m 38s) MSE = 0.5500 Val MSE = 0.6217\n",
            "Iteration 13 | 17% (2m 51s) MSE = 0.5548 Val MSE = 0.6049\n",
            "Iteration 14 | 18% (3m 3s) MSE = 0.5689 Val MSE = 0.6147\n",
            "Iteration 15 | 20% (3m 16s) MSE = 0.5376 Val MSE = 0.6712\n",
            "Iteration 16 | 21% (3m 29s) MSE = 0.5269 Val MSE = 0.5919\n",
            "Iteration 17 | 22% (3m 41s) MSE = 0.5142 Val MSE = 0.6431\n",
            "Iteration 18 | 24% (3m 54s) MSE = 0.5145 Val MSE = 0.5734\n",
            "Iteration 19 | 25% (4m 7s) MSE = 0.5092 Val MSE = 0.5728\n",
            "Iteration 20 | 26% (4m 20s) MSE = 0.5272 Val MSE = 0.5761\n",
            "Iteration 21 | 28% (4m 32s) MSE = 0.4909 Val MSE = 0.5914\n",
            "Iteration 22 | 29% (4m 45s) MSE = 0.4807 Val MSE = 0.5613\n",
            "Iteration 23 | 30% (4m 58s) MSE = 0.4926 Val MSE = 0.6028\n",
            "Iteration 24 | 32% (5m 11s) MSE = 0.4748 Val MSE = 0.5561\n",
            "Iteration 25 | 33% (5m 24s) MSE = 0.4691 Val MSE = 0.5484\n",
            "Iteration 26 | 34% (5m 36s) MSE = 0.4582 Val MSE = 0.5440\n",
            "Iteration 27 | 36% (5m 49s) MSE = 0.4472 Val MSE = 0.5400\n",
            "Iteration 28 | 37% (6m 2s) MSE = 0.4299 Val MSE = 0.5283\n",
            "Iteration 29 | 38% (6m 14s) MSE = 0.4278 Val MSE = 0.5619\n",
            "Iteration 30 | 40% (6m 27s) MSE = 0.4175 Val MSE = 0.4986\n",
            "Iteration 31 | 41% (6m 40s) MSE = 0.4078 Val MSE = 0.5166\n",
            "Iteration 32 | 42% (6m 53s) MSE = 0.4024 Val MSE = 0.4947\n",
            "Iteration 33 | 44% (7m 5s) MSE = 0.4155 Val MSE = 0.4830\n",
            "Iteration 34 | 45% (7m 18s) MSE = 0.3944 Val MSE = 0.4837\n",
            "Iteration 35 | 46% (7m 31s) MSE = 0.3857 Val MSE = 0.5263\n",
            "Iteration 36 | 48% (7m 43s) MSE = 0.3860 Val MSE = 0.4855\n",
            "Iteration 37 | 49% (7m 56s) MSE = 0.3785 Val MSE = 0.4692\n",
            "Iteration 38 | 50% (8m 9s) MSE = 0.3737 Val MSE = 0.4844\n",
            "Iteration 39 | 52% (8m 22s) MSE = 0.3751 Val MSE = 0.4868\n",
            "Iteration 40 | 53% (8m 34s) MSE = 0.3608 Val MSE = 0.5273\n",
            "Iteration 41 | 54% (8m 47s) MSE = 0.3657 Val MSE = 0.4921\n",
            "Iteration 42 | 56% (9m 0s) MSE = 0.3533 Val MSE = 0.4674\n",
            "Iteration 43 | 57% (9m 12s) MSE = 0.3540 Val MSE = 0.4755\n",
            "Iteration 44 | 58% (9m 25s) MSE = 0.3497 Val MSE = 0.4674\n",
            "Iteration 45 | 60% (9m 38s) MSE = 0.3425 Val MSE = 0.4755\n",
            "Iteration 46 | 61% (9m 50s) MSE = 0.3587 Val MSE = 0.5115\n",
            "Iteration 47 | 62% (10m 3s) MSE = 0.3380 Val MSE = 0.4561\n",
            "Iteration 48 | 64% (10m 16s) MSE = 0.3392 Val MSE = 0.4573\n",
            "Iteration 49 | 65% (10m 29s) MSE = 0.3297 Val MSE = 0.4466\n",
            "Iteration 50 | 66% (10m 41s) MSE = 0.3319 Val MSE = 0.4511\n",
            "Iteration 51 | 68% (10m 54s) MSE = 0.3355 Val MSE = 0.4577\n",
            "Iteration 52 | 69% (11m 7s) MSE = 0.3254 Val MSE = 0.4661\n",
            "Iteration 53 | 70% (11m 19s) MSE = 0.3161 Val MSE = 0.4579\n",
            "Iteration 54 | 72% (11m 32s) MSE = 0.3219 Val MSE = 0.4610\n",
            "Iteration 55 | 73% (11m 45s) MSE = 0.3094 Val MSE = 0.4751\n",
            "Iteration 56 | 74% (11m 58s) MSE = 0.3125 Val MSE = 0.4633\n",
            "Iteration 57 | 76% (12m 10s) MSE = 0.3086 Val MSE = 0.4900\n",
            "Iteration 58 | 77% (12m 23s) MSE = 0.3117 Val MSE = 0.4708\n",
            "Iteration 59 | 78% (12m 36s) MSE = 0.3042 Val MSE = 0.4690\n",
            "Iteration 60 | 80% (12m 49s) MSE = 0.2994 Val MSE = 0.4531\n",
            "Iteration 61 | 81% (13m 1s) MSE = 0.3103 Val MSE = 0.5095\n",
            "Iteration 62 | 82% (13m 14s) MSE = 0.3123 Val MSE = 0.4556\n",
            "Iteration 63 | 84% (13m 27s) MSE = 0.2922 Val MSE = 0.4452\n",
            "Iteration 64 | 85% (13m 40s) MSE = 0.2936 Val MSE = 0.4479\n",
            "Iteration 65 | 86% (13m 53s) MSE = 0.2840 Val MSE = 0.4780\n",
            "Iteration 66 | 88% (14m 5s) MSE = 0.2907 Val MSE = 0.4596\n",
            "Iteration 67 | 89% (14m 18s) MSE = 0.2812 Val MSE = 0.4620\n",
            "Iteration 68 | 90% (14m 31s) MSE = 0.2868 Val MSE = 0.5086\n",
            "Iteration 69 | 92% (14m 44s) MSE = 0.2864 Val MSE = 0.4585\n",
            "Iteration 70 | 93% (14m 57s) MSE = 0.2720 Val MSE = 0.4505\n",
            "Iteration 71 | 94% (15m 9s) MSE = 0.2850 Val MSE = 0.5045\n",
            "Iteration 72 | 96% (15m 22s) MSE = 0.2700 Val MSE = 0.4838\n",
            "Iteration 73 | 97% (15m 35s) MSE = 0.2681 Val MSE = 0.4658\n",
            "Iteration 74 | 98% (15m 48s) MSE = 0.2631 Val MSE = 0.5084\n",
            "Iteration 75 | 100% (16m 0s) MSE = 0.2672 Val MSE = 0.4624\n"
          ],
          "name": "stdout"
        }
      ]
    },
    {
      "cell_type": "code",
      "metadata": {
        "colab": {
          "base_uri": "https://localhost:8080/",
          "height": 284
        },
        "id": "7CE1fwNJs7x2",
        "outputId": "d1bbc1a0-45a2-4323-c4b2-0e5ddcaee2ee"
      },
      "source": [
        "# Plot the learning curve\n",
        "plt.figure()\n",
        "plt.plot(all_losses, label='Training error')\n",
        "plt.plot(val_losses, label='Val Error')\n",
        "plt.legend()"
      ],
      "execution_count": null,
      "outputs": [
        {
          "output_type": "execute_result",
          "data": {
            "text/plain": [
              "<matplotlib.legend.Legend at 0x7f122dbeef50>"
            ]
          },
          "metadata": {
            "tags": []
          },
          "execution_count": 38
        },
        {
          "output_type": "display_data",
          "data": {
            "image/png": "[encoded data removed]",
            "text/plain": [
              "<Figure size 432x288 with 1 Axes>"
            ]
          },
          "metadata": {
            "tags": [],
            "needs_background": "light"
          }
        }
      ]
    },
    {
      "cell_type": "markdown",
      "metadata": {
        "id": "NP1AJH_32H1V"
      },
      "source": [
        "## Retrain the model on the full train dataset"
      ]
    },
    {
      "cell_type": "code",
      "metadata": {
        "colab": {
          "base_uri": "https://localhost:8080/"
        },
        "id": "7lCC0Tlv2Hld",
        "outputId": "a9b1b058-db50-4400-bcef-1b709367bbef"
      },
      "source": [
        "params = {'batch_size': BATCH_SIZE,\n",
        "          'shuffle': True,\n",
        "          'num_workers': 0}\n",
        "\n",
        "commonlit_dataset3 = CommonLitDataset(enc_full_training_X, full_training_Y, full_training_lengths)\n",
        "full_training_generator = torch.utils.data.DataLoader(commonlit_dataset3, **params)\n",
        "\n",
        "final_model = LSTM(hidden_dim).to(device)\n",
        "\n",
        "epochs = best_val_epoch\n",
        "\n",
        "criterion = nn.MSELoss()\n",
        "\n",
        "all_losses = []\n",
        "\n",
        "start = time.time()\n",
        "\n",
        "parameters = filter(lambda p: p.requires_grad, final_model.parameters())\n",
        "optimizer = torch.optim.Adam(parameters, lr=lr)\n",
        "\n",
        "for iter in range(1, epochs + 1):\n",
        "    total = 0\n",
        "    current_loss = 0.0\n",
        "    final_model.train()\n",
        "    for (x, seq_len), y in training_generator: # TODO: Change in full_training_generator (to include the test data)\n",
        "        x, y = x.to(device), y.to(device)\n",
        "        optimizer.zero_grad()\n",
        "        y_pred = final_model(x, seq_len)\n",
        "\n",
        "        loss = criterion(y_pred, y.unsqueeze(-1))\n",
        "        loss.backward()\n",
        "        optimizer.step()\n",
        "        current_loss += loss.item()*y.shape[0]\n",
        "        total += y.shape[0]\n",
        "\n",
        "    # Mean squared error\n",
        "    current_loss /= total\n",
        "\n",
        "    # Print iter number, loss\n",
        "    if iter % print_every == 0:\n",
        "        print('Iteration %d | %d%% (%s) MSE = %.4f' % (iter, iter / epochs * 100, timeSince(start), current_loss))\n",
        "\n",
        "    # Add current loss avg to list of losses\n",
        "    if iter % plot_every == 0:\n",
        "        all_losses.append(current_loss / plot_every)\n",
        "        current_loss = 0"
      ],
      "execution_count": null,
      "outputs": [
        {
          "output_type": "stream",
          "text": [
            "Iteration 1 | 1% (0m 11s) MSE = 1.4522\n",
            "Iteration 2 | 3% (0m 23s) MSE = 1.0672\n",
            "Iteration 3 | 4% (0m 35s) MSE = 1.0032\n",
            "Iteration 4 | 6% (0m 46s) MSE = 0.8537\n",
            "Iteration 5 | 7% (0m 58s) MSE = 0.7312\n",
            "Iteration 6 | 9% (1m 10s) MSE = 0.6586\n",
            "Iteration 7 | 11% (1m 21s) MSE = 0.6392\n",
            "Iteration 8 | 12% (1m 33s) MSE = 0.5978\n",
            "Iteration 9 | 14% (1m 45s) MSE = 0.5945\n",
            "Iteration 10 | 15% (1m 56s) MSE = 0.5770\n",
            "Iteration 11 | 17% (2m 8s) MSE = 0.5639\n",
            "Iteration 12 | 19% (2m 20s) MSE = 0.5795\n",
            "Iteration 13 | 20% (2m 31s) MSE = 0.5458\n",
            "Iteration 14 | 22% (2m 43s) MSE = 0.5321\n",
            "Iteration 15 | 23% (2m 55s) MSE = 0.5415\n",
            "Iteration 16 | 25% (3m 6s) MSE = 0.5174\n",
            "Iteration 17 | 26% (3m 18s) MSE = 0.5259\n",
            "Iteration 18 | 28% (3m 30s) MSE = 0.5022\n",
            "Iteration 19 | 30% (3m 41s) MSE = 0.5068\n",
            "Iteration 20 | 31% (3m 53s) MSE = 0.5005\n",
            "Iteration 21 | 33% (4m 5s) MSE = 0.4804\n",
            "Iteration 22 | 34% (4m 17s) MSE = 0.4677\n",
            "Iteration 23 | 36% (4m 28s) MSE = 0.4690\n",
            "Iteration 24 | 38% (4m 40s) MSE = 0.4657\n",
            "Iteration 25 | 39% (4m 52s) MSE = 0.4734\n",
            "Iteration 26 | 41% (5m 4s) MSE = 0.4549\n",
            "Iteration 27 | 42% (5m 15s) MSE = 0.4690\n",
            "Iteration 28 | 44% (5m 27s) MSE = 0.4476\n",
            "Iteration 29 | 46% (5m 39s) MSE = 0.4305\n",
            "Iteration 30 | 47% (5m 50s) MSE = 0.4474\n",
            "Iteration 31 | 49% (6m 2s) MSE = 0.4472\n",
            "Iteration 32 | 50% (6m 14s) MSE = 0.4282\n",
            "Iteration 33 | 52% (6m 26s) MSE = 0.4078\n",
            "Iteration 34 | 53% (6m 37s) MSE = 0.4059\n",
            "Iteration 35 | 55% (6m 49s) MSE = 0.3964\n",
            "Iteration 36 | 57% (7m 1s) MSE = 0.4048\n",
            "Iteration 37 | 58% (7m 12s) MSE = 0.3795\n",
            "Iteration 38 | 60% (7m 24s) MSE = 0.3753\n",
            "Iteration 39 | 61% (7m 36s) MSE = 0.3712\n",
            "Iteration 40 | 63% (7m 47s) MSE = 0.3827\n",
            "Iteration 41 | 65% (7m 59s) MSE = 0.3554\n",
            "Iteration 42 | 66% (8m 11s) MSE = 0.3562\n",
            "Iteration 43 | 68% (8m 22s) MSE = 0.3559\n",
            "Iteration 44 | 69% (8m 34s) MSE = 0.3445\n",
            "Iteration 45 | 71% (8m 46s) MSE = 0.3379\n",
            "Iteration 46 | 73% (8m 57s) MSE = 0.3512\n",
            "Iteration 47 | 74% (9m 9s) MSE = 0.3394\n",
            "Iteration 48 | 76% (9m 21s) MSE = 0.3324\n",
            "Iteration 49 | 77% (9m 33s) MSE = 0.3230\n",
            "Iteration 50 | 79% (9m 44s) MSE = 0.3247\n",
            "Iteration 51 | 80% (9m 56s) MSE = 0.3223\n",
            "Iteration 52 | 82% (10m 8s) MSE = 0.3179\n",
            "Iteration 53 | 84% (10m 20s) MSE = 0.3060\n",
            "Iteration 54 | 85% (10m 31s) MSE = 0.3213\n",
            "Iteration 55 | 87% (10m 43s) MSE = 0.3154\n",
            "Iteration 56 | 88% (10m 55s) MSE = 0.2963\n",
            "Iteration 57 | 90% (11m 6s) MSE = 0.2987\n",
            "Iteration 58 | 92% (11m 18s) MSE = 0.3209\n",
            "Iteration 59 | 93% (11m 30s) MSE = 0.3028\n",
            "Iteration 60 | 95% (11m 42s) MSE = 0.2954\n",
            "Iteration 61 | 96% (11m 53s) MSE = 0.2913\n",
            "Iteration 62 | 98% (12m 5s) MSE = 0.2880\n",
            "Iteration 63 | 100% (12m 17s) MSE = 0.2839\n"
          ],
          "name": "stdout"
        }
      ]
    },
    {
      "cell_type": "code",
      "metadata": {
        "colab": {
          "base_uri": "https://localhost:8080/",
          "height": 284
        },
        "id": "2Ek2Bi2P8cDS",
        "outputId": "f4747472-e823-4795-a617-f30d8e5d52a9"
      },
      "source": [
        "# Plot the learning curve\n",
        "plt.figure()\n",
        "plt.plot(all_losses, label='Training error')\n",
        "plt.legend()"
      ],
      "execution_count": null,
      "outputs": [
        {
          "output_type": "execute_result",
          "data": {
            "text/plain": [
              "<matplotlib.legend.Legend at 0x7f122db3e790>"
            ]
          },
          "metadata": {
            "tags": []
          },
          "execution_count": 40
        },
        {
          "output_type": "display_data",
          "data": {
            "image/png": "[encoded data removed]",
            "text/plain": [
              "<Figure size 432x288 with 1 Axes>"
            ]
          },
          "metadata": {
            "tags": [],
            "needs_background": "light"
          }
        }
      ]
    },
    {
      "cell_type": "markdown",
      "metadata": {
        "id": "s1eFoTOT6Ajx"
      },
      "source": [
        "## Evaluate the model"
      ]
    },
    {
      "cell_type": "code",
      "metadata": {
        "id": "b3odVoUa5rXI"
      },
      "source": [
        "test_params = {'batch_size': 64,\n",
        "          'shuffle': False,\n",
        "          'num_workers': 0}\n",
        "\n",
        "internal_test_dataset = CommonLitDataset(enc_test_X, test_Y, test_lengths)\n",
        "test_generator = torch.utils.data.DataLoader(internal_test_dataset, **test_params)\n",
        "\n",
        "\n",
        "blind_test_params = {'batch_size': 1,\n",
        "          'shuffle': False,\n",
        "          'num_workers': 0}\n",
        "\n",
        "blind_test_dataset = CommonLitDataset(enc_blind_test_X, np.zeros(enc_blind_test_X.shape), blind_test_lengths)\n",
        "blind_test_generator = torch.utils.data.DataLoader(blind_test_dataset, **blind_test_params)"
      ],
      "execution_count": null,
      "outputs": []
    },
    {
      "cell_type": "code",
      "metadata": {
        "colab": {
          "base_uri": "https://localhost:8080/"
        },
        "id": "WSz_-_y_s7x3",
        "outputId": "84784611-d272-4a3d-bd6b-ae531e76eeac"
      },
      "source": [
        "# Compute the final MSE on the training set\n",
        "def compute_squared_error(generator):\n",
        "    error = nn.MSELoss(reduction='sum')\n",
        "    with torch.no_grad():\n",
        "        mse = 0.0\n",
        "        for (x, seq_len), targets_batch in generator:\n",
        "            x, targets_batch = x.to(device), targets_batch.to(device)\n",
        "\n",
        "            batch_size = x.shape[0]\n",
        "\n",
        "            output = final_model(x, seq_len)\n",
        "\n",
        "            targets_batch = torch.reshape(targets_batch, (batch_size, 1))\n",
        "\n",
        "            loss = error(output, targets_batch)\n",
        "            mse += loss.item()\n",
        "    return mse\n",
        "print('Training RMSE =', np.sqrt(compute_squared_error(training_generator) / enc_training_X.shape[0]))\n",
        "# A bit useless since we train also on this data\n",
        "print('Internal TEST RMSE =', np.sqrt(compute_squared_error(test_generator) / enc_test_X.shape[0]))\n",
        "    "
      ],
      "execution_count": null,
      "outputs": [
        {
          "output_type": "stream",
          "text": [
            "Training RMSE = 0.4731130152208761\n",
            "Internal TEST RMSE = 0.6675207319861894\n"
          ],
          "name": "stdout"
        }
      ]
    },
    {
      "cell_type": "markdown",
      "metadata": {
        "id": "nGPYFMTABCmK"
      },
      "source": [
        "# Compute blind test set outputs"
      ]
    },
    {
      "cell_type": "code",
      "metadata": {
        "colab": {
          "base_uri": "https://localhost:8080/"
        },
        "id": "7wnMzcZvCl8Z",
        "outputId": "d4a98b41-9fe1-493c-b32c-5a5f509ffb36"
      },
      "source": [
        "outputs = []\n",
        "with torch.no_grad():\n",
        "    for i, ((x, seq_len), targets_batch) in enumerate(blind_test_generator):\n",
        "        excerpts_batch = x.to(device)\n",
        "\n",
        "        batch_size = excerpts_batch.shape[0]\n",
        "\n",
        "        output = final_model(excerpts_batch, seq_len)\n",
        "        id = blind_test[i, 0]\n",
        "        print(id, output.item())\n",
        "        outputs.append((id, output.item()))\n",
        "\n",
        "# Save outputs to submission.csv\n",
        "if False:\n",
        "    with open('submission.csv', 'w') as f:\n",
        "        f.write('id,target\\n')\n",
        "        for id, o in outputs:\n",
        "            f.write(id+','+o+'\\n')"
      ],
      "execution_count": null,
      "outputs": [
        {
          "output_type": "stream",
          "text": [
            "c0f722661 -1.0180059671401978\n",
            "f0953f0a5 -1.0058928728103638\n",
            "0df072751 -0.4917626976966858\n",
            "04caf4e0c -1.1692789793014526\n",
            "0e63f8bea -0.9193040728569031\n",
            "12537fe78 -0.35978007316589355\n",
            "965e592c0 -0.24307191371917725\n"
          ],
          "name": "stdout"
        }
      ]
    },
    {
      "cell_type": "markdown",
      "metadata": {
        "id": "RP4t2r6es7x4"
      },
      "source": [
        " NEXT:\n",
        "\n",
        "https://pytorch.org/tutorials/beginner/basics/data_tutorial.html\n",
        " \n",
        " \n",
        " \n",
        "    Try the nn.LSTM and nn.GRU layers\n",
        "    Combine multiple of these RNNs as a higher level network\n"
      ]
    },
    {
      "cell_type": "code",
      "metadata": {
        "id": "wt08ZXlQ5gvI"
      },
      "source": [
        ""
      ],
      "execution_count": null,
      "outputs": []
    }
  ]
}