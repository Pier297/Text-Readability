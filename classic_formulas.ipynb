{
  "nbformat": 4,
  "nbformat_minor": 0,
  "metadata": {
    "colab": {
      "name": "classic_formulas.ipynb",
      "provenance": []
    },
    "kernelspec": {
      "name": "python3",
      "display_name": "Python 3"
    },
    "language_info": {
      "name": "python"
    }
  },
  "cells": [
    {
      "cell_type": "code",
      "metadata": {
        "id": "hHdHRiAwJbJ0",
        "colab": {
          "base_uri": "https://localhost:8080/"
        },
        "outputId": "24b173f1-1bc0-466a-e597-29d2e3a2933a"
      },
      "source": [
        "!pip install textstat"
      ],
      "execution_count": null,
      "outputs": [
        {
          "output_type": "stream",
          "text": [
            "Collecting textstat\n",
            "  Downloading textstat-0.7.1-py3-none-any.whl (99 kB)\n",
            "\u001b[?25l\r\u001b[K     |███▎                            | 10 kB 24.4 MB/s eta 0:00:01\r\u001b[K     |██████▋                         | 20 kB 27.5 MB/s eta 0:00:01\r\u001b[K     |█████████▉                      | 30 kB 12.8 MB/s eta 0:00:01\r\u001b[K     |█████████████▏                  | 40 kB 9.6 MB/s eta 0:00:01\r\u001b[K     |████████████████▍               | 51 kB 5.2 MB/s eta 0:00:01\r\u001b[K     |███████████████████▊            | 61 kB 5.2 MB/s eta 0:00:01\r\u001b[K     |███████████████████████         | 71 kB 5.8 MB/s eta 0:00:01\r\u001b[K     |██████████████████████████▎     | 81 kB 6.3 MB/s eta 0:00:01\r\u001b[K     |█████████████████████████████▌  | 92 kB 6.2 MB/s eta 0:00:01\r\u001b[K     |████████████████████████████████| 99 kB 4.0 MB/s \n",
            "\u001b[?25hCollecting pyphen\n",
            "  Downloading pyphen-0.11.0-py3-none-any.whl (2.0 MB)\n",
            "\u001b[K     |████████████████████████████████| 2.0 MB 9.5 MB/s \n",
            "\u001b[?25hInstalling collected packages: pyphen, textstat\n",
            "Successfully installed pyphen-0.11.0 textstat-0.7.1\n"
          ],
          "name": "stdout"
        }
      ]
    },
    {
      "cell_type": "code",
      "metadata": {
        "id": "cXtrEeALy5vY"
      },
      "source": [
        "import numpy as np\n",
        "import pandas as pd\n",
        "import textstat\n",
        "from sklearn.linear_model import LinearRegression, Ridge\n",
        "from sklearn.metrics import mean_squared_error\n",
        "from sklearn.model_selection import cross_val_score\n",
        "from sklearn.preprocessing import StandardScaler\n",
        "from sklearn.svm import SVR"
      ],
      "execution_count": null,
      "outputs": []
    },
    {
      "cell_type": "code",
      "metadata": {
        "id": "CfdR041QKvzH"
      },
      "source": [
        "internal_train_data = pd.read_csv('internal_train.csv') # 2434 rows, 6 cols\n",
        "internal_test_data = pd.read_csv('internal_test.csv')   #  400 rows, 6 cols\n",
        "full_train_data = pd.read_csv('train.csv')              # 2834 rows, 6 cols\n",
        "blind_test_data = pd.read_csv('test.csv')               #    7 rows, 4 cols"
      ],
      "execution_count": null,
      "outputs": []
    },
    {
      "cell_type": "code",
      "metadata": {
        "id": "j07NVC25zphJ"
      },
      "source": [
        "def compute_features(df):\n",
        "    df['flesch_re'] = df.apply (lambda row: textstat.flesch_reading_ease(row['excerpt']), axis=1)\n",
        "    df['flesch_kg'] = df.apply (lambda row: textstat.flesch_kincaid_grade(row['excerpt']), axis=1)\n",
        "    df['coleman'] = df.apply (lambda row: textstat.coleman_liau_index(row['excerpt']), axis=1)\n",
        "    df['auto_idx'] = df.apply (lambda row: textstat.automated_readability_index(row['excerpt']), axis=1)\n",
        "    df['linsear'] = df.apply (lambda row: textstat.linsear_write_formula(row['excerpt']), axis=1)\n",
        "    df['gunning_fog'] = df.apply (lambda row: textstat.gunning_fog(row['excerpt']), axis=1)\n",
        "    df['dale_chall'] = df.apply (lambda row: textstat.dale_chall_readability_score(row['excerpt']), axis=1)\n",
        "\n",
        "compute_features(internal_train_data)\n",
        "compute_features(internal_test_data)\n",
        "compute_features(full_train_data)\n",
        "compute_features(blind_test_data)"
      ],
      "execution_count": null,
      "outputs": []
    },
    {
      "cell_type": "code",
      "metadata": {
        "id": "TzrkDTz31Foh"
      },
      "source": [
        "features = ['flesch_re', 'flesch_kg', 'coleman', 'auto_idx', 'linsear', 'gunning_fog', 'dale_chall']\n",
        "\n",
        "full_train_X = full_train_data[features]\n",
        "internal_train_X = internal_train_data[features]\n",
        "internal_test_X = internal_test_data[features]\n",
        "blind_test_X = blind_test_data[features]\n",
        "\n",
        "# Scale feature\n",
        "scaler = StandardScaler().fit(full_train_X)\n",
        "full_train_X = scaler.transform(full_train_X)\n",
        "internal_train_X = scaler.transform(internal_train_X)\n",
        "internal_test_X = scaler.transform(internal_test_X)\n",
        "blind_test_X = scaler.transform(blind_test_X)"
      ],
      "execution_count": null,
      "outputs": []
    },
    {
      "cell_type": "code",
      "metadata": {
        "colab": {
          "base_uri": "https://localhost:8080/"
        },
        "id": "mESGhPgGbEd3",
        "outputId": "afe6c12d-d407-4bec-f895-e3936773aad6"
      },
      "source": [
        "models = {\n",
        "    'linear_reg': LinearRegression(),\n",
        "    'svr_rbf'   : SVR(kernel='rbf', C=100, gamma=0.1, epsilon=.1),\n",
        "    'ridge'     : Ridge(alpha=1.0)\n",
        "}\n",
        "\n",
        "for name, model in models.items():\n",
        "    print('\\n' + name)\n",
        "    scores = cross_val_score(model, internal_train_X, internal_train_data['target'], cv=5, scoring='neg_root_mean_squared_error')\n",
        "    print(scores)\n",
        "    print('avg:', np.average(scores))"
      ],
      "execution_count": null,
      "outputs": [
        {
          "output_type": "stream",
          "text": [
            "\n",
            "linear_reg\n",
            "[-0.84836944 -0.83090355 -0.80754878 -0.79271503 -0.86242078]\n",
            "avg: -0.8283915168503325\n",
            "\n",
            "svr_rbf\n",
            "[-0.84782461 -0.82681697 -0.79446664 -0.78550343 -0.87172306]\n",
            "avg: -0.825266943011688\n",
            "\n",
            "ridge\n",
            "[-0.84869737 -0.83054144 -0.80727834 -0.79269704 -0.86201346]\n",
            "avg: -0.8282455322047673\n"
          ],
          "name": "stdout"
        }
      ]
    },
    {
      "cell_type": "markdown",
      "metadata": {
        "id": "PWUDhRyYclW5"
      },
      "source": [
        "SVR shows the least RMSE, so we will use it as our final model. To approximate its performance, we test it with the internal test set."
      ]
    },
    {
      "cell_type": "code",
      "metadata": {
        "colab": {
          "base_uri": "https://localhost:8080/"
        },
        "id": "aIB9IE8xb5MX",
        "outputId": "0a88b98b-9f78-4498-9421-c5a7abad914a"
      },
      "source": [
        "model = models['svr_rbf']\n",
        "model.fit(internal_train_X, internal_train_data['target'])\n",
        "y_pred = model.predict(internal_test_X)\n",
        "print(mean_squared_error(internal_test_data['target'], y_pred, squared=False))"
      ],
      "execution_count": null,
      "outputs": [
        {
          "output_type": "stream",
          "text": [
            "0.8008069258529285\n"
          ],
          "name": "stdout"
        }
      ]
    },
    {
      "cell_type": "code",
      "metadata": {
        "id": "G2ZUOt0LO8Qw",
        "colab": {
          "base_uri": "https://localhost:8080/"
        },
        "outputId": "b9c3dc70-a859-4758-d5e9-4803bbffc180"
      },
      "source": [
        "# Train with all training set\n",
        "model.fit(full_train_X, full_train_data['target'])\n",
        "\n",
        "# Predict blind test set\n",
        "blind_test_data['target'] = model.predict(blind_test_X)\n",
        "submission = blind_test_data[['id', 'target']]\n",
        "submission.to_csv('submission.csv', index=False)\n",
        "print(submission)"
      ],
      "execution_count": null,
      "outputs": [
        {
          "output_type": "stream",
          "text": [
            "          id    target\n",
            "0  c0f722661 -0.604432\n",
            "1  f0953f0a5 -0.245682\n",
            "2  0df072751 -0.894516\n",
            "3  04caf4e0c -1.809409\n",
            "4  0e63f8bea -2.175466\n",
            "5  12537fe78 -0.679070\n",
            "6  965e592c0  0.054704\n"
          ],
          "name": "stdout"
        }
      ]
    }
  ]
}