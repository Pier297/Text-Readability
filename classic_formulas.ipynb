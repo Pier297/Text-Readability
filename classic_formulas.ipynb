{
  "nbformat": 4,
  "nbformat_minor": 0,
  "metadata": {
    "colab": {
      "name": "classic_formulas.ipynb",
      "provenance": []
    },
    "kernelspec": {
      "name": "python3",
      "display_name": "Python 3"
    },
    "language_info": {
      "name": "python"
    }
  },
  "cells": [
    {
      "cell_type": "code",
      "metadata": {
        "id": "hHdHRiAwJbJ0"
      },
      "source": [
        "!pip install textstat"
      ],
      "execution_count": null,
      "outputs": []
    },
    {
      "cell_type": "code",
      "metadata": {
        "id": "cXtrEeALy5vY"
      },
      "source": [
        "import numpy as np\n",
        "import pandas as pd\n",
        "import textstat\n",
        "from sklearn.linear_model import LinearRegression, Ridge\n",
        "from sklearn.model_selection import cross_val_score\n",
        "from sklearn.preprocessing import StandardScaler\n",
        "from sklearn.svm import SVR"
      ],
      "execution_count": null,
      "outputs": []
    },
    {
      "cell_type": "code",
      "metadata": {
        "id": "CfdR041QKvzH"
      },
      "source": [
        "train_data = pd.read_csv('train.csv') # 2834 rows, 6 cols\n",
        "test_data = pd.read_csv('test.csv')   #    7 rows, 4 cols"
      ],
      "execution_count": null,
      "outputs": []
    },
    {
      "cell_type": "code",
      "metadata": {
        "id": "j07NVC25zphJ"
      },
      "source": [
        "def compute_features(df):\n",
        "    df['flesch_re'] = df.apply (lambda row: textstat.flesch_reading_ease(row['excerpt']), axis=1)\n",
        "    df['flesch_kg'] = df.apply (lambda row: textstat.flesch_kincaid_grade(row['excerpt']), axis=1)\n",
        "    df['coleman'] = df.apply (lambda row: textstat.coleman_liau_index(row['excerpt']), axis=1)\n",
        "    df['auto_idx'] = df.apply (lambda row: textstat.automated_readability_index(row['excerpt']), axis=1)\n",
        "    df['linsear'] = df.apply (lambda row: textstat.linsear_write_formula(row['excerpt']), axis=1)\n",
        "    df['gunning_fog'] = df.apply (lambda row: textstat.gunning_fog(row['excerpt']), axis=1)\n",
        "    df['dale_chall'] = df.apply (lambda row: textstat.dale_chall_readability_score(row['excerpt']), axis=1)\n",
        "\n",
        "compute_features(train_data)\n",
        "compute_features(test_data)"
      ],
      "execution_count": null,
      "outputs": []
    },
    {
      "cell_type": "code",
      "metadata": {
        "id": "TzrkDTz31Foh"
      },
      "source": [
        "features = ['flesch_re', 'flesch_kg', 'coleman', 'auto_idx', 'linsear', 'gunning_fog', 'dale_chall']\n",
        "\n",
        "train_X = train_data[features]\n",
        "train_y = train_data['target']\n",
        "test_X = test_data[features]\n",
        "\n",
        "# Scale feature\n",
        "scaler = StandardScaler().fit(train_X)\n",
        "train_X = scaler.transform(train_X)\n",
        "test_X = scaler.transform(test_X)"
      ],
      "execution_count": null,
      "outputs": []
    },
    {
      "cell_type": "code",
      "metadata": {
        "colab": {
          "base_uri": "https://localhost:8080/"
        },
        "id": "-7vuz_Dp7ITH",
        "outputId": "7419e506-b44a-4f86-a069-a8f57a75e85d"
      },
      "source": [
        "models = {\n",
        "    'linear_reg': LinearRegression(),\n",
        "    'svr_rbf'   : SVR(kernel='rbf', C=100, gamma=0.1, epsilon=.1),\n",
        "    'ridge'     : Ridge(alpha=1.0)\n",
        "}\n",
        "\n",
        "for name, model in models.items():\n",
        "    print('\\n' + name)\n",
        "    scores = cross_val_score(model, train_X, train_y, cv=5, scoring='neg_root_mean_squared_error')\n",
        "    print(scores)\n",
        "    print('avg:', np.average(scores))"
      ],
      "execution_count": null,
      "outputs": [
        {
          "output_type": "stream",
          "text": [
            "\n",
            "linear_reg\n",
            "[-0.83549822 -0.94292949 -0.87820843 -0.87407251 -0.77085161]\n",
            "avg: -0.8603120528063446\n",
            "\n",
            "svr_rbf\n",
            "[-0.84336044 -0.94113135 -0.85097222 -0.82722789 -0.79444122]\n",
            "avg: -0.8514266239738664\n",
            "\n",
            "ridge\n",
            "[-0.83505734 -0.94155316 -0.87804504 -0.87458208 -0.77052283]\n",
            "avg: -0.8599520891619378\n"
          ],
          "name": "stdout"
        }
      ]
    },
    {
      "cell_type": "code",
      "metadata": {
        "id": "G2ZUOt0LO8Qw",
        "colab": {
          "base_uri": "https://localhost:8080/"
        },
        "outputId": "2068a0e1-f98e-459b-8354-a2baf99c6a2f"
      },
      "source": [
        "# Train with all training set\n",
        "model = models['svr_rbf']\n",
        "model.fit(train_X, train_y)\n",
        "\n",
        "# Predict blind test set\n",
        "test_data['target'] = model.predict(test_X)\n",
        "submission = test_data[['id', 'target']]\n",
        "submission.to_csv('submission.csv', index=False)\n",
        "print(submission)"
      ],
      "execution_count": null,
      "outputs": [
        {
          "output_type": "stream",
          "text": [
            "          id    target\n",
            "0  c0f722661 -0.604432\n",
            "1  f0953f0a5 -0.245682\n",
            "2  0df072751 -0.894516\n",
            "3  04caf4e0c -1.809409\n",
            "4  0e63f8bea -2.175466\n",
            "5  12537fe78 -0.679070\n",
            "6  965e592c0  0.054704\n"
          ],
          "name": "stdout"
        }
      ]
    }
  ]
}