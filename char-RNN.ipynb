{
 "cells": [
  {
   "cell_type": "markdown",
   "metadata": {
    "id": "icNlOrUPs7xp"
   },
   "source": [
    "We'll first try with the simplest possible approach based on char-RNN that read all the excerpt and predicts in output the target complexity."
   ]
  },
  {
   "cell_type": "code",
   "execution_count": 1,
   "metadata": {
    "colab": {
     "base_uri": "https://localhost:8080/"
    },
    "id": "kAIyrp5Fs7xt",
    "outputId": "e0c323d7-f7f3-4486-8b1b-07cd1311d906"
   },
   "outputs": [
    {
     "name": "stdout",
     "output_type": "stream",
     "text": [
      "cuda is used\n"
     ]
    }
   ],
   "source": [
    "import numpy as np\n",
    "import torch\n",
    "import random\n",
    "import os\n",
    "import torch.nn as nn\n",
    "import pandas as pd\n",
    "import matplotlib.pyplot as plt\n",
    "import string\n",
    "from torch.utils.data import Dataset\n",
    "\n",
    "device = torch.device(\"cuda\" if torch.cuda.is_available() else \"cpu\")\n",
    "print(f\"{device} is used\")\n",
    "\n",
    "# seed everything\n",
    "seed = 1\n",
    "random.seed(seed)\n",
    "os.environ['PYTHONASSEED'] = str(seed)\n",
    "np.random.seed(seed)\n",
    "torch.manual_seed(seed)\n",
    "torch.cuda.manual_seed(seed)\n",
    "torch.backends.cudnn.deterministic = True\n",
    "torch.backends.cudnn.benchmark = True"
   ]
  },
  {
   "cell_type": "code",
   "execution_count": 2,
   "metadata": {
    "colab": {
     "base_uri": "https://localhost:8080/"
    },
    "id": "nAk8BRNKs7xv",
    "outputId": "72ae7c3b-81d2-4d31-84d0-af257f7d9d59"
   },
   "outputs": [
    {
     "name": "stdout",
     "output_type": "stream",
     "text": [
      "(2434, 6) (400, 6) (7, 4)\n"
     ]
    }
   ],
   "source": [
    "# Read the data\n",
    "training = pd.read_csv('internal_train.csv').to_numpy()\n",
    "test = pd.read_csv('internal_test.csv').to_numpy()\n",
    "blind_test = pd.read_csv('test.csv').to_numpy()\n",
    "print(training.shape, test.shape, blind_test.shape)"
   ]
  },
  {
   "cell_type": "code",
   "execution_count": 3,
   "metadata": {
    "colab": {
     "base_uri": "https://localhost:8080/"
    },
    "id": "MIYcHII9s7xv",
    "outputId": "009a178d-f997-4c93-f6f6-9bb804459153"
   },
   "outputs": [
    {
     "name": "stdout",
     "output_type": "stream",
     "text": [
      "training shape = (2434,) (2434,)\n",
      "test shape = (400,) (400,)\n",
      "BLIND test shape = (7,)\n"
     ]
    }
   ],
   "source": [
    "# id,url_legal,license,excerpt,target,standard_error\n",
    "\n",
    "# We have 5 features (id,url_legal,license,excerpt,standard_error) and 1 output 'target'\n",
    "\n",
    "# For our model we'll only use the excerpt as a feature\n",
    "training_X = training[:, 3]\n",
    "training_Y = training[:, 4]\n",
    "print('training shape =', training_X.shape, training_Y.shape)\n",
    "\n",
    "test_X = test[:, 3]\n",
    "test_Y = test[:, 4]\n",
    "print('test shape =', test_X.shape, test_Y.shape)\n",
    "\n",
    "blind_test_X = blind_test[:, 3]\n",
    "print('BLIND test shape =', blind_test_X.shape)"
   ]
  },
  {
   "cell_type": "code",
   "execution_count": 4,
   "metadata": {
    "colab": {
     "base_uri": "https://localhost:8080/"
    },
    "id": "qi8sdh8qs7xw",
    "outputId": "2e970969-226b-4747-e198-61c5d37758bb"
   },
   "outputs": [
    {
     "name": "stdout",
     "output_type": "stream",
     "text": [
      "Long, long ago when the earth was new, great mountains covered the world like a blanket, and tall trees spiked the sky. In this world, there was a deep dark pool, silent and cold. At the bottom of this pool were two snakes. One had thick strongly patterned coils, and the other was smaller and more delicate. Then one day, there was a great storm. A flash of lightning pierced right to the bottom of the pool. The waters parted for a moment. The snakes saw the earth above, full of colors and shapes and feathered creatures. When the waters closed again, the snakes could not forget the beauty they had seen. \"We cannot stay in this dark cold pool any longer,\" they said to each other. \"Let us go up and see the earth above.\" \"How will we live on earth?\" said the smaller snake. \"Will we crawl on our bellies?\" \"The birds of the air will not laugh at us for being so low,\" said her friend. \"We will not crawl, we will walk!\" Very slowly the snakes uncoiled themselves. Close together they began to swim up, up, to the light above.\n",
      "\n",
      "Target = 0.202274188\n"
     ]
    }
   ],
   "source": [
    "print(training_X[0])\n",
    "print('\\nTarget =', training_Y[0])"
   ]
  },
  {
   "cell_type": "code",
   "execution_count": 5,
   "metadata": {
    "colab": {
     "base_uri": "https://localhost:8080/",
     "height": 564
    },
    "id": "cZ4xXyoPs7xx",
    "outputId": "80de196c-e315-4673-fcdf-8b4782aa34e7"
   },
   "outputs": [
    {
     "name": "stdout",
     "output_type": "stream",
     "text": [
      "Min target = -3.676267773 | Max target = 1.711389827\n"
     ]
    },
    {
     "data": {
      "image/png": "[encoded data removed]",
      "text/plain": [
       "<Figure size 432x288 with 1 Axes>"
      ]
     },
     "metadata": {
      "needs_background": "light"
     },
     "output_type": "display_data"
    },
    {
     "data": {
      "image/png": "[encoded data removed]",
      "text/plain": [
       "<Figure size 432x288 with 1 Axes>"
      ]
     },
     "metadata": {
      "needs_background": "light"
     },
     "output_type": "display_data"
    }
   ],
   "source": [
    "plt.plot(np.sort(training_Y))\n",
    "plt.title('Training Target')\n",
    "\n",
    "plt.figure()\n",
    "plt.plot(np.sort(test_Y))\n",
    "plt.title('test Target')\n",
    "print(f'Min target = {np.min(training_Y)} | Max target = {np.max(training_Y)}')"
   ]
  },
  {
   "cell_type": "markdown",
   "metadata": {
    "id": "vh-F3FJjs7xy"
   },
   "source": [
    "### Turning excerpts into Tensors\n",
    "\n",
    "To represent a single letter, we use a \"one-hot vector\" of size <1 x n_letters>. A one-hot vector is filled with 0s except for a 1 at index of the current letter, e.g. \"b\" = <0 1 0 0 0 ...>.\n",
    "\n",
    "To make a word we join a bunch of those into a 2D matrix <line_length x 1 x n_letters>.\n",
    "\n",
    "That extra 1 dimension is because PyTorch assumes everything is in batches - we’re just using a batch size of 1 here.\n",
    "\n",
    "So, if we have an excerpt of length 20 the final tensor will be of size 20 x 1 x 57 (alphabet size)"
   ]
  },
  {
   "cell_type": "code",
   "execution_count": 6,
   "metadata": {
    "colab": {
     "base_uri": "https://localhost:8080/"
    },
    "id": "L5pDF_-Js7xy",
    "outputId": "d7c081cc-6974-4b11-d9ad-aad27a401382"
   },
   "outputs": [
    {
     "name": "stdout",
     "output_type": "stream",
     "text": [
      "torch.Size([13, 1, 57])\n",
      "tensor([0., 0., 0., 0., 0., 0., 0., 0., 0., 0., 0., 0., 0., 0., 0., 0., 0., 0.,\n",
      "        0., 0., 0., 0., 0., 0., 0., 0., 0., 0., 0., 0., 0., 0., 0., 0., 0., 0.,\n",
      "        0., 0., 0., 0., 0., 0., 0., 0., 0., 1., 0., 0., 0., 0., 0., 0., 0., 0.,\n",
      "        0., 0., 0.])\n"
     ]
    }
   ],
   "source": [
    "all_letters = string.ascii_letters + \" .,;'\"\n",
    "n_letters = len(all_letters)\n",
    "\n",
    "# Find letter index from all_letters, e.g. \"a\" = 0\n",
    "def letterToIndex(letter):\n",
    "    return all_letters.find(letter)\n",
    "\n",
    "# Turn a line into a <line_length x 1 x n_letters>,\n",
    "# or an array of one-hot letter vectors\n",
    "def lineToTensor(line):\n",
    "    tensor = torch.zeros(len(line), 1, n_letters, dtype=torch.float)\n",
    "    for li, letter in enumerate(line):\n",
    "        tensor[li][0][letterToIndex(letter)] = 1\n",
    "    return tensor\n",
    "\n",
    "print(lineToTensor('Testing words').size())\n",
    "print(lineToTensor('Testing words')[0, 0, :])"
   ]
  },
  {
   "cell_type": "code",
   "execution_count": 7,
   "metadata": {
    "colab": {
     "base_uri": "https://localhost:8080/"
    },
    "id": "6s8cf7iTs7xz",
    "outputId": "8f2328b4-a59a-4a75-977e-c9d912174fda"
   },
   "outputs": [
    {
     "name": "stdout",
     "output_type": "stream",
     "text": [
      "encoded Training shape = (2434, 1, 1341, 57)\n",
      "enc. Test shape = (400, 1, 1323, 57)\n",
      "enc. Test shape = (7, 1, 1144, 57)\n"
     ]
    }
   ],
   "source": [
    "# We want the entire dataset encoded with 1-of-k char encoding\n",
    "# So, the final size will be (n_samples, 1, excerpt_length, 57) (extra dimension 1 inserted for pytorch batch)\n",
    "# Since a tensor has fixed size we pad the sequences to ensure all have the same length.\n",
    "\n",
    "# Get the max excerpt length and encode the training set\n",
    "max_excerpt_len = len(max(training_X, key=len))\n",
    "enc_training_X = np.zeros((training_X.shape[0], 1, max_excerpt_len, n_letters))\n",
    "traing_lengths = []\n",
    "for i, x in enumerate(training_X):\n",
    "    enc_x = lineToTensor(x)\n",
    "    enc_training_X[i, 0, :enc_x.shape[0]] = torch.reshape(enc_x, (-1, 57))\n",
    "    traing_lengths.append(enc_x.shape[0])\n",
    "\n",
    "print('encoded Training shape =',enc_training_X.shape)\n",
    "\n",
    "\n",
    "max_excerpt_len = len(max(test_X, key=len))\n",
    "enc_test_X = np.zeros((test_X.shape[0], 1, max_excerpt_len, n_letters))\n",
    "test_lengths = []\n",
    "for i, x in enumerate(test_X):\n",
    "    enc_x = lineToTensor(x)\n",
    "    enc_test_X[i, 0, :enc_x.shape[0]] = torch.reshape(enc_x, (-1, 57))\n",
    "    test_lengths.append(enc_x.shape[0])\n",
    "\n",
    "print('enc. Test shape =', enc_test_X.shape)\n",
    "\n",
    "\n",
    "max_excerpt_len = len(max(blind_test_X, key=len))\n",
    "enc_blind_test_X = np.zeros((blind_test_X.shape[0], 1, max_excerpt_len, n_letters))\n",
    "blind_test_lengths = []\n",
    "for i, x in enumerate(blind_test_X):\n",
    "    enc_x = lineToTensor(x)\n",
    "    enc_blind_test_X[i, 0, :enc_x.shape[0]] = torch.reshape(enc_x, (-1, 57))\n",
    "    blind_test_lengths.append(enc_x.shape[0])\n",
    "\n",
    "print('enc. Test shape =', enc_blind_test_X.shape)"
   ]
  },
  {
   "cell_type": "code",
   "execution_count": 8,
   "metadata": {
    "colab": {
     "base_uri": "https://localhost:8080/"
    },
    "id": "nKV-nZKJs7x0",
    "outputId": "a40071ec-d75c-4623-9a23-46ad85d8ca34"
   },
   "outputs": [
    {
     "data": {
      "text/plain": [
       "(tensor([[[0., 0., 0.,  ..., 0., 0., 0.]],\n",
       " \n",
       "         [[0., 0., 0.,  ..., 0., 0., 0.]],\n",
       " \n",
       "         [[0., 0., 0.,  ..., 0., 0., 0.]],\n",
       " \n",
       "         ...,\n",
       " \n",
       "         [[0., 0., 0.,  ..., 0., 0., 0.]],\n",
       " \n",
       "         [[0., 0., 0.,  ..., 0., 0., 0.]],\n",
       " \n",
       "         [[0., 0., 0.,  ..., 0., 0., 0.]]], device='cuda:0'),\n",
       " tensor(-1.4338, device='cuda:0'))"
      ]
     },
     "execution_count": 8,
     "metadata": {},
     "output_type": "execute_result"
    }
   ],
   "source": [
    "from math import floor\n",
    "#Utility function to get a random sample\n",
    "def randomTrainingExample():\n",
    "    i = np.random.randint(0, training_X.shape[0])\n",
    "    excerpt_tensor = lineToTensor(training_X[i])\n",
    "    target_tensor = torch.tensor(training_Y[i], dtype=torch.float)\n",
    "    return excerpt_tensor.to(device), target_tensor.to(device)\n",
    "\n",
    "randomTrainingExample()"
   ]
  },
  {
   "cell_type": "code",
   "execution_count": 9,
   "metadata": {
    "id": "TxgzMVEws7x0"
   },
   "outputs": [],
   "source": [
    "class CommonLitDataset(Dataset):\n",
    "    # X: numpy matrix (n_samples, 1, excerpt_length, n_letters)\n",
    "    # basically is a matrix where each row is a string..  \n",
    "    def __init__(self, X, Y, lenghts):\n",
    "        self.X = X\n",
    "        self.Y = Y\n",
    "        self.lengths = lenghts\n",
    "\n",
    "    def __len__(self):\n",
    "        return self.X.shape[0]\n",
    "\n",
    "    def __getitem__(self, idx):\n",
    "        return (torch.tensor(self.X[idx][0]).float(), self.lengths[idx]), torch.tensor(self.Y[idx]).float()"
   ]
  },
  {
   "cell_type": "code",
   "execution_count": 10,
   "metadata": {
    "id": "jLjCYgNls7x0"
   },
   "outputs": [],
   "source": [
    "# Define the model\n",
    "\n",
    "class RNN(nn.Module):\n",
    "    def __init__(self, input_size, hidden_size, output_size):\n",
    "        super(RNN, self).__init__()\n",
    "        self.hidden_size = hidden_size\n",
    "\n",
    "        self.rnn = nn.RNN(input_size, hidden_size, num_layers=1, batch_first=True)\n",
    "        self.output_layer1 = nn.Linear(hidden_size, hidden_layer_size)\n",
    "        self.tanh = nn.Tanh()\n",
    "        self.output_layer2 = nn.Linear(hidden_layer_size, output_size)\n",
    "\n",
    "    def forward(self, input, hidden):\n",
    "        output, hidden = self.rnn(input, hidden)\n",
    "        output = self.output_layer1(hidden)\n",
    "        output = self.tanh(output)\n",
    "        output = self.output_layer2(output)\n",
    "        return output, hidden\n",
    "\n",
    "    def initHidden(self, batch_size):\n",
    "        return torch.zeros(1, batch_size, self.hidden_size).to(device)\n",
    "\n",
    "# Model parameters\n",
    "n_hidden = 256\n",
    "n_output = 1 # Just the target complexity\n",
    "hidden_layer_size = 128\n",
    "\n",
    "rnn = RNN(n_letters, n_hidden, n_output).to(device)"
   ]
  },
  {
   "cell_type": "code",
   "execution_count": 11,
   "metadata": {
    "colab": {
     "base_uri": "https://localhost:8080/"
    },
    "id": "agWTICMCs7x1",
    "outputId": "a26a2555-6368-469b-ac7f-2ba5f559053d"
   },
   "outputs": [
    {
     "name": "stdout",
     "output_type": "stream",
     "text": [
      "torch.Size([1, 57])\n",
      "0.07795041054487228\n"
     ]
    }
   ],
   "source": [
    "# Test the rnn\n",
    "input = lineToTensor('Random test').to(device)\n",
    "hidden = rnn.initHidden(batch_size=1)\n",
    "\n",
    "print(input[0].shape)\n",
    "\n",
    "output, next_hidden = rnn(torch.unsqueeze(input[0], dim=1), hidden)\n",
    "print(output.item())"
   ]
  },
  {
   "cell_type": "code",
   "execution_count": 12,
   "metadata": {
    "id": "ddX-U77ws7x1"
   },
   "outputs": [],
   "source": [
    "# Define a single step of training where it looks at a single excerpts and apply GD\n",
    "criterion = nn.MSELoss(reduction='sum')\n",
    "\n",
    "def train(target_tensor, excerpt_tensor, batch_size, lenghts_sequences):\n",
    "    hidden = rnn.initHidden(batch_size)\n",
    "\n",
    "    rnn.zero_grad()\n",
    "\n",
    "    packed_excerpt_tensor = torch.nn.utils.rnn.pack_padded_sequence(excerpt_tensor, lenghts_sequences, batch_first=True, enforce_sorted=False)\n",
    "\n",
    "    output, hidden = rnn(packed_excerpt_tensor, hidden)\n",
    "\n",
    "    target_tensor = torch.reshape(target_tensor, (1, batch_size, 1))\n",
    "\n",
    "    loss = criterion(output, target_tensor)\n",
    "    loss.backward()\n",
    "\n",
    "    # Add parameters' gradients to their values, multiplied by learning rate\n",
    "    for p in rnn.parameters():\n",
    "        p.data.add_(p.grad.data, alpha=-learning_rate)\n",
    "\n",
    "    return output, loss.item()"
   ]
  },
  {
   "cell_type": "code",
   "execution_count": 13,
   "metadata": {
    "id": "I_DcDlwKs7x1"
   },
   "outputs": [],
   "source": [
    "params = {'batch_size': 64,\n",
    "          'shuffle': True,\n",
    "          'num_workers': 1}\n",
    "\n",
    "commonlit_dataset = CommonLitDataset(enc_training_X, training_Y, traing_lengths)\n",
    "training_generator = torch.utils.data.DataLoader(commonlit_dataset, **params)"
   ]
  },
  {
   "cell_type": "code",
   "execution_count": null,
   "metadata": {
    "colab": {
     "base_uri": "https://localhost:8080/"
    },
    "id": "WNTcVkpes7x2",
    "outputId": "0d0cca3e-83e8-4326-9004-63da08073520"
   },
   "outputs": [],
   "source": [
    "import time\n",
    "import math\n",
    "\n",
    "n_iters = 50\n",
    "print_every = 1\n",
    "plot_every = 1\n",
    "\n",
    "# Keep track of losses for plotting\n",
    "current_loss = 0\n",
    "all_losses = []\n",
    "\n",
    "def timeSince(since):\n",
    "    now = time.time()\n",
    "    s = now - since\n",
    "    m = math.floor(s / 60)\n",
    "    s -= m * 60\n",
    "    return '%dm %ds' % (m, s)\n",
    "\n",
    "start = time.time()\n",
    "\n",
    "learning_rate = 0.0005\n",
    "\n",
    "for iter in range(1, n_iters + 1):\n",
    "    for excerpts_batch, targets_batch in training_generator:\n",
    "        excerpts_batch, excerpts_lenghts = excerpts_batch[0], excerpts_batch[1]\n",
    "        excerpts_batch, targets_batch = excerpts_batch.to(device), targets_batch.to(device)\n",
    "\n",
    "        output, loss = train(targets_batch, excerpts_batch, excerpts_batch.shape[0], excerpts_lenghts)\n",
    "        current_loss += loss\n",
    "\n",
    "    # Avg MSE\n",
    "    current_loss /= enc_training_X.shape[0]\n",
    "\n",
    "    # Print iter number, loss\n",
    "    if iter % print_every == 0:\n",
    "        print('Iteration %d | %d%% (%s) Loss = %.4f' % (iter, iter / n_iters * 100, timeSince(start), current_loss))\n",
    "\n",
    "    # Add current loss avg to list of losses\n",
    "    if iter % plot_every == 0:\n",
    "        all_losses.append(current_loss / plot_every)\n",
    "        current_loss = 0"
   ]
  },
  {
   "cell_type": "code",
   "execution_count": null,
   "metadata": {
    "colab": {
     "base_uri": "https://localhost:8080/",
     "height": 284
    },
    "id": "7CE1fwNJs7x2",
    "outputId": "224fa093-abe4-4cc8-8732-5bb9a9a63d31"
   },
   "outputs": [],
   "source": [
    "# Plot the learning curve\n",
    "plt.figure()\n",
    "plt.plot(all_losses)"
   ]
  },
  {
   "cell_type": "markdown",
   "metadata": {
    "id": "s1eFoTOT6Ajx"
   },
   "source": [
    "## Evaluate the model"
   ]
  },
  {
   "cell_type": "code",
   "execution_count": null,
   "metadata": {
    "id": "b3odVoUa5rXI"
   },
   "outputs": [],
   "source": [
    "test_params = {'batch_size': 64,\n",
    "          'shuffle': False,\n",
    "          'num_workers': 1}\n",
    "\n",
    "internal_test_dataset = CommonLitDataset(enc_test_X, test_Y, test_lengths)\n",
    "test_generator = torch.utils.data.DataLoader(internal_test_dataset, **test_params)\n",
    "\n",
    "\n",
    "blind_test_params = {'batch_size': 1,\n",
    "          'shuffle': False,\n",
    "          'num_workers': 1}\n",
    "\n",
    "blind_test_dataset = CommonLitDataset(enc_blind_test_X, np.zeros(enc_blind_test_X.shape), blind_test_lengths)\n",
    "blind_test_generator = torch.utils.data.DataLoader(blind_test_dataset, **blind_test_params)"
   ]
  },
  {
   "cell_type": "code",
   "execution_count": null,
   "metadata": {
    "colab": {
     "base_uri": "https://localhost:8080/"
    },
    "id": "WSz_-_y_s7x3",
    "outputId": "373fd9b2-5105-4f07-e2c7-7902a0e9734d"
   },
   "outputs": [],
   "source": [
    "# Compute the final MSE on the training set\n",
    "def compute_squared_error(generator):\n",
    "    error = nn.MSELoss(reduction='sum')\n",
    "    with torch.no_grad():\n",
    "        mse = 0.0\n",
    "        for excerpts_batch, targets_batch in generator:\n",
    "            excerpts_batch, excerpts_lenghts = excerpts_batch[0], excerpts_batch[1]\n",
    "            excerpts_batch, targets_batch = excerpts_batch.to(device), targets_batch.to(device)\n",
    "\n",
    "            batch_size = excerpts_batch.shape[0]\n",
    "\n",
    "            hidden = rnn.initHidden(batch_size)\n",
    "\n",
    "            rnn.zero_grad()\n",
    "\n",
    "            packed_excerpt_tensor = torch.nn.utils.rnn.pack_padded_sequence(excerpts_batch, excerpts_lenghts, batch_first=True, enforce_sorted=False)\n",
    "\n",
    "            output, hidden = rnn(packed_excerpt_tensor, hidden)\n",
    "\n",
    "            targets_batch = torch.reshape(targets_batch, (1, batch_size, 1))\n",
    "\n",
    "            loss = criterion(output, targets_batch)\n",
    "            mse += loss.item()\n",
    "    return mse\n",
    "print('Training RMSE =', np.sqrt(compute_squared_error(training_generator) / enc_training_X.shape[0]))\n",
    "print('Internal TEST RMSE =', np.sqrt(compute_squared_error(test_generator) / enc_test_X.shape[0]))\n",
    "    "
   ]
  },
  {
   "cell_type": "markdown",
   "metadata": {
    "id": "nGPYFMTABCmK"
   },
   "source": [
    "# Compute blind test set outputs"
   ]
  },
  {
   "cell_type": "code",
   "execution_count": null,
   "metadata": {
    "colab": {
     "base_uri": "https://localhost:8080/"
    },
    "id": "FwVmaAugBCMM",
    "outputId": "27156aed-1ae7-4cef-beb4-fe77ce804671"
   },
   "outputs": [],
   "source": [
    "outputs = []\n",
    "with torch.no_grad():\n",
    "    mse = 0.0\n",
    "    for i, (excerpts_batch, targets_batch) in enumerate(blind_test_generator):\n",
    "        excerpts_batch, excerpts_lenghts = excerpts_batch[0], excerpts_batch[1]\n",
    "\n",
    "        excerpts_batch = excerpts_batch.to(device)\n",
    "\n",
    "        batch_size = excerpts_batch.shape[0]\n",
    "\n",
    "        hidden = rnn.initHidden(batch_size)\n",
    "\n",
    "        rnn.zero_grad()\n",
    "\n",
    "        packed_excerpt_tensor = torch.nn.utils.rnn.pack_padded_sequence(excerpts_batch, excerpts_lenghts, batch_first=True, enforce_sorted=False)\n",
    "\n",
    "        output, hidden = rnn(packed_excerpt_tensor, hidden)\n",
    "        id = blind_test[i, 0]\n",
    "        print(id, output.item())\n",
    "        outputs.append((id, output.item()))\n",
    "\n",
    "# Save outputs to submission.csv\n",
    "if False:\n",
    "    with open('submission.csv', 'w') as f:\n",
    "        f.write('id,target\\n')\n",
    "        for id, o in outputs:\n",
    "            f.write(id+','+o+'\\n')"
   ]
  },
  {
   "cell_type": "code",
   "execution_count": null,
   "metadata": {
    "id": "7wnMzcZvCl8Z"
   },
   "outputs": [],
   "source": []
  },
  {
   "cell_type": "markdown",
   "metadata": {
    "id": "RP4t2r6es7x4"
   },
   "source": [
    " NEXT:\n",
    "\n",
    "https://pytorch.org/tutorials/beginner/basics/data_tutorial.html\n",
    " \n",
    " \n",
    " \n",
    "    Try the nn.LSTM and nn.GRU layers\n",
    "    Combine multiple of these RNNs as a higher level network\n"
   ]
  },
  {
   "cell_type": "code",
   "execution_count": null,
   "metadata": {
    "id": "wt08ZXlQ5gvI"
   },
   "outputs": [],
   "source": []
  }
 ],
 "metadata": {
  "accelerator": "GPU",
  "colab": {
   "collapsed_sections": [],
   "name": "char-RNN.ipynb",
   "provenance": []
  },
  "kernelspec": {
   "display_name": "Python 3 (ipykernel)",
   "language": "python",
   "name": "python3"
  },
  "language_info": {
   "codemirror_mode": {
    "name": "ipython",
    "version": 3
   },
   "file_extension": ".py",
   "mimetype": "text/x-python",
   "name": "python",
   "nbconvert_exporter": "python",
   "pygments_lexer": "ipython3",
   "version": "3.8.10"
  }
 },
 "nbformat": 4,
 "nbformat_minor": 1
}
