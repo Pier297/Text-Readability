{
  "nbformat": 4,
  "nbformat_minor": 0,
  "metadata": {
    "colab": {
      "name": "regression_svr",
      "provenance": []
    },
    "kernelspec": {
      "display_name": "Python 3",
      "name": "python3"
    }
  },
  "cells": [
    {
      "cell_type": "code",
      "metadata": {
        "id": "6V4hSRRz4QE4"
      },
      "source": [
        "!pip install transformers"
      ],
      "execution_count": null,
      "outputs": []
    },
    {
      "cell_type": "code",
      "metadata": {
        "id": "UBYu8g29dghS"
      },
      "source": [
        "import numpy as np\n",
        "import pandas as pd\n",
        "\n",
        "train_data = pd.read_csv('train.csv') # 2834 rows, 6 cols\n",
        "test_data = pd.read_csv('test.csv')   #    7 rows, 4 cols\n",
        "\n",
        "target = train_data['target'].to_numpy()"
      ],
      "execution_count": 2,
      "outputs": []
    },
    {
      "cell_type": "code",
      "metadata": {
        "colab": {
          "base_uri": "https://localhost:8080/",
          "height": 282
        },
        "id": "mwTRjiOTsr45",
        "outputId": "884b7857-2eac-4e0a-e8ce-771f79a8b482"
      },
      "source": [
        "import matplotlib.pyplot as plt\n",
        "plt.plot(np.sort(target))"
      ],
      "execution_count": null,
      "outputs": [
        {
          "output_type": "execute_result",
          "data": {
            "text/plain": [
              "[<matplotlib.lines.Line2D at 0x7f2a42241b50>]"
            ]
          },
          "metadata": {
            "tags": []
          },
          "execution_count": 29
        },
        {
          "output_type": "display_data",
          "data": {
            "image/png": "[encoded data removed]",
            "text/plain": [
              "<Figure size 432x288 with 1 Axes>"
            ]
          },
          "metadata": {
            "tags": [],
            "needs_background": "light"
          }
        }
      ]
    },
    {
      "cell_type": "code",
      "metadata": {
        "id": "bMsPRREDzpEi"
      },
      "source": [
        "from transformers import BertTokenizer, BertModel\n",
        "import torch\n",
        "\n",
        "tokenizer = BertTokenizer.from_pretrained('bert-base-uncased')\n",
        "model = BertModel.from_pretrained(\"bert-base-uncased\")\n",
        "\n",
        "#i = 0\n",
        "#train_embeddings = list()\n",
        "#for excerpt in train_data['excerpt']:\n",
        "#    encoded_input = tokenizer(excerpt, return_tensors='pt')\n",
        "#    output = model(**encoded_input)\n",
        "#    train_embeddings.extend(output['last_hidden_state'][:,0].detach().numpy())\n",
        "#    if i%100 == 0:\n",
        "#        print(i)\n",
        "#    i += 1\n",
        "## Save embeddings\n",
        "#np.save(f'train_embeddings_bert_uncased', train_embeddings)\n",
        "\n",
        "train_embeddings_bert_uncased = np.load('train_embeddings_bert_uncased.npy')\n",
        "train_embeddings_bert_cased = np.load('train_embeddings_bert_cased.npy')"
      ],
      "execution_count": null,
      "outputs": []
    },
    {
      "cell_type": "markdown",
      "metadata": {
        "id": "egOwf943e83Z"
      },
      "source": [
        "# BERT-uncased"
      ]
    },
    {
      "cell_type": "code",
      "metadata": {
        "colab": {
          "base_uri": "https://localhost:8080/"
        },
        "id": "sppkI5YZfBMk",
        "outputId": "0fc4bf4d-5f83-418c-92a8-9bf2f74d345a"
      },
      "source": [
        "from sklearn.linear_model import LinearRegression\n",
        "from sklearn.model_selection import cross_val_score\n",
        "\n",
        "reg = LinearRegression()\n",
        "scores = cross_val_score(reg, train_embeddings_bert_uncased, target, cv=5, scoring='neg_root_mean_squared_error')\n",
        "print(scores)\n",
        "print(np.average(scores))"
      ],
      "execution_count": 4,
      "outputs": [
        {
          "output_type": "stream",
          "text": [
            "[-0.72706851 -0.76652945 -0.68880734 -0.70817172 -0.70991403]\n",
            "-0.7200982093825152\n"
          ],
          "name": "stdout"
        }
      ]
    },
    {
      "cell_type": "code",
      "metadata": {
        "id": "qMVPwAfHS9tj",
        "colab": {
          "base_uri": "https://localhost:8080/"
        },
        "outputId": "1a718102-3848-4337-9465-5c734257c165"
      },
      "source": [
        "from sklearn.svm import SVR\n",
        "\n",
        "svr_rbf = SVR(kernel='rbf', C=100, gamma=0.1, epsilon=.1)\n",
        "scores = cross_val_score(svr_rbf, train_embeddings_bert_uncased, target, cv=5, scoring='neg_root_mean_squared_error')\n",
        "print(scores)\n",
        "print(np.average(scores))"
      ],
      "execution_count": 5,
      "outputs": [
        {
          "output_type": "stream",
          "text": [
            "[-0.85750959 -1.12014147 -1.07072126 -1.13007484 -0.87799757]\n",
            "-1.0112889463046226\n"
          ],
          "name": "stdout"
        }
      ]
    },
    {
      "cell_type": "markdown",
      "metadata": {
        "id": "Lp77Evd_e4II"
      },
      "source": [
        "# BERT-cased"
      ]
    },
    {
      "cell_type": "code",
      "metadata": {
        "colab": {
          "base_uri": "https://localhost:8080/"
        },
        "id": "4cXim4oOfKzz",
        "outputId": "6975d1b8-2c06-47df-837d-bc69b3f01a58"
      },
      "source": [
        "reg = LinearRegression()\n",
        "scores = cross_val_score(reg, train_embeddings_bert_cased, target, cv=5, scoring='neg_root_mean_squared_error')\n",
        "print(scores)\n",
        "print(np.average(scores))"
      ],
      "execution_count": 6,
      "outputs": [
        {
          "output_type": "stream",
          "text": [
            "[-0.69231777 -0.80121912 -0.73203562 -0.7345795  -0.73260188]\n",
            "-0.7385507779024574\n"
          ],
          "name": "stdout"
        }
      ]
    },
    {
      "cell_type": "code",
      "metadata": {
        "colab": {
          "base_uri": "https://localhost:8080/"
        },
        "id": "z4JmuSWImJzq",
        "outputId": "d75fc81f-d0fd-481a-8bdf-dd5f0468cf1c"
      },
      "source": [
        "svr_rbf = SVR(kernel='rbf', C=100, gamma=0.1, epsilon=.1)\n",
        "scores = cross_val_score(svr_rbf, train_embeddings_bert_cased, target, cv=5, scoring='neg_root_mean_squared_error')\n",
        "print(scores)\n",
        "print(np.average(scores))"
      ],
      "execution_count": 7,
      "outputs": [
        {
          "output_type": "stream",
          "text": [
            "[-0.65624737 -0.72307258 -0.69802603 -0.72910269 -0.66428342]\n",
            "-0.6941464184218323\n"
          ],
          "name": "stdout"
        }
      ]
    },
    {
      "cell_type": "markdown",
      "metadata": {
        "id": "_PlxwHlKnJDh"
      },
      "source": [
        "# Predict Test Set"
      ]
    },
    {
      "cell_type": "code",
      "metadata": {
        "id": "SP4J11gQn5pr"
      },
      "source": [
        "test_embeddings = list()\n",
        "for excerpt in test_data['excerpt']:\n",
        "    encoded_input = tokenizer(excerpt, return_tensors='pt')\n",
        "    output = model(**encoded_input)\n",
        "    test_embeddings.extend(output['last_hidden_state'][:,0].detach().numpy())"
      ],
      "execution_count": 8,
      "outputs": []
    },
    {
      "cell_type": "code",
      "metadata": {
        "colab": {
          "base_uri": "https://localhost:8080/"
        },
        "id": "M8zOvXDupE2d",
        "outputId": "ac48c7e1-613b-47ca-a29d-f9e0489041f0"
      },
      "source": [
        "# Train with all training set\n",
        "reg.fit(train_embeddings_bert_uncased, target)"
      ],
      "execution_count": 9,
      "outputs": [
        {
          "output_type": "execute_result",
          "data": {
            "text/plain": [
              "LinearRegression(copy_X=True, fit_intercept=True, n_jobs=None, normalize=False)"
            ]
          },
          "metadata": {
            "tags": []
          },
          "execution_count": 9
        }
      ]
    },
    {
      "cell_type": "code",
      "metadata": {
        "id": "p99jtdmGnIjJ"
      },
      "source": [
        "test_data['target'] = reg.predict(test_embeddings)\n",
        "submission = test_data[['id', 'target']]\n",
        "submission.to_csv('submission.csv', index=False)"
      ],
      "execution_count": 10,
      "outputs": []
    }
  ]
}