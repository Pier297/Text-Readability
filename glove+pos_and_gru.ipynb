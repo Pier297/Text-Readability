{
  "nbformat": 4,
  "nbformat_minor": 2,
  "metadata": {
    "kernelspec": {
      "display_name": "Python 3",
      "language": "python",
      "name": "python3"
    },
    "language_info": {
      "codemirror_mode": {
        "name": "ipython",
        "version": 3
      },
      "file_extension": ".py",
      "mimetype": "text/x-python",
      "name": "python",
      "nbconvert_exporter": "python",
      "pygments_lexer": "ipython3",
      "version": "3.7.6"
    },
    "colab": {
      "name": "glove+pos_and_gru.ipynb",
      "provenance": [],
      "collapsed_sections": [],
      "machine_shape": "hm"
    },
    "accelerator": "GPU",
    "widgets": {
      "application/vnd.jupyter.widget-state+json": {
        "6188389cbe454969bf9ed6aeaaa0d3b6": {
          "model_module": "@jupyter-widgets/controls",
          "model_name": "HBoxModel",
          "state": {
            "_view_name": "HBoxView",
            "_dom_classes": [],
            "_model_name": "HBoxModel",
            "_view_module": "@jupyter-widgets/controls",
            "_model_module_version": "1.5.0",
            "_view_count": null,
            "_view_module_version": "1.5.0",
            "box_style": "",
            "layout": "IPY_MODEL_85dcb172c6364240add8ce17bcd5cb8f",
            "_model_module": "@jupyter-widgets/controls",
            "children": [
              "IPY_MODEL_c1357ce975c94fc79f92feed79bfc9ad",
              "IPY_MODEL_65c32fd7f4da4f42ac62a48a7db62366"
            ]
          }
        },
        "85dcb172c6364240add8ce17bcd5cb8f": {
          "model_module": "@jupyter-widgets/base",
          "model_name": "LayoutModel",
          "state": {
            "_view_name": "LayoutView",
            "grid_template_rows": null,
            "right": null,
            "justify_content": null,
            "_view_module": "@jupyter-widgets/base",
            "overflow": null,
            "_model_module_version": "1.2.0",
            "_view_count": null,
            "flex_flow": null,
            "width": null,
            "min_width": null,
            "border": null,
            "align_items": null,
            "bottom": null,
            "_model_module": "@jupyter-widgets/base",
            "top": null,
            "grid_column": null,
            "overflow_y": null,
            "overflow_x": null,
            "grid_auto_flow": null,
            "grid_area": null,
            "grid_template_columns": null,
            "flex": null,
            "_model_name": "LayoutModel",
            "justify_items": null,
            "grid_row": null,
            "max_height": null,
            "align_content": null,
            "visibility": null,
            "align_self": null,
            "height": null,
            "min_height": null,
            "padding": null,
            "grid_auto_rows": null,
            "grid_gap": null,
            "max_width": null,
            "order": null,
            "_view_module_version": "1.2.0",
            "grid_template_areas": null,
            "object_position": null,
            "object_fit": null,
            "grid_auto_columns": null,
            "margin": null,
            "display": null,
            "left": null
          }
        },
        "c1357ce975c94fc79f92feed79bfc9ad": {
          "model_module": "@jupyter-widgets/controls",
          "model_name": "FloatProgressModel",
          "state": {
            "_view_name": "ProgressView",
            "style": "IPY_MODEL_60d81ff61e574606b117363ce5fbe98b",
            "_dom_classes": [],
            "description": "Downloading: 100%",
            "_model_name": "FloatProgressModel",
            "bar_style": "success",
            "max": 231508,
            "_view_module": "@jupyter-widgets/controls",
            "_model_module_version": "1.5.0",
            "value": 231508,
            "_view_count": null,
            "_view_module_version": "1.5.0",
            "orientation": "horizontal",
            "min": 0,
            "description_tooltip": null,
            "_model_module": "@jupyter-widgets/controls",
            "layout": "IPY_MODEL_a176b3be3319422fb30078a20b57f020"
          }
        },
        "65c32fd7f4da4f42ac62a48a7db62366": {
          "model_module": "@jupyter-widgets/controls",
          "model_name": "HTMLModel",
          "state": {
            "_view_name": "HTMLView",
            "style": "IPY_MODEL_13db677370d7402d8d568583c4305c7b",
            "_dom_classes": [],
            "description": "",
            "_model_name": "HTMLModel",
            "placeholder": "​",
            "_view_module": "@jupyter-widgets/controls",
            "_model_module_version": "1.5.0",
            "value": " 232k/232k [00:02&lt;00:00, 106kB/s]",
            "_view_count": null,
            "_view_module_version": "1.5.0",
            "description_tooltip": null,
            "_model_module": "@jupyter-widgets/controls",
            "layout": "IPY_MODEL_4d3b15e84b0c4fd3a8934b153d1c29f3"
          }
        },
        "60d81ff61e574606b117363ce5fbe98b": {
          "model_module": "@jupyter-widgets/controls",
          "model_name": "ProgressStyleModel",
          "state": {
            "_view_name": "StyleView",
            "_model_name": "ProgressStyleModel",
            "description_width": "initial",
            "_view_module": "@jupyter-widgets/base",
            "_model_module_version": "1.5.0",
            "_view_count": null,
            "_view_module_version": "1.2.0",
            "bar_color": null,
            "_model_module": "@jupyter-widgets/controls"
          }
        },
        "a176b3be3319422fb30078a20b57f020": {
          "model_module": "@jupyter-widgets/base",
          "model_name": "LayoutModel",
          "state": {
            "_view_name": "LayoutView",
            "grid_template_rows": null,
            "right": null,
            "justify_content": null,
            "_view_module": "@jupyter-widgets/base",
            "overflow": null,
            "_model_module_version": "1.2.0",
            "_view_count": null,
            "flex_flow": null,
            "width": null,
            "min_width": null,
            "border": null,
            "align_items": null,
            "bottom": null,
            "_model_module": "@jupyter-widgets/base",
            "top": null,
            "grid_column": null,
            "overflow_y": null,
            "overflow_x": null,
            "grid_auto_flow": null,
            "grid_area": null,
            "grid_template_columns": null,
            "flex": null,
            "_model_name": "LayoutModel",
            "justify_items": null,
            "grid_row": null,
            "max_height": null,
            "align_content": null,
            "visibility": null,
            "align_self": null,
            "height": null,
            "min_height": null,
            "padding": null,
            "grid_auto_rows": null,
            "grid_gap": null,
            "max_width": null,
            "order": null,
            "_view_module_version": "1.2.0",
            "grid_template_areas": null,
            "object_position": null,
            "object_fit": null,
            "grid_auto_columns": null,
            "margin": null,
            "display": null,
            "left": null
          }
        },
        "13db677370d7402d8d568583c4305c7b": {
          "model_module": "@jupyter-widgets/controls",
          "model_name": "DescriptionStyleModel",
          "state": {
            "_view_name": "StyleView",
            "_model_name": "DescriptionStyleModel",
            "description_width": "",
            "_view_module": "@jupyter-widgets/base",
            "_model_module_version": "1.5.0",
            "_view_count": null,
            "_view_module_version": "1.2.0",
            "_model_module": "@jupyter-widgets/controls"
          }
        },
        "4d3b15e84b0c4fd3a8934b153d1c29f3": {
          "model_module": "@jupyter-widgets/base",
          "model_name": "LayoutModel",
          "state": {
            "_view_name": "LayoutView",
            "grid_template_rows": null,
            "right": null,
            "justify_content": null,
            "_view_module": "@jupyter-widgets/base",
            "overflow": null,
            "_model_module_version": "1.2.0",
            "_view_count": null,
            "flex_flow": null,
            "width": null,
            "min_width": null,
            "border": null,
            "align_items": null,
            "bottom": null,
            "_model_module": "@jupyter-widgets/base",
            "top": null,
            "grid_column": null,
            "overflow_y": null,
            "overflow_x": null,
            "grid_auto_flow": null,
            "grid_area": null,
            "grid_template_columns": null,
            "flex": null,
            "_model_name": "LayoutModel",
            "justify_items": null,
            "grid_row": null,
            "max_height": null,
            "align_content": null,
            "visibility": null,
            "align_self": null,
            "height": null,
            "min_height": null,
            "padding": null,
            "grid_auto_rows": null,
            "grid_gap": null,
            "max_width": null,
            "order": null,
            "_view_module_version": "1.2.0",
            "grid_template_areas": null,
            "object_position": null,
            "object_fit": null,
            "grid_auto_columns": null,
            "margin": null,
            "display": null,
            "left": null
          }
        },
        "4d875d1650d6435eb05c18d88929f49c": {
          "model_module": "@jupyter-widgets/controls",
          "model_name": "HBoxModel",
          "state": {
            "_view_name": "HBoxView",
            "_dom_classes": [],
            "_model_name": "HBoxModel",
            "_view_module": "@jupyter-widgets/controls",
            "_model_module_version": "1.5.0",
            "_view_count": null,
            "_view_module_version": "1.5.0",
            "box_style": "",
            "layout": "IPY_MODEL_efcde896f2ab4b56a2516d4b2701adc7",
            "_model_module": "@jupyter-widgets/controls",
            "children": [
              "IPY_MODEL_70f8d74abff145bfa724251063d0ad67",
              "IPY_MODEL_4f1389cfe0e34b1193c18ec36cfbbf61"
            ]
          }
        },
        "efcde896f2ab4b56a2516d4b2701adc7": {
          "model_module": "@jupyter-widgets/base",
          "model_name": "LayoutModel",
          "state": {
            "_view_name": "LayoutView",
            "grid_template_rows": null,
            "right": null,
            "justify_content": null,
            "_view_module": "@jupyter-widgets/base",
            "overflow": null,
            "_model_module_version": "1.2.0",
            "_view_count": null,
            "flex_flow": null,
            "width": null,
            "min_width": null,
            "border": null,
            "align_items": null,
            "bottom": null,
            "_model_module": "@jupyter-widgets/base",
            "top": null,
            "grid_column": null,
            "overflow_y": null,
            "overflow_x": null,
            "grid_auto_flow": null,
            "grid_area": null,
            "grid_template_columns": null,
            "flex": null,
            "_model_name": "LayoutModel",
            "justify_items": null,
            "grid_row": null,
            "max_height": null,
            "align_content": null,
            "visibility": null,
            "align_self": null,
            "height": null,
            "min_height": null,
            "padding": null,
            "grid_auto_rows": null,
            "grid_gap": null,
            "max_width": null,
            "order": null,
            "_view_module_version": "1.2.0",
            "grid_template_areas": null,
            "object_position": null,
            "object_fit": null,
            "grid_auto_columns": null,
            "margin": null,
            "display": null,
            "left": null
          }
        },
        "70f8d74abff145bfa724251063d0ad67": {
          "model_module": "@jupyter-widgets/controls",
          "model_name": "FloatProgressModel",
          "state": {
            "_view_name": "ProgressView",
            "style": "IPY_MODEL_ac648f517b3648498dbb42f1c4859441",
            "_dom_classes": [],
            "description": "Downloading: 100%",
            "_model_name": "FloatProgressModel",
            "bar_style": "success",
            "max": 28,
            "_view_module": "@jupyter-widgets/controls",
            "_model_module_version": "1.5.0",
            "value": 28,
            "_view_count": null,
            "_view_module_version": "1.5.0",
            "orientation": "horizontal",
            "min": 0,
            "description_tooltip": null,
            "_model_module": "@jupyter-widgets/controls",
            "layout": "IPY_MODEL_024e9bc535a541e2916cef9a43ebc434"
          }
        },
        "4f1389cfe0e34b1193c18ec36cfbbf61": {
          "model_module": "@jupyter-widgets/controls",
          "model_name": "HTMLModel",
          "state": {
            "_view_name": "HTMLView",
            "style": "IPY_MODEL_7f797ed69e0140edab608fa42c399e61",
            "_dom_classes": [],
            "description": "",
            "_model_name": "HTMLModel",
            "placeholder": "​",
            "_view_module": "@jupyter-widgets/controls",
            "_model_module_version": "1.5.0",
            "value": " 28.0/28.0 [00:00&lt;00:00, 43.3B/s]",
            "_view_count": null,
            "_view_module_version": "1.5.0",
            "description_tooltip": null,
            "_model_module": "@jupyter-widgets/controls",
            "layout": "IPY_MODEL_9d306cae1cc245d4bfe607a3f172d71d"
          }
        },
        "ac648f517b3648498dbb42f1c4859441": {
          "model_module": "@jupyter-widgets/controls",
          "model_name": "ProgressStyleModel",
          "state": {
            "_view_name": "StyleView",
            "_model_name": "ProgressStyleModel",
            "description_width": "initial",
            "_view_module": "@jupyter-widgets/base",
            "_model_module_version": "1.5.0",
            "_view_count": null,
            "_view_module_version": "1.2.0",
            "bar_color": null,
            "_model_module": "@jupyter-widgets/controls"
          }
        },
        "024e9bc535a541e2916cef9a43ebc434": {
          "model_module": "@jupyter-widgets/base",
          "model_name": "LayoutModel",
          "state": {
            "_view_name": "LayoutView",
            "grid_template_rows": null,
            "right": null,
            "justify_content": null,
            "_view_module": "@jupyter-widgets/base",
            "overflow": null,
            "_model_module_version": "1.2.0",
            "_view_count": null,
            "flex_flow": null,
            "width": null,
            "min_width": null,
            "border": null,
            "align_items": null,
            "bottom": null,
            "_model_module": "@jupyter-widgets/base",
            "top": null,
            "grid_column": null,
            "overflow_y": null,
            "overflow_x": null,
            "grid_auto_flow": null,
            "grid_area": null,
            "grid_template_columns": null,
            "flex": null,
            "_model_name": "LayoutModel",
            "justify_items": null,
            "grid_row": null,
            "max_height": null,
            "align_content": null,
            "visibility": null,
            "align_self": null,
            "height": null,
            "min_height": null,
            "padding": null,
            "grid_auto_rows": null,
            "grid_gap": null,
            "max_width": null,
            "order": null,
            "_view_module_version": "1.2.0",
            "grid_template_areas": null,
            "object_position": null,
            "object_fit": null,
            "grid_auto_columns": null,
            "margin": null,
            "display": null,
            "left": null
          }
        },
        "7f797ed69e0140edab608fa42c399e61": {
          "model_module": "@jupyter-widgets/controls",
          "model_name": "DescriptionStyleModel",
          "state": {
            "_view_name": "StyleView",
            "_model_name": "DescriptionStyleModel",
            "description_width": "",
            "_view_module": "@jupyter-widgets/base",
            "_model_module_version": "1.5.0",
            "_view_count": null,
            "_view_module_version": "1.2.0",
            "_model_module": "@jupyter-widgets/controls"
          }
        },
        "9d306cae1cc245d4bfe607a3f172d71d": {
          "model_module": "@jupyter-widgets/base",
          "model_name": "LayoutModel",
          "state": {
            "_view_name": "LayoutView",
            "grid_template_rows": null,
            "right": null,
            "justify_content": null,
            "_view_module": "@jupyter-widgets/base",
            "overflow": null,
            "_model_module_version": "1.2.0",
            "_view_count": null,
            "flex_flow": null,
            "width": null,
            "min_width": null,
            "border": null,
            "align_items": null,
            "bottom": null,
            "_model_module": "@jupyter-widgets/base",
            "top": null,
            "grid_column": null,
            "overflow_y": null,
            "overflow_x": null,
            "grid_auto_flow": null,
            "grid_area": null,
            "grid_template_columns": null,
            "flex": null,
            "_model_name": "LayoutModel",
            "justify_items": null,
            "grid_row": null,
            "max_height": null,
            "align_content": null,
            "visibility": null,
            "align_self": null,
            "height": null,
            "min_height": null,
            "padding": null,
            "grid_auto_rows": null,
            "grid_gap": null,
            "max_width": null,
            "order": null,
            "_view_module_version": "1.2.0",
            "grid_template_areas": null,
            "object_position": null,
            "object_fit": null,
            "grid_auto_columns": null,
            "margin": null,
            "display": null,
            "left": null
          }
        },
        "810f25b76e714f51a0a3b94cbbfd5181": {
          "model_module": "@jupyter-widgets/controls",
          "model_name": "HBoxModel",
          "state": {
            "_view_name": "HBoxView",
            "_dom_classes": [],
            "_model_name": "HBoxModel",
            "_view_module": "@jupyter-widgets/controls",
            "_model_module_version": "1.5.0",
            "_view_count": null,
            "_view_module_version": "1.5.0",
            "box_style": "",
            "layout": "IPY_MODEL_d2104524feca4ddc8ea5adf1b8d184f6",
            "_model_module": "@jupyter-widgets/controls",
            "children": [
              "IPY_MODEL_822030c65aa448bc9f5ab72267d4b0cc",
              "IPY_MODEL_9db1b5ab176f412bb9c62490330c129f"
            ]
          }
        },
        "d2104524feca4ddc8ea5adf1b8d184f6": {
          "model_module": "@jupyter-widgets/base",
          "model_name": "LayoutModel",
          "state": {
            "_view_name": "LayoutView",
            "grid_template_rows": null,
            "right": null,
            "justify_content": null,
            "_view_module": "@jupyter-widgets/base",
            "overflow": null,
            "_model_module_version": "1.2.0",
            "_view_count": null,
            "flex_flow": null,
            "width": null,
            "min_width": null,
            "border": null,
            "align_items": null,
            "bottom": null,
            "_model_module": "@jupyter-widgets/base",
            "top": null,
            "grid_column": null,
            "overflow_y": null,
            "overflow_x": null,
            "grid_auto_flow": null,
            "grid_area": null,
            "grid_template_columns": null,
            "flex": null,
            "_model_name": "LayoutModel",
            "justify_items": null,
            "grid_row": null,
            "max_height": null,
            "align_content": null,
            "visibility": null,
            "align_self": null,
            "height": null,
            "min_height": null,
            "padding": null,
            "grid_auto_rows": null,
            "grid_gap": null,
            "max_width": null,
            "order": null,
            "_view_module_version": "1.2.0",
            "grid_template_areas": null,
            "object_position": null,
            "object_fit": null,
            "grid_auto_columns": null,
            "margin": null,
            "display": null,
            "left": null
          }
        },
        "822030c65aa448bc9f5ab72267d4b0cc": {
          "model_module": "@jupyter-widgets/controls",
          "model_name": "FloatProgressModel",
          "state": {
            "_view_name": "ProgressView",
            "style": "IPY_MODEL_d57074766d4e4e128729ed0e091bfbbe",
            "_dom_classes": [],
            "description": "Downloading: 100%",
            "_model_name": "FloatProgressModel",
            "bar_style": "success",
            "max": 466062,
            "_view_module": "@jupyter-widgets/controls",
            "_model_module_version": "1.5.0",
            "value": 466062,
            "_view_count": null,
            "_view_module_version": "1.5.0",
            "orientation": "horizontal",
            "min": 0,
            "description_tooltip": null,
            "_model_module": "@jupyter-widgets/controls",
            "layout": "IPY_MODEL_5388c27bb2454343980976b285ae5496"
          }
        },
        "9db1b5ab176f412bb9c62490330c129f": {
          "model_module": "@jupyter-widgets/controls",
          "model_name": "HTMLModel",
          "state": {
            "_view_name": "HTMLView",
            "style": "IPY_MODEL_3d3d2de0158749a09dc45a947e4d83da",
            "_dom_classes": [],
            "description": "",
            "_model_name": "HTMLModel",
            "placeholder": "​",
            "_view_module": "@jupyter-widgets/controls",
            "_model_module_version": "1.5.0",
            "value": " 466k/466k [00:00&lt;00:00, 2.17MB/s]",
            "_view_count": null,
            "_view_module_version": "1.5.0",
            "description_tooltip": null,
            "_model_module": "@jupyter-widgets/controls",
            "layout": "IPY_MODEL_65ee0333d5284e3bbb15e66bebddddf9"
          }
        },
        "d57074766d4e4e128729ed0e091bfbbe": {
          "model_module": "@jupyter-widgets/controls",
          "model_name": "ProgressStyleModel",
          "state": {
            "_view_name": "StyleView",
            "_model_name": "ProgressStyleModel",
            "description_width": "initial",
            "_view_module": "@jupyter-widgets/base",
            "_model_module_version": "1.5.0",
            "_view_count": null,
            "_view_module_version": "1.2.0",
            "bar_color": null,
            "_model_module": "@jupyter-widgets/controls"
          }
        },
        "5388c27bb2454343980976b285ae5496": {
          "model_module": "@jupyter-widgets/base",
          "model_name": "LayoutModel",
          "state": {
            "_view_name": "LayoutView",
            "grid_template_rows": null,
            "right": null,
            "justify_content": null,
            "_view_module": "@jupyter-widgets/base",
            "overflow": null,
            "_model_module_version": "1.2.0",
            "_view_count": null,
            "flex_flow": null,
            "width": null,
            "min_width": null,
            "border": null,
            "align_items": null,
            "bottom": null,
            "_model_module": "@jupyter-widgets/base",
            "top": null,
            "grid_column": null,
            "overflow_y": null,
            "overflow_x": null,
            "grid_auto_flow": null,
            "grid_area": null,
            "grid_template_columns": null,
            "flex": null,
            "_model_name": "LayoutModel",
            "justify_items": null,
            "grid_row": null,
            "max_height": null,
            "align_content": null,
            "visibility": null,
            "align_self": null,
            "height": null,
            "min_height": null,
            "padding": null,
            "grid_auto_rows": null,
            "grid_gap": null,
            "max_width": null,
            "order": null,
            "_view_module_version": "1.2.0",
            "grid_template_areas": null,
            "object_position": null,
            "object_fit": null,
            "grid_auto_columns": null,
            "margin": null,
            "display": null,
            "left": null
          }
        },
        "3d3d2de0158749a09dc45a947e4d83da": {
          "model_module": "@jupyter-widgets/controls",
          "model_name": "DescriptionStyleModel",
          "state": {
            "_view_name": "StyleView",
            "_model_name": "DescriptionStyleModel",
            "description_width": "",
            "_view_module": "@jupyter-widgets/base",
            "_model_module_version": "1.5.0",
            "_view_count": null,
            "_view_module_version": "1.2.0",
            "_model_module": "@jupyter-widgets/controls"
          }
        },
        "65ee0333d5284e3bbb15e66bebddddf9": {
          "model_module": "@jupyter-widgets/base",
          "model_name": "LayoutModel",
          "state": {
            "_view_name": "LayoutView",
            "grid_template_rows": null,
            "right": null,
            "justify_content": null,
            "_view_module": "@jupyter-widgets/base",
            "overflow": null,
            "_model_module_version": "1.2.0",
            "_view_count": null,
            "flex_flow": null,
            "width": null,
            "min_width": null,
            "border": null,
            "align_items": null,
            "bottom": null,
            "_model_module": "@jupyter-widgets/base",
            "top": null,
            "grid_column": null,
            "overflow_y": null,
            "overflow_x": null,
            "grid_auto_flow": null,
            "grid_area": null,
            "grid_template_columns": null,
            "flex": null,
            "_model_name": "LayoutModel",
            "justify_items": null,
            "grid_row": null,
            "max_height": null,
            "align_content": null,
            "visibility": null,
            "align_self": null,
            "height": null,
            "min_height": null,
            "padding": null,
            "grid_auto_rows": null,
            "grid_gap": null,
            "max_width": null,
            "order": null,
            "_view_module_version": "1.2.0",
            "grid_template_areas": null,
            "object_position": null,
            "object_fit": null,
            "grid_auto_columns": null,
            "margin": null,
            "display": null,
            "left": null
          }
        },
        "41cd99044dda4bc88a6b65348e2b0b35": {
          "model_module": "@jupyter-widgets/controls",
          "model_name": "HBoxModel",
          "state": {
            "_view_name": "HBoxView",
            "_dom_classes": [],
            "_model_name": "HBoxModel",
            "_view_module": "@jupyter-widgets/controls",
            "_model_module_version": "1.5.0",
            "_view_count": null,
            "_view_module_version": "1.5.0",
            "box_style": "",
            "layout": "IPY_MODEL_3c1fa7f9c8d6478db889afbdf53fd2a2",
            "_model_module": "@jupyter-widgets/controls",
            "children": [
              "IPY_MODEL_b81fea8907a849f3822b127b53bddfea",
              "IPY_MODEL_051da89ed8ea471481db477732e45180"
            ]
          }
        },
        "3c1fa7f9c8d6478db889afbdf53fd2a2": {
          "model_module": "@jupyter-widgets/base",
          "model_name": "LayoutModel",
          "state": {
            "_view_name": "LayoutView",
            "grid_template_rows": null,
            "right": null,
            "justify_content": null,
            "_view_module": "@jupyter-widgets/base",
            "overflow": null,
            "_model_module_version": "1.2.0",
            "_view_count": null,
            "flex_flow": null,
            "width": null,
            "min_width": null,
            "border": null,
            "align_items": null,
            "bottom": null,
            "_model_module": "@jupyter-widgets/base",
            "top": null,
            "grid_column": null,
            "overflow_y": null,
            "overflow_x": null,
            "grid_auto_flow": null,
            "grid_area": null,
            "grid_template_columns": null,
            "flex": null,
            "_model_name": "LayoutModel",
            "justify_items": null,
            "grid_row": null,
            "max_height": null,
            "align_content": null,
            "visibility": null,
            "align_self": null,
            "height": null,
            "min_height": null,
            "padding": null,
            "grid_auto_rows": null,
            "grid_gap": null,
            "max_width": null,
            "order": null,
            "_view_module_version": "1.2.0",
            "grid_template_areas": null,
            "object_position": null,
            "object_fit": null,
            "grid_auto_columns": null,
            "margin": null,
            "display": null,
            "left": null
          }
        },
        "b81fea8907a849f3822b127b53bddfea": {
          "model_module": "@jupyter-widgets/controls",
          "model_name": "FloatProgressModel",
          "state": {
            "_view_name": "ProgressView",
            "style": "IPY_MODEL_37345ee14ea84cc9bddfb849ade59226",
            "_dom_classes": [],
            "description": "Downloading: 100%",
            "_model_name": "FloatProgressModel",
            "bar_style": "success",
            "max": 570,
            "_view_module": "@jupyter-widgets/controls",
            "_model_module_version": "1.5.0",
            "value": 570,
            "_view_count": null,
            "_view_module_version": "1.5.0",
            "orientation": "horizontal",
            "min": 0,
            "description_tooltip": null,
            "_model_module": "@jupyter-widgets/controls",
            "layout": "IPY_MODEL_cb52a10748734e54a488882c4a88203d"
          }
        },
        "051da89ed8ea471481db477732e45180": {
          "model_module": "@jupyter-widgets/controls",
          "model_name": "HTMLModel",
          "state": {
            "_view_name": "HTMLView",
            "style": "IPY_MODEL_95851932f7644c79937583257e5d45f0",
            "_dom_classes": [],
            "description": "",
            "_model_name": "HTMLModel",
            "placeholder": "​",
            "_view_module": "@jupyter-widgets/controls",
            "_model_module_version": "1.5.0",
            "value": " 570/570 [00:00&lt;00:00, 10.1kB/s]",
            "_view_count": null,
            "_view_module_version": "1.5.0",
            "description_tooltip": null,
            "_model_module": "@jupyter-widgets/controls",
            "layout": "IPY_MODEL_8bbe1325adaf47d49111f029f509ed3f"
          }
        },
        "37345ee14ea84cc9bddfb849ade59226": {
          "model_module": "@jupyter-widgets/controls",
          "model_name": "ProgressStyleModel",
          "state": {
            "_view_name": "StyleView",
            "_model_name": "ProgressStyleModel",
            "description_width": "initial",
            "_view_module": "@jupyter-widgets/base",
            "_model_module_version": "1.5.0",
            "_view_count": null,
            "_view_module_version": "1.2.0",
            "bar_color": null,
            "_model_module": "@jupyter-widgets/controls"
          }
        },
        "cb52a10748734e54a488882c4a88203d": {
          "model_module": "@jupyter-widgets/base",
          "model_name": "LayoutModel",
          "state": {
            "_view_name": "LayoutView",
            "grid_template_rows": null,
            "right": null,
            "justify_content": null,
            "_view_module": "@jupyter-widgets/base",
            "overflow": null,
            "_model_module_version": "1.2.0",
            "_view_count": null,
            "flex_flow": null,
            "width": null,
            "min_width": null,
            "border": null,
            "align_items": null,
            "bottom": null,
            "_model_module": "@jupyter-widgets/base",
            "top": null,
            "grid_column": null,
            "overflow_y": null,
            "overflow_x": null,
            "grid_auto_flow": null,
            "grid_area": null,
            "grid_template_columns": null,
            "flex": null,
            "_model_name": "LayoutModel",
            "justify_items": null,
            "grid_row": null,
            "max_height": null,
            "align_content": null,
            "visibility": null,
            "align_self": null,
            "height": null,
            "min_height": null,
            "padding": null,
            "grid_auto_rows": null,
            "grid_gap": null,
            "max_width": null,
            "order": null,
            "_view_module_version": "1.2.0",
            "grid_template_areas": null,
            "object_position": null,
            "object_fit": null,
            "grid_auto_columns": null,
            "margin": null,
            "display": null,
            "left": null
          }
        },
        "95851932f7644c79937583257e5d45f0": {
          "model_module": "@jupyter-widgets/controls",
          "model_name": "DescriptionStyleModel",
          "state": {
            "_view_name": "StyleView",
            "_model_name": "DescriptionStyleModel",
            "description_width": "",
            "_view_module": "@jupyter-widgets/base",
            "_model_module_version": "1.5.0",
            "_view_count": null,
            "_view_module_version": "1.2.0",
            "_model_module": "@jupyter-widgets/controls"
          }
        },
        "8bbe1325adaf47d49111f029f509ed3f": {
          "model_module": "@jupyter-widgets/base",
          "model_name": "LayoutModel",
          "state": {
            "_view_name": "LayoutView",
            "grid_template_rows": null,
            "right": null,
            "justify_content": null,
            "_view_module": "@jupyter-widgets/base",
            "overflow": null,
            "_model_module_version": "1.2.0",
            "_view_count": null,
            "flex_flow": null,
            "width": null,
            "min_width": null,
            "border": null,
            "align_items": null,
            "bottom": null,
            "_model_module": "@jupyter-widgets/base",
            "top": null,
            "grid_column": null,
            "overflow_y": null,
            "overflow_x": null,
            "grid_auto_flow": null,
            "grid_area": null,
            "grid_template_columns": null,
            "flex": null,
            "_model_name": "LayoutModel",
            "justify_items": null,
            "grid_row": null,
            "max_height": null,
            "align_content": null,
            "visibility": null,
            "align_self": null,
            "height": null,
            "min_height": null,
            "padding": null,
            "grid_auto_rows": null,
            "grid_gap": null,
            "max_width": null,
            "order": null,
            "_view_module_version": "1.2.0",
            "grid_template_areas": null,
            "object_position": null,
            "object_fit": null,
            "grid_auto_columns": null,
            "margin": null,
            "display": null,
            "left": null
          }
        },
        "52f54cbf5c8e45afaaa1747b5c5520c7": {
          "model_module": "@jupyter-widgets/controls",
          "model_name": "HBoxModel",
          "state": {
            "_view_name": "HBoxView",
            "_dom_classes": [],
            "_model_name": "HBoxModel",
            "_view_module": "@jupyter-widgets/controls",
            "_model_module_version": "1.5.0",
            "_view_count": null,
            "_view_module_version": "1.5.0",
            "box_style": "",
            "layout": "IPY_MODEL_1dd2b11f33e94926ad61cdfdd7cb59cb",
            "_model_module": "@jupyter-widgets/controls",
            "children": [
              "IPY_MODEL_c5d7f28696bc4adca07e4f257370408d",
              "IPY_MODEL_d23e39da286840c78afc566ea06c90d2"
            ]
          }
        },
        "1dd2b11f33e94926ad61cdfdd7cb59cb": {
          "model_module": "@jupyter-widgets/base",
          "model_name": "LayoutModel",
          "state": {
            "_view_name": "LayoutView",
            "grid_template_rows": null,
            "right": null,
            "justify_content": null,
            "_view_module": "@jupyter-widgets/base",
            "overflow": null,
            "_model_module_version": "1.2.0",
            "_view_count": null,
            "flex_flow": null,
            "width": null,
            "min_width": null,
            "border": null,
            "align_items": null,
            "bottom": null,
            "_model_module": "@jupyter-widgets/base",
            "top": null,
            "grid_column": null,
            "overflow_y": null,
            "overflow_x": null,
            "grid_auto_flow": null,
            "grid_area": null,
            "grid_template_columns": null,
            "flex": null,
            "_model_name": "LayoutModel",
            "justify_items": null,
            "grid_row": null,
            "max_height": null,
            "align_content": null,
            "visibility": null,
            "align_self": null,
            "height": null,
            "min_height": null,
            "padding": null,
            "grid_auto_rows": null,
            "grid_gap": null,
            "max_width": null,
            "order": null,
            "_view_module_version": "1.2.0",
            "grid_template_areas": null,
            "object_position": null,
            "object_fit": null,
            "grid_auto_columns": null,
            "margin": null,
            "display": null,
            "left": null
          }
        },
        "c5d7f28696bc4adca07e4f257370408d": {
          "model_module": "@jupyter-widgets/controls",
          "model_name": "FloatProgressModel",
          "state": {
            "_view_name": "ProgressView",
            "style": "IPY_MODEL_f1038c3964254d65881f9a08b22468a4",
            "_dom_classes": [],
            "description": "Downloading: 100%",
            "_model_name": "FloatProgressModel",
            "bar_style": "success",
            "max": 440473133,
            "_view_module": "@jupyter-widgets/controls",
            "_model_module_version": "1.5.0",
            "value": 440473133,
            "_view_count": null,
            "_view_module_version": "1.5.0",
            "orientation": "horizontal",
            "min": 0,
            "description_tooltip": null,
            "_model_module": "@jupyter-widgets/controls",
            "layout": "IPY_MODEL_b5acf25dcd99477eb5d8a3aa98308219"
          }
        },
        "d23e39da286840c78afc566ea06c90d2": {
          "model_module": "@jupyter-widgets/controls",
          "model_name": "HTMLModel",
          "state": {
            "_view_name": "HTMLView",
            "style": "IPY_MODEL_dded95e356f540d5b5f113e03d1c65e3",
            "_dom_classes": [],
            "description": "",
            "_model_name": "HTMLModel",
            "placeholder": "​",
            "_view_module": "@jupyter-widgets/controls",
            "_model_module_version": "1.5.0",
            "value": " 440M/440M [00:08&lt;00:00, 49.2MB/s]",
            "_view_count": null,
            "_view_module_version": "1.5.0",
            "description_tooltip": null,
            "_model_module": "@jupyter-widgets/controls",
            "layout": "IPY_MODEL_355f2ca906e64801936b4920a985f737"
          }
        },
        "f1038c3964254d65881f9a08b22468a4": {
          "model_module": "@jupyter-widgets/controls",
          "model_name": "ProgressStyleModel",
          "state": {
            "_view_name": "StyleView",
            "_model_name": "ProgressStyleModel",
            "description_width": "initial",
            "_view_module": "@jupyter-widgets/base",
            "_model_module_version": "1.5.0",
            "_view_count": null,
            "_view_module_version": "1.2.0",
            "bar_color": null,
            "_model_module": "@jupyter-widgets/controls"
          }
        },
        "b5acf25dcd99477eb5d8a3aa98308219": {
          "model_module": "@jupyter-widgets/base",
          "model_name": "LayoutModel",
          "state": {
            "_view_name": "LayoutView",
            "grid_template_rows": null,
            "right": null,
            "justify_content": null,
            "_view_module": "@jupyter-widgets/base",
            "overflow": null,
            "_model_module_version": "1.2.0",
            "_view_count": null,
            "flex_flow": null,
            "width": null,
            "min_width": null,
            "border": null,
            "align_items": null,
            "bottom": null,
            "_model_module": "@jupyter-widgets/base",
            "top": null,
            "grid_column": null,
            "overflow_y": null,
            "overflow_x": null,
            "grid_auto_flow": null,
            "grid_area": null,
            "grid_template_columns": null,
            "flex": null,
            "_model_name": "LayoutModel",
            "justify_items": null,
            "grid_row": null,
            "max_height": null,
            "align_content": null,
            "visibility": null,
            "align_self": null,
            "height": null,
            "min_height": null,
            "padding": null,
            "grid_auto_rows": null,
            "grid_gap": null,
            "max_width": null,
            "order": null,
            "_view_module_version": "1.2.0",
            "grid_template_areas": null,
            "object_position": null,
            "object_fit": null,
            "grid_auto_columns": null,
            "margin": null,
            "display": null,
            "left": null
          }
        },
        "dded95e356f540d5b5f113e03d1c65e3": {
          "model_module": "@jupyter-widgets/controls",
          "model_name": "DescriptionStyleModel",
          "state": {
            "_view_name": "StyleView",
            "_model_name": "DescriptionStyleModel",
            "description_width": "",
            "_view_module": "@jupyter-widgets/base",
            "_model_module_version": "1.5.0",
            "_view_count": null,
            "_view_module_version": "1.2.0",
            "_model_module": "@jupyter-widgets/controls"
          }
        },
        "355f2ca906e64801936b4920a985f737": {
          "model_module": "@jupyter-widgets/base",
          "model_name": "LayoutModel",
          "state": {
            "_view_name": "LayoutView",
            "grid_template_rows": null,
            "right": null,
            "justify_content": null,
            "_view_module": "@jupyter-widgets/base",
            "overflow": null,
            "_model_module_version": "1.2.0",
            "_view_count": null,
            "flex_flow": null,
            "width": null,
            "min_width": null,
            "border": null,
            "align_items": null,
            "bottom": null,
            "_model_module": "@jupyter-widgets/base",
            "top": null,
            "grid_column": null,
            "overflow_y": null,
            "overflow_x": null,
            "grid_auto_flow": null,
            "grid_area": null,
            "grid_template_columns": null,
            "flex": null,
            "_model_name": "LayoutModel",
            "justify_items": null,
            "grid_row": null,
            "max_height": null,
            "align_content": null,
            "visibility": null,
            "align_self": null,
            "height": null,
            "min_height": null,
            "padding": null,
            "grid_auto_rows": null,
            "grid_gap": null,
            "max_width": null,
            "order": null,
            "_view_module_version": "1.2.0",
            "grid_template_areas": null,
            "object_position": null,
            "object_fit": null,
            "grid_auto_columns": null,
            "margin": null,
            "display": null,
            "left": null
          }
        }
      }
    }
  },
  "cells": [
    {
      "cell_type": "code",
      "execution_count": 1,
      "source": [
        "from google.colab import drive\r\n",
        "drive.mount('/content/drive')"
      ],
      "outputs": [
        {
          "output_type": "stream",
          "name": "stdout",
          "text": [
            "Mounted at /content/drive\n"
          ]
        }
      ],
      "metadata": {
        "colab": {
          "base_uri": "https://localhost:8080/"
        },
        "id": "NmBOCuGM0M-g",
        "outputId": "79f3fd62-5a76-479c-e5a7-77afb8562e2c"
      }
    },
    {
      "cell_type": "code",
      "execution_count": 2,
      "source": [
        "!pip install transformers"
      ],
      "outputs": [
        {
          "output_type": "stream",
          "name": "stdout",
          "text": [
            "Collecting transformers\n",
            "  Downloading transformers-4.9.0-py3-none-any.whl (2.6 MB)\n",
            "\u001b[K     |████████████████████████████████| 2.6 MB 7.2 MB/s \n",
            "\u001b[?25hRequirement already satisfied: filelock in /usr/local/lib/python3.7/dist-packages (from transformers) (3.0.12)\n",
            "Collecting huggingface-hub==0.0.12\n",
            "  Downloading huggingface_hub-0.0.12-py3-none-any.whl (37 kB)\n",
            "Requirement already satisfied: importlib-metadata in /usr/local/lib/python3.7/dist-packages (from transformers) (4.6.1)\n",
            "Collecting sacremoses\n",
            "  Downloading sacremoses-0.0.45-py3-none-any.whl (895 kB)\n",
            "\u001b[K     |████████████████████████████████| 895 kB 59.6 MB/s \n",
            "\u001b[?25hRequirement already satisfied: requests in /usr/local/lib/python3.7/dist-packages (from transformers) (2.23.0)\n",
            "Requirement already satisfied: tqdm>=4.27 in /usr/local/lib/python3.7/dist-packages (from transformers) (4.41.1)\n",
            "Requirement already satisfied: packaging in /usr/local/lib/python3.7/dist-packages (from transformers) (21.0)\n",
            "Collecting tokenizers<0.11,>=0.10.1\n",
            "  Downloading tokenizers-0.10.3-cp37-cp37m-manylinux_2_5_x86_64.manylinux1_x86_64.manylinux_2_12_x86_64.manylinux2010_x86_64.whl (3.3 MB)\n",
            "\u001b[K     |████████████████████████████████| 3.3 MB 69.5 MB/s \n",
            "\u001b[?25hCollecting pyyaml>=5.1\n",
            "  Downloading PyYAML-5.4.1-cp37-cp37m-manylinux1_x86_64.whl (636 kB)\n",
            "\u001b[K     |████████████████████████████████| 636 kB 46.9 MB/s \n",
            "\u001b[?25hRequirement already satisfied: numpy>=1.17 in /usr/local/lib/python3.7/dist-packages (from transformers) (1.19.5)\n",
            "Requirement already satisfied: regex!=2019.12.17 in /usr/local/lib/python3.7/dist-packages (from transformers) (2019.12.20)\n",
            "Requirement already satisfied: typing-extensions in /usr/local/lib/python3.7/dist-packages (from huggingface-hub==0.0.12->transformers) (3.7.4.3)\n",
            "Requirement already satisfied: pyparsing>=2.0.2 in /usr/local/lib/python3.7/dist-packages (from packaging->transformers) (2.4.7)\n",
            "Requirement already satisfied: zipp>=0.5 in /usr/local/lib/python3.7/dist-packages (from importlib-metadata->transformers) (3.5.0)\n",
            "Requirement already satisfied: idna<3,>=2.5 in /usr/local/lib/python3.7/dist-packages (from requests->transformers) (2.10)\n",
            "Requirement already satisfied: chardet<4,>=3.0.2 in /usr/local/lib/python3.7/dist-packages (from requests->transformers) (3.0.4)\n",
            "Requirement already satisfied: urllib3!=1.25.0,!=1.25.1,<1.26,>=1.21.1 in /usr/local/lib/python3.7/dist-packages (from requests->transformers) (1.24.3)\n",
            "Requirement already satisfied: certifi>=2017.4.17 in /usr/local/lib/python3.7/dist-packages (from requests->transformers) (2021.5.30)\n",
            "Requirement already satisfied: joblib in /usr/local/lib/python3.7/dist-packages (from sacremoses->transformers) (1.0.1)\n",
            "Requirement already satisfied: six in /usr/local/lib/python3.7/dist-packages (from sacremoses->transformers) (1.15.0)\n",
            "Requirement already satisfied: click in /usr/local/lib/python3.7/dist-packages (from sacremoses->transformers) (7.1.2)\n",
            "Installing collected packages: tokenizers, sacremoses, pyyaml, huggingface-hub, transformers\n",
            "  Attempting uninstall: pyyaml\n",
            "    Found existing installation: PyYAML 3.13\n",
            "    Uninstalling PyYAML-3.13:\n",
            "      Successfully uninstalled PyYAML-3.13\n",
            "Successfully installed huggingface-hub-0.0.12 pyyaml-5.4.1 sacremoses-0.0.45 tokenizers-0.10.3 transformers-4.9.0\n"
          ]
        }
      ],
      "metadata": {
        "id": "pcLVRjnjXzg7",
        "colab": {
          "base_uri": "https://localhost:8080/"
        },
        "outputId": "8b5840a9-f749-4a02-b5d2-ebb7be4bbaa3"
      }
    },
    {
      "cell_type": "code",
      "execution_count": 3,
      "source": [
        "import torch\r\n",
        "import torch.nn as nn\r\n",
        "import torch.nn.functional as F\r\n",
        "import torch.optim as optim\r\n",
        "\r\n",
        "from torchtext.legacy import data\r\n",
        "from torchtext.legacy import datasets\r\n",
        "\r\n",
        "from transformers import BertTokenizer, BertModel\r\n",
        "\r\n",
        "import numpy as np\r\n",
        "\r\n",
        "import time\r\n",
        "import random\r\n",
        "import functools\r\n",
        "\r\n",
        "SEED = 1\r\n",
        "\r\n",
        "random.seed(SEED)\r\n",
        "np.random.seed(SEED)\r\n",
        "torch.manual_seed(SEED)\r\n",
        "torch.backends.cudnn.deterministic = True"
      ],
      "outputs": [],
      "metadata": {
        "id": "wb-cNA1mXU-W"
      }
    },
    {
      "cell_type": "code",
      "execution_count": 5,
      "source": [
        "tokenizer = BertTokenizer.from_pretrained('bert-base-uncased')"
      ],
      "outputs": [
        {
          "output_type": "display_data",
          "data": {
            "text/plain": [
              "HBox(children=(FloatProgress(value=0.0, description='Downloading', max=231508.0, style=ProgressStyle(descripti…"
            ],
            "application/vnd.jupyter.widget-view+json": {
              "model_id": "6188389cbe454969bf9ed6aeaaa0d3b6",
              "version_minor": 0,
              "version_major": 2
            }
          },
          "metadata": {
            "tags": []
          }
        },
        {
          "output_type": "stream",
          "name": "stdout",
          "text": [
            "\n"
          ]
        },
        {
          "output_type": "display_data",
          "data": {
            "text/plain": [
              "HBox(children=(FloatProgress(value=0.0, description='Downloading', max=28.0, style=ProgressStyle(description_w…"
            ],
            "application/vnd.jupyter.widget-view+json": {
              "model_id": "4d875d1650d6435eb05c18d88929f49c",
              "version_minor": 0,
              "version_major": 2
            }
          },
          "metadata": {
            "tags": []
          }
        },
        {
          "output_type": "stream",
          "name": "stdout",
          "text": [
            "\n"
          ]
        },
        {
          "output_type": "display_data",
          "data": {
            "text/plain": [
              "HBox(children=(FloatProgress(value=0.0, description='Downloading', max=466062.0, style=ProgressStyle(descripti…"
            ],
            "application/vnd.jupyter.widget-view+json": {
              "model_id": "810f25b76e714f51a0a3b94cbbfd5181",
              "version_minor": 0,
              "version_major": 2
            }
          },
          "metadata": {
            "tags": []
          }
        },
        {
          "output_type": "stream",
          "name": "stdout",
          "text": [
            "\n"
          ]
        },
        {
          "output_type": "display_data",
          "data": {
            "text/plain": [
              "HBox(children=(FloatProgress(value=0.0, description='Downloading', max=570.0, style=ProgressStyle(description_…"
            ],
            "application/vnd.jupyter.widget-view+json": {
              "model_id": "41cd99044dda4bc88a6b65348e2b0b35",
              "version_minor": 0,
              "version_major": 2
            }
          },
          "metadata": {
            "tags": []
          }
        },
        {
          "output_type": "stream",
          "name": "stdout",
          "text": [
            "\n"
          ]
        }
      ],
      "metadata": {
        "id": "nS2XMkfxXU-f",
        "colab": {
          "base_uri": "https://localhost:8080/",
          "height": 220,
          "referenced_widgets": [
            "6188389cbe454969bf9ed6aeaaa0d3b6",
            "85dcb172c6364240add8ce17bcd5cb8f",
            "c1357ce975c94fc79f92feed79bfc9ad",
            "65c32fd7f4da4f42ac62a48a7db62366",
            "60d81ff61e574606b117363ce5fbe98b",
            "a176b3be3319422fb30078a20b57f020",
            "13db677370d7402d8d568583c4305c7b",
            "4d3b15e84b0c4fd3a8934b153d1c29f3",
            "4d875d1650d6435eb05c18d88929f49c",
            "efcde896f2ab4b56a2516d4b2701adc7",
            "70f8d74abff145bfa724251063d0ad67",
            "4f1389cfe0e34b1193c18ec36cfbbf61",
            "ac648f517b3648498dbb42f1c4859441",
            "024e9bc535a541e2916cef9a43ebc434",
            "7f797ed69e0140edab608fa42c399e61",
            "9d306cae1cc245d4bfe607a3f172d71d",
            "810f25b76e714f51a0a3b94cbbfd5181",
            "d2104524feca4ddc8ea5adf1b8d184f6",
            "822030c65aa448bc9f5ab72267d4b0cc",
            "9db1b5ab176f412bb9c62490330c129f",
            "d57074766d4e4e128729ed0e091bfbbe",
            "5388c27bb2454343980976b285ae5496",
            "3d3d2de0158749a09dc45a947e4d83da",
            "65ee0333d5284e3bbb15e66bebddddf9",
            "41cd99044dda4bc88a6b65348e2b0b35",
            "3c1fa7f9c8d6478db889afbdf53fd2a2",
            "b81fea8907a849f3822b127b53bddfea",
            "051da89ed8ea471481db477732e45180",
            "37345ee14ea84cc9bddfb849ade59226",
            "cb52a10748734e54a488882c4a88203d",
            "95851932f7644c79937583257e5d45f0",
            "8bbe1325adaf47d49111f029f509ed3f"
          ]
        },
        "outputId": "2be167d5-1d18-4e56-e8d2-39f91d6ea5ca"
      }
    },
    {
      "cell_type": "code",
      "execution_count": 6,
      "source": [
        "init_token = tokenizer.cls_token\r\n",
        "pad_token = tokenizer.pad_token\r\n",
        "unk_token = tokenizer.unk_token\r\n",
        "\r\n",
        "print(init_token, pad_token, unk_token)"
      ],
      "outputs": [
        {
          "output_type": "stream",
          "name": "stdout",
          "text": [
            "[CLS] [PAD] [UNK]\n"
          ]
        }
      ],
      "metadata": {
        "id": "bJ7kwurvXU-j",
        "colab": {
          "base_uri": "https://localhost:8080/"
        },
        "outputId": "6ef1015c-2df2-4ed3-d6fd-0a4fd98adcb2"
      }
    },
    {
      "cell_type": "code",
      "execution_count": 7,
      "source": [
        "init_token_idx = tokenizer.convert_tokens_to_ids(init_token)\r\n",
        "pad_token_idx = tokenizer.convert_tokens_to_ids(pad_token)\r\n",
        "unk_token_idx = tokenizer.convert_tokens_to_ids(unk_token)\r\n",
        "\r\n",
        "print(init_token_idx, pad_token_idx, unk_token_idx)"
      ],
      "outputs": [
        {
          "output_type": "stream",
          "name": "stdout",
          "text": [
            "101 0 100\n"
          ]
        }
      ],
      "metadata": {
        "id": "B4TdEVVWXU-n",
        "colab": {
          "base_uri": "https://localhost:8080/"
        },
        "outputId": "bbf90bb3-4bcd-4283-e071-7e892d0e09f4"
      }
    },
    {
      "cell_type": "code",
      "execution_count": 8,
      "source": [
        "max_input_length = tokenizer.max_model_input_sizes['bert-base-uncased']\r\n",
        "\r\n",
        "print(max_input_length)"
      ],
      "outputs": [
        {
          "output_type": "stream",
          "name": "stdout",
          "text": [
            "512\n"
          ]
        }
      ],
      "metadata": {
        "id": "zrAoyoYCXU-r",
        "colab": {
          "base_uri": "https://localhost:8080/"
        },
        "outputId": "9866ec69-f657-4d60-d97a-67f59cf3b4bd"
      }
    },
    {
      "cell_type": "code",
      "execution_count": 9,
      "source": [
        "def cut_and_convert_to_id(tokens, tokenizer, max_input_length):\r\n",
        "    tokens = tokens[:max_input_length-1]\r\n",
        "    tokens = tokenizer.convert_tokens_to_ids(tokens)\r\n",
        "    return tokens"
      ],
      "outputs": [],
      "metadata": {
        "id": "G_Xjhu3jXU-v"
      }
    },
    {
      "cell_type": "code",
      "execution_count": 10,
      "source": [
        "def cut_to_max_length(tokens, max_input_length):\r\n",
        "    tokens = tokens[:max_input_length-1]\r\n",
        "    return tokens"
      ],
      "outputs": [],
      "metadata": {
        "id": "TumdN5LnXU-0"
      }
    },
    {
      "cell_type": "code",
      "execution_count": 11,
      "source": [
        "text_preprocessor = functools.partial(cut_and_convert_to_id,\r\n",
        "                                      tokenizer = tokenizer,\r\n",
        "                                      max_input_length = max_input_length)\r\n",
        "\r\n",
        "tag_preprocessor = functools.partial(cut_to_max_length,\r\n",
        "                                     max_input_length = max_input_length)"
      ],
      "outputs": [],
      "metadata": {
        "id": "6dgaT_fjXU-3"
      }
    },
    {
      "cell_type": "code",
      "execution_count": 12,
      "source": [
        "TEXT = data.Field(use_vocab = False,\r\n",
        "                  lower = True,\r\n",
        "                  preprocessing = text_preprocessor,\r\n",
        "                  init_token = init_token_idx,\r\n",
        "                  pad_token = pad_token_idx,\r\n",
        "                  unk_token = unk_token_idx)\r\n",
        "\r\n",
        "UD_TAGS = data.Field(unk_token = None,\r\n",
        "                     init_token = '<pad>',\r\n",
        "                     preprocessing = tag_preprocessor)"
      ],
      "outputs": [],
      "metadata": {
        "id": "LhJEvvF3XU-6"
      }
    },
    {
      "cell_type": "code",
      "execution_count": 13,
      "source": [
        "fields = ((\"text\", TEXT), (\"udtags\", UD_TAGS))"
      ],
      "outputs": [],
      "metadata": {
        "id": "RrTXFdSgXU--"
      }
    },
    {
      "cell_type": "code",
      "execution_count": 14,
      "source": [
        "train_data, valid_data, test_data = datasets.UDPOS.splits(fields)"
      ],
      "outputs": [
        {
          "output_type": "stream",
          "name": "stdout",
          "text": [
            "downloading en-ud-v2.zip\n"
          ]
        },
        {
          "output_type": "stream",
          "name": "stderr",
          "text": [
            "en-ud-v2.zip: 100%|██████████| 688k/688k [00:00<00:00, 2.29MB/s]\n"
          ]
        },
        {
          "output_type": "stream",
          "name": "stdout",
          "text": [
            "extracting\n"
          ]
        }
      ],
      "metadata": {
        "id": "gn7OmDceXU_C",
        "colab": {
          "base_uri": "https://localhost:8080/"
        },
        "outputId": "1bd7c298-c7b0-4747-dd71-4824109a4bf5"
      }
    },
    {
      "cell_type": "code",
      "execution_count": 15,
      "source": [
        "print(vars(train_data.examples[0]))"
      ],
      "outputs": [
        {
          "output_type": "stream",
          "name": "stdout",
          "text": [
            "{'text': [2632, 1011, 100, 1024, 2137, 2749, 2730, 100, 14093, 2632, 1011, 100, 1010, 1996, 14512, 2012, 1996, 8806, 1999, 1996, 2237, 1997, 100, 1010, 2379, 1996, 9042, 3675, 1012], 'udtags': ['PROPN', 'PUNCT', 'PROPN', 'PUNCT', 'ADJ', 'NOUN', 'VERB', 'PROPN', 'PROPN', 'PROPN', 'PUNCT', 'PROPN', 'PUNCT', 'DET', 'NOUN', 'ADP', 'DET', 'NOUN', 'ADP', 'DET', 'NOUN', 'ADP', 'PROPN', 'PUNCT', 'ADP', 'DET', 'ADJ', 'NOUN', 'PUNCT']}\n"
          ]
        }
      ],
      "metadata": {
        "id": "jNLMuA22XU_E",
        "colab": {
          "base_uri": "https://localhost:8080/"
        },
        "outputId": "e862b55f-6d34-4d65-c669-a3105b9c1ca5"
      }
    },
    {
      "cell_type": "code",
      "execution_count": 16,
      "source": [
        "UD_TAGS.build_vocab(train_data)\r\n",
        "\r\n",
        "print(UD_TAGS.vocab.stoi)"
      ],
      "outputs": [
        {
          "output_type": "stream",
          "name": "stdout",
          "text": [
            "defaultdict(None, {'<pad>': 0, 'NOUN': 1, 'PUNCT': 2, 'VERB': 3, 'PRON': 4, 'ADP': 5, 'DET': 6, 'PROPN': 7, 'ADJ': 8, 'AUX': 9, 'ADV': 10, 'CCONJ': 11, 'PART': 12, 'NUM': 13, 'SCONJ': 14, 'X': 15, 'INTJ': 16, 'SYM': 17})\n"
          ]
        }
      ],
      "metadata": {
        "id": "klpqOEHJXU_I",
        "colab": {
          "base_uri": "https://localhost:8080/"
        },
        "outputId": "a9e1f869-fe13-47c3-ecc7-bce599d88bb3"
      }
    },
    {
      "cell_type": "code",
      "execution_count": 17,
      "source": [
        "BATCH_SIZE = 32\r\n",
        "\r\n",
        "device = torch.device('cuda' if torch.cuda.is_available() else 'cpu')\r\n",
        "\r\n",
        "train_iterator, valid_iterator, test_iterator = data.BucketIterator.splits(\r\n",
        "    (train_data, valid_data, test_data), \r\n",
        "    batch_size = BATCH_SIZE,\r\n",
        "    device = device)"
      ],
      "outputs": [],
      "metadata": {
        "id": "BgIEyEkpXU_M"
      }
    },
    {
      "cell_type": "code",
      "execution_count": 18,
      "source": [
        "class BERTPoSTagger(nn.Module):\r\n",
        "    def __init__(self,\r\n",
        "                 bert,\r\n",
        "                 output_dim, \r\n",
        "                 dropout):\r\n",
        "        \r\n",
        "        super().__init__()\r\n",
        "        \r\n",
        "        self.bert = bert\r\n",
        "        \r\n",
        "        embedding_dim = bert.config.to_dict()['hidden_size']\r\n",
        "        \r\n",
        "        self.fc = nn.Linear(embedding_dim, output_dim)\r\n",
        "        \r\n",
        "        self.dropout = nn.Dropout(dropout)\r\n",
        "        \r\n",
        "    def forward(self, text):\r\n",
        "        text = text.permute(1, 0)\r\n",
        "        \r\n",
        "        embedded = self.dropout(self.bert(text)[0])\r\n",
        "                \r\n",
        "        embedded = embedded.permute(1, 0, 2)\r\n",
        "        \r\n",
        "        predictions = self.fc(self.dropout(embedded))\r\n",
        "        \r\n",
        "        return predictions"
      ],
      "outputs": [],
      "metadata": {
        "id": "0bYCKE0xXU_P"
      }
    },
    {
      "cell_type": "code",
      "execution_count": 19,
      "source": [
        "bert = BertModel.from_pretrained('bert-base-uncased')"
      ],
      "outputs": [
        {
          "output_type": "display_data",
          "data": {
            "text/plain": [
              "HBox(children=(FloatProgress(value=0.0, description='Downloading', max=440473133.0, style=ProgressStyle(descri…"
            ],
            "application/vnd.jupyter.widget-view+json": {
              "model_id": "52f54cbf5c8e45afaaa1747b5c5520c7",
              "version_minor": 0,
              "version_major": 2
            }
          },
          "metadata": {
            "tags": []
          }
        },
        {
          "output_type": "stream",
          "name": "stdout",
          "text": [
            "\n"
          ]
        },
        {
          "output_type": "stream",
          "name": "stderr",
          "text": [
            "Some weights of the model checkpoint at bert-base-uncased were not used when initializing BertModel: ['cls.seq_relationship.bias', 'cls.seq_relationship.weight', 'cls.predictions.transform.LayerNorm.weight', 'cls.predictions.transform.dense.bias', 'cls.predictions.bias', 'cls.predictions.transform.LayerNorm.bias', 'cls.predictions.decoder.weight', 'cls.predictions.transform.dense.weight']\n",
            "- This IS expected if you are initializing BertModel from the checkpoint of a model trained on another task or with another architecture (e.g. initializing a BertForSequenceClassification model from a BertForPreTraining model).\n",
            "- This IS NOT expected if you are initializing BertModel from the checkpoint of a model that you expect to be exactly identical (initializing a BertForSequenceClassification model from a BertForSequenceClassification model).\n"
          ]
        }
      ],
      "metadata": {
        "id": "q473f0kAXU_S",
        "colab": {
          "base_uri": "https://localhost:8080/",
          "height": 144,
          "referenced_widgets": [
            "52f54cbf5c8e45afaaa1747b5c5520c7",
            "1dd2b11f33e94926ad61cdfdd7cb59cb",
            "c5d7f28696bc4adca07e4f257370408d",
            "d23e39da286840c78afc566ea06c90d2",
            "f1038c3964254d65881f9a08b22468a4",
            "b5acf25dcd99477eb5d8a3aa98308219",
            "dded95e356f540d5b5f113e03d1c65e3",
            "355f2ca906e64801936b4920a985f737"
          ]
        },
        "outputId": "31657ca7-5f07-4d65-f4bc-d869c181e37d"
      }
    },
    {
      "cell_type": "code",
      "execution_count": 20,
      "source": [
        "OUTPUT_DIM = len(UD_TAGS.vocab)\r\n",
        "DROPOUT = 0.25\r\n",
        "\r\n",
        "model = BERTPoSTagger(bert,\r\n",
        "                      OUTPUT_DIM, \r\n",
        "                      DROPOUT)"
      ],
      "outputs": [],
      "metadata": {
        "id": "oS-roKk0XU_V"
      }
    },
    {
      "cell_type": "code",
      "execution_count": 22,
      "source": [
        "LEARNING_RATE = 5e-5\r\n",
        "\r\n",
        "optimizer = optim.Adam(model.parameters(), lr = LEARNING_RATE)"
      ],
      "outputs": [],
      "metadata": {
        "id": "6qIKZQ2EXU_b"
      }
    },
    {
      "cell_type": "code",
      "execution_count": 23,
      "source": [
        "TAG_PAD_IDX = UD_TAGS.vocab.stoi[UD_TAGS.pad_token]\r\n",
        "\r\n",
        "criterion = nn.CrossEntropyLoss(ignore_index = TAG_PAD_IDX)"
      ],
      "outputs": [],
      "metadata": {
        "id": "YJUz954cXU_e"
      }
    },
    {
      "cell_type": "code",
      "execution_count": 24,
      "source": [
        "model = model.to(device)\r\n",
        "criterion = criterion.to(device)"
      ],
      "outputs": [],
      "metadata": {
        "id": "9Ur1XIJQXU_j"
      }
    },
    {
      "cell_type": "code",
      "execution_count": 25,
      "source": [
        "def categorical_accuracy(preds, y, tag_pad_idx):\r\n",
        "    max_preds = preds.argmax(dim = 1, keepdim = True) # get the index of the max probability\r\n",
        "    non_pad_elements = (y != tag_pad_idx).nonzero()\r\n",
        "    correct = max_preds[non_pad_elements].squeeze(1).eq(y[non_pad_elements])\r\n",
        "    return correct.sum() / torch.FloatTensor([y[non_pad_elements].shape[0]]).to(device)"
      ],
      "outputs": [],
      "metadata": {
        "id": "tvxKXAO5XU_m"
      }
    },
    {
      "cell_type": "code",
      "execution_count": 26,
      "source": [
        "def train(model, iterator, optimizer, criterion, tag_pad_idx):\r\n",
        "    \r\n",
        "    epoch_loss = 0\r\n",
        "    epoch_acc = 0\r\n",
        "    \r\n",
        "    model.train()\r\n",
        "    \r\n",
        "    for batch in iterator:\r\n",
        "        \r\n",
        "        text = batch.text\r\n",
        "        tags = batch.udtags\r\n",
        "                \r\n",
        "        optimizer.zero_grad()\r\n",
        "        \r\n",
        "        predictions = model(text)\r\n",
        "        \r\n",
        "        predictions = predictions.view(-1, predictions.shape[-1])\r\n",
        "        tags = tags.view(-1)\r\n",
        "        \r\n",
        "        loss = criterion(predictions, tags)\r\n",
        "                \r\n",
        "        acc = categorical_accuracy(predictions, tags, tag_pad_idx)\r\n",
        "        \r\n",
        "        loss.backward()\r\n",
        "        \r\n",
        "        optimizer.step()\r\n",
        "        \r\n",
        "        epoch_loss += loss.item()\r\n",
        "        epoch_acc += acc.item()\r\n",
        "        \r\n",
        "    return epoch_loss / len(iterator), epoch_acc / len(iterator)"
      ],
      "outputs": [],
      "metadata": {
        "id": "mk9vFsMuXU_p"
      }
    },
    {
      "cell_type": "code",
      "execution_count": 27,
      "source": [
        "def evaluate(model, iterator, criterion, tag_pad_idx):\r\n",
        "    \r\n",
        "    epoch_loss = 0\r\n",
        "    epoch_acc = 0\r\n",
        "    \r\n",
        "    model.eval()\r\n",
        "    \r\n",
        "    with torch.no_grad():\r\n",
        "    \r\n",
        "        for batch in iterator:\r\n",
        "\r\n",
        "            text = batch.text\r\n",
        "            tags = batch.udtags\r\n",
        "            \r\n",
        "            predictions = model(text)\r\n",
        "            \r\n",
        "            predictions = predictions.view(-1, predictions.shape[-1])\r\n",
        "            tags = tags.view(-1)\r\n",
        "            \r\n",
        "            loss = criterion(predictions, tags)\r\n",
        "            \r\n",
        "            acc = categorical_accuracy(predictions, tags, tag_pad_idx)\r\n",
        "\r\n",
        "            epoch_loss += loss.item()\r\n",
        "            epoch_acc += acc.item()\r\n",
        "        \r\n",
        "    return epoch_loss / len(iterator), epoch_acc / len(iterator)"
      ],
      "outputs": [],
      "metadata": {
        "id": "SMz_0UzGXU_s"
      }
    },
    {
      "cell_type": "code",
      "execution_count": 28,
      "source": [
        "def epoch_time(start_time, end_time):\r\n",
        "    elapsed_time = end_time - start_time\r\n",
        "    elapsed_mins = int(elapsed_time / 60)\r\n",
        "    elapsed_secs = int(elapsed_time - (elapsed_mins * 60))\r\n",
        "    return elapsed_mins, elapsed_secs"
      ],
      "outputs": [],
      "metadata": {
        "id": "57McNtpWXU_v"
      }
    },
    {
      "cell_type": "code",
      "execution_count": 29,
      "source": [
        "N_EPOCHS = 10\r\n",
        "\r\n",
        "best_valid_loss = float('inf')\r\n",
        "\r\n",
        "for epoch in range(N_EPOCHS):\r\n",
        "\r\n",
        "    start_time = time.time()\r\n",
        "    \r\n",
        "    train_loss, train_acc = train(model, train_iterator, optimizer, criterion, TAG_PAD_IDX)\r\n",
        "    valid_loss, valid_acc = evaluate(model, valid_iterator, criterion, TAG_PAD_IDX)\r\n",
        "    \r\n",
        "    end_time = time.time()\r\n",
        "\r\n",
        "    epoch_mins, epoch_secs = epoch_time(start_time, end_time)\r\n",
        "    \r\n",
        "    if valid_loss < best_valid_loss:\r\n",
        "        best_valid_loss = valid_loss\r\n",
        "        torch.save(model.state_dict(), 'tut2-model.pt')\r\n",
        "    \r\n",
        "    print(f'Epoch: {epoch+1:02} | Epoch Time: {epoch_mins}m {epoch_secs}s')\r\n",
        "    print(f'\\tTrain Loss: {train_loss:.3f} | Train Acc: {train_acc*100:.2f}%')\r\n",
        "    print(f'\\t Val. Loss: {valid_loss:.3f} |  Val. Acc: {valid_acc*100:.2f}%')"
      ],
      "outputs": [
        {
          "output_type": "stream",
          "name": "stdout",
          "text": [
            "Epoch: 01 | Epoch Time: 1m 57s\n",
            "\tTrain Loss: 0.377 | Train Acc: 89.32%\n",
            "\t Val. Loss: 0.305 |  Val. Acc: 90.59%\n",
            "Epoch: 02 | Epoch Time: 2m 3s\n",
            "\tTrain Loss: 0.113 | Train Acc: 96.73%\n",
            "\t Val. Loss: 0.268 |  Val. Acc: 92.29%\n",
            "Epoch: 03 | Epoch Time: 2m 5s\n",
            "\tTrain Loss: 0.072 | Train Acc: 97.89%\n",
            "\t Val. Loss: 0.278 |  Val. Acc: 92.19%\n",
            "Epoch: 04 | Epoch Time: 2m 6s\n",
            "\tTrain Loss: 0.050 | Train Acc: 98.53%\n",
            "\t Val. Loss: 0.321 |  Val. Acc: 91.93%\n",
            "Epoch: 05 | Epoch Time: 2m 6s\n",
            "\tTrain Loss: 0.036 | Train Acc: 98.94%\n",
            "\t Val. Loss: 0.288 |  Val. Acc: 92.14%\n",
            "Epoch: 06 | Epoch Time: 2m 5s\n",
            "\tTrain Loss: 0.026 | Train Acc: 99.23%\n",
            "\t Val. Loss: 0.288 |  Val. Acc: 92.98%\n",
            "Epoch: 07 | Epoch Time: 2m 6s\n",
            "\tTrain Loss: 0.020 | Train Acc: 99.40%\n",
            "\t Val. Loss: 0.303 |  Val. Acc: 92.73%\n",
            "Epoch: 08 | Epoch Time: 2m 4s\n",
            "\tTrain Loss: 0.017 | Train Acc: 99.50%\n",
            "\t Val. Loss: 0.322 |  Val. Acc: 92.68%\n",
            "Epoch: 09 | Epoch Time: 2m 4s\n",
            "\tTrain Loss: 0.016 | Train Acc: 99.52%\n",
            "\t Val. Loss: 0.314 |  Val. Acc: 92.67%\n",
            "Epoch: 10 | Epoch Time: 2m 5s\n",
            "\tTrain Loss: 0.013 | Train Acc: 99.59%\n",
            "\t Val. Loss: 0.328 |  Val. Acc: 92.87%\n"
          ]
        }
      ],
      "metadata": {
        "id": "7F53iNXOXU_y",
        "colab": {
          "base_uri": "https://localhost:8080/"
        },
        "outputId": "ce5c8372-e882-4017-d8d0-c734f6ef7e5c"
      }
    },
    {
      "cell_type": "code",
      "execution_count": 30,
      "source": [
        "model.load_state_dict(torch.load('tut2-model.pt'))\r\n",
        "\r\n",
        "test_loss, test_acc = evaluate(model, test_iterator, criterion, TAG_PAD_IDX)\r\n",
        "\r\n",
        "print(f'Test Loss: {test_loss:.3f} | Test Acc: {test_acc*100:.2f}%')"
      ],
      "outputs": [
        {
          "output_type": "stream",
          "name": "stdout",
          "text": [
            "Test Loss: 0.287 | Test Acc: 90.92%\n"
          ]
        }
      ],
      "metadata": {
        "id": "ea6wyOs_XU_1",
        "colab": {
          "base_uri": "https://localhost:8080/"
        },
        "outputId": "14468d87-ffc5-45f2-866d-568d8a80210f"
      }
    },
    {
      "cell_type": "code",
      "execution_count": 31,
      "source": [
        "def tag_sentence(model, device, sentence, tokenizer, text_field, tag_field):\r\n",
        "    \r\n",
        "    model.eval()\r\n",
        "    \r\n",
        "    if isinstance(sentence, str):\r\n",
        "        tokens = tokenizer.tokenize(sentence)\r\n",
        "    else:\r\n",
        "        tokens = sentence\r\n",
        "    \r\n",
        "    numericalized_tokens = tokenizer.convert_tokens_to_ids(tokens)\r\n",
        "    numericalized_tokens = [text_field.init_token] + numericalized_tokens\r\n",
        "        \r\n",
        "    unk_idx = text_field.unk_token\r\n",
        "    \r\n",
        "    unks = [t for t, n in zip(tokens, numericalized_tokens) if n == unk_idx]\r\n",
        "    \r\n",
        "    token_tensor = torch.LongTensor(numericalized_tokens)\r\n",
        "    \r\n",
        "    token_tensor = token_tensor.unsqueeze(-1).to(device)\r\n",
        "         \r\n",
        "    predictions = model(token_tensor)\r\n",
        "    \r\n",
        "    top_predictions = predictions.argmax(-1)\r\n",
        "    \r\n",
        "    predicted_tags = [tag_field.vocab.itos[t.item()] for t in top_predictions]\r\n",
        "    \r\n",
        "    predicted_tags = predicted_tags[1:]\r\n",
        "        \r\n",
        "    assert len(tokens) == len(predicted_tags)\r\n",
        "    \r\n",
        "    return tokens, predicted_tags, unks"
      ],
      "outputs": [],
      "metadata": {
        "id": "WIOmo6FYXU_4"
      }
    },
    {
      "cell_type": "code",
      "execution_count": 32,
      "source": [
        "sentence = '''Frederick Fleet, who was lookout in the crow's nest of the Titanic when the giant liner smashed into the iceberg, made oath that not a single lookout on the Titanic was provided with marine glasses and declared that had his request for such glasses in Southampton not been refused the Titanic might yet be afloat. \"I could easily have sighted the iceberg with marine glasses in plenty of time to have the vessel steered out of the way.\" said Fleet, and gave in detail the request he made in Southampton for them. Although all other liners are so provided, Fleet swore, his request was flatly refused and he was told there were no glasses for him.\r\n",
        "Third Officer Pittman admitted that the Titanic had been warned that icebergs were prevalent, but said he did not see any on the Sunday of the disaster. He declared that in his 14 years' experience he had seen only one iceberg before.'''\r\n",
        "\r\n",
        "tokens, tags, unks = tag_sentence(model, \r\n",
        "                                  device, \r\n",
        "                                  sentence,\r\n",
        "                                  tokenizer,\r\n",
        "                                  TEXT, \r\n",
        "                                  UD_TAGS)\r\n",
        "\r\n",
        "print(unks)"
      ],
      "outputs": [
        {
          "output_type": "stream",
          "name": "stdout",
          "text": [
            "[]\n"
          ]
        }
      ],
      "metadata": {
        "id": "-NAjXntVXU_7",
        "colab": {
          "base_uri": "https://localhost:8080/"
        },
        "outputId": "7fc5a44a-b50f-43ed-fb6a-b2cb1b000622"
      }
    },
    {
      "cell_type": "code",
      "execution_count": 33,
      "source": [
        "print(\"Pred. Tag\\tToken\\n\")\r\n",
        "\r\n",
        "for token, tag in zip(tokens, tags):\r\n",
        "    print(f\"{tag}\\t\\t{token}\")"
      ],
      "outputs": [
        {
          "output_type": "stream",
          "name": "stdout",
          "text": [
            "Pred. Tag\tToken\n",
            "\n",
            "PROPN\t\tfrederick\n",
            "PROPN\t\tfleet\n",
            "PUNCT\t\t,\n",
            "PRON\t\twho\n",
            "AUX\t\twas\n",
            "NOUN\t\tlookout\n",
            "ADP\t\tin\n",
            "DET\t\tthe\n",
            "NOUN\t\tcrow\n",
            "PART\t\t'\n",
            "PART\t\ts\n",
            "NOUN\t\tnest\n",
            "ADP\t\tof\n",
            "DET\t\tthe\n",
            "PROPN\t\ttitanic\n",
            "ADV\t\twhen\n",
            "DET\t\tthe\n",
            "ADJ\t\tgiant\n",
            "NOUN\t\tliner\n",
            "VERB\t\tsmashed\n",
            "ADP\t\tinto\n",
            "DET\t\tthe\n",
            "NOUN\t\tice\n",
            "NOUN\t\t##berg\n",
            "PUNCT\t\t,\n",
            "VERB\t\tmade\n",
            "NOUN\t\toath\n",
            "SCONJ\t\tthat\n",
            "PART\t\tnot\n",
            "DET\t\ta\n",
            "ADJ\t\tsingle\n",
            "NOUN\t\tlookout\n",
            "ADP\t\ton\n",
            "DET\t\tthe\n",
            "PROPN\t\ttitanic\n",
            "AUX\t\twas\n",
            "VERB\t\tprovided\n",
            "ADP\t\twith\n",
            "ADJ\t\tmarine\n",
            "NOUN\t\tglasses\n",
            "CCONJ\t\tand\n",
            "VERB\t\tdeclared\n",
            "SCONJ\t\tthat\n",
            "VERB\t\thad\n",
            "PRON\t\this\n",
            "NOUN\t\trequest\n",
            "ADP\t\tfor\n",
            "ADJ\t\tsuch\n",
            "NOUN\t\tglasses\n",
            "ADP\t\tin\n",
            "PROPN\t\tsouthampton\n",
            "PART\t\tnot\n",
            "AUX\t\tbeen\n",
            "VERB\t\trefused\n",
            "DET\t\tthe\n",
            "PROPN\t\ttitanic\n",
            "AUX\t\tmight\n",
            "ADV\t\tyet\n",
            "AUX\t\tbe\n",
            "ADV\t\tafl\n",
            "ADV\t\t##oat\n",
            "PUNCT\t\t.\n",
            "PUNCT\t\t\"\n",
            "PRON\t\ti\n",
            "AUX\t\tcould\n",
            "ADV\t\teasily\n",
            "AUX\t\thave\n",
            "VERB\t\tsighted\n",
            "DET\t\tthe\n",
            "NOUN\t\tice\n",
            "NOUN\t\t##berg\n",
            "ADP\t\twith\n",
            "ADJ\t\tmarine\n",
            "NOUN\t\tglasses\n",
            "ADP\t\tin\n",
            "NOUN\t\tplenty\n",
            "ADP\t\tof\n",
            "NOUN\t\ttime\n",
            "PART\t\tto\n",
            "VERB\t\thave\n",
            "DET\t\tthe\n",
            "NOUN\t\tvessel\n",
            "VERB\t\tsteered\n",
            "ADP\t\tout\n",
            "ADP\t\tof\n",
            "DET\t\tthe\n",
            "NOUN\t\tway\n",
            "PUNCT\t\t.\n",
            "PUNCT\t\t\"\n",
            "VERB\t\tsaid\n",
            "PROPN\t\tfleet\n",
            "PUNCT\t\t,\n",
            "CCONJ\t\tand\n",
            "VERB\t\tgave\n",
            "ADP\t\tin\n",
            "NOUN\t\tdetail\n",
            "DET\t\tthe\n",
            "NOUN\t\trequest\n",
            "PRON\t\the\n",
            "VERB\t\tmade\n",
            "ADP\t\tin\n",
            "PROPN\t\tsouthampton\n",
            "ADP\t\tfor\n",
            "PRON\t\tthem\n",
            "PUNCT\t\t.\n",
            "SCONJ\t\talthough\n",
            "DET\t\tall\n",
            "ADJ\t\tother\n",
            "NOUN\t\tliner\n",
            "NOUN\t\t##s\n",
            "AUX\t\tare\n",
            "ADV\t\tso\n",
            "VERB\t\tprovided\n",
            "PUNCT\t\t,\n",
            "PROPN\t\tfleet\n",
            "VERB\t\tswore\n",
            "PUNCT\t\t,\n",
            "PRON\t\this\n",
            "NOUN\t\trequest\n",
            "AUX\t\twas\n",
            "ADV\t\tflatly\n",
            "VERB\t\trefused\n",
            "CCONJ\t\tand\n",
            "PRON\t\the\n",
            "AUX\t\twas\n",
            "VERB\t\ttold\n",
            "PRON\t\tthere\n",
            "VERB\t\twere\n",
            "DET\t\tno\n",
            "NOUN\t\tglasses\n",
            "ADP\t\tfor\n",
            "PRON\t\thim\n",
            "PUNCT\t\t.\n",
            "ADJ\t\tthird\n",
            "NOUN\t\tofficer\n",
            "PROPN\t\tpitt\n",
            "PROPN\t\t##man\n",
            "VERB\t\tadmitted\n",
            "SCONJ\t\tthat\n",
            "DET\t\tthe\n",
            "PROPN\t\ttitanic\n",
            "AUX\t\thad\n",
            "AUX\t\tbeen\n",
            "VERB\t\twarned\n",
            "SCONJ\t\tthat\n",
            "NOUN\t\tice\n",
            "NOUN\t\t##berg\n",
            "NOUN\t\t##s\n",
            "AUX\t\twere\n",
            "ADJ\t\tprevalent\n",
            "PUNCT\t\t,\n",
            "CCONJ\t\tbut\n",
            "VERB\t\tsaid\n",
            "PRON\t\the\n",
            "AUX\t\tdid\n",
            "PART\t\tnot\n",
            "VERB\t\tsee\n",
            "DET\t\tany\n",
            "ADP\t\ton\n",
            "DET\t\tthe\n",
            "NOUN\t\tsunday\n",
            "ADP\t\tof\n",
            "DET\t\tthe\n",
            "NOUN\t\tdisaster\n",
            "PUNCT\t\t.\n",
            "PRON\t\the\n",
            "VERB\t\tdeclared\n",
            "SCONJ\t\tthat\n",
            "ADP\t\tin\n",
            "PRON\t\this\n",
            "NUM\t\t14\n",
            "NOUN\t\tyears\n",
            "PART\t\t'\n",
            "NOUN\t\texperience\n",
            "PRON\t\the\n",
            "AUX\t\thad\n",
            "VERB\t\tseen\n",
            "ADV\t\tonly\n",
            "NUM\t\tone\n",
            "NOUN\t\tice\n",
            "NOUN\t\t##berg\n",
            "ADV\t\tbefore\n",
            "PUNCT\t\t.\n"
          ]
        }
      ],
      "metadata": {
        "id": "RHfrCjgIXU_-",
        "colab": {
          "base_uri": "https://localhost:8080/"
        },
        "outputId": "dde8c0d0-2388-44af-e7c3-c4aa01f8c53b"
      }
    },
    {
      "cell_type": "markdown",
      "source": [
        "# Combine POS with a GRU"
      ],
      "metadata": {
        "id": "jkZ2K6U0eqN3"
      }
    },
    {
      "cell_type": "code",
      "execution_count": 34,
      "source": [
        "import numpy as np\r\n",
        "import torch\r\n",
        "import random\r\n",
        "import os\r\n",
        "import torch.nn as nn\r\n",
        "import pandas as pd\r\n",
        "import matplotlib.pyplot as plt\r\n",
        "import string\r\n",
        "from torch.utils.data import Dataset\r\n",
        "from torch.nn.utils.rnn import pack_padded_sequence\r\n",
        "from torchtext.vocab import GloVe\r\n",
        "\r\n",
        "device = torch.device(\"cuda\" if torch.cuda.is_available() else \"cpu\")\r\n",
        "print(f\"{device} is used\")"
      ],
      "outputs": [
        {
          "output_type": "stream",
          "name": "stdout",
          "text": [
            "cuda is used\n"
          ]
        }
      ],
      "metadata": {
        "colab": {
          "base_uri": "https://localhost:8080/"
        },
        "id": "uZDJ_IAuesUO",
        "outputId": "e69a4ec3-382d-4006-e248-404a6dfc71d7"
      }
    },
    {
      "cell_type": "code",
      "execution_count": 35,
      "source": [
        "# Read the data\r\n",
        "# Internal datasets\r\n",
        "training = pd.read_csv('/content/drive/MyDrive/Unipi/HLT/HLT-Project/internal_train.csv').to_numpy()\r\n",
        "test = pd.read_csv('/content/drive/MyDrive/Unipi/HLT/HLT-Project/internal_test.csv').to_numpy()\r\n",
        "# Real datasets (Keep only these ones for kaggle (delete test))\r\n",
        "blind_test = pd.read_csv('/content/drive/MyDrive/Unipi/HLT/HLT-Project/test.csv').to_numpy()\r\n",
        "full_training = pd.read_csv('/content/drive/MyDrive/Unipi/HLT/HLT-Project/train.csv').to_numpy()\r\n",
        "\r\n",
        "# TODO: Remove to train on full dataset\r\n",
        "#training = training[:10, :]\r\n",
        "\r\n",
        "training = np.random.permutation(training)\r\n",
        "print(training.shape, test.shape, blind_test.shape, full_training.shape)"
      ],
      "outputs": [
        {
          "output_type": "stream",
          "name": "stdout",
          "text": [
            "(2434, 6) (400, 6) (7, 4) (2834, 6)\n"
          ]
        }
      ],
      "metadata": {
        "colab": {
          "base_uri": "https://localhost:8080/"
        },
        "id": "u-hrDWPQe7Bv",
        "outputId": "a026d32d-0a34-4291-8c60-54d3136da247"
      }
    },
    {
      "cell_type": "code",
      "execution_count": 36,
      "source": [
        "training_X = training[:, 3]\r\n",
        "training_Y = training[:, 4]\r\n",
        "print('training shape =', training_X.shape, training_Y.shape)\r\n",
        "\r\n",
        "full_training_X = full_training[:, 3]\r\n",
        "full_training_Y = full_training[:, 4]\r\n",
        "print('Real training shape =', full_training_X.shape, full_training_Y.shape)\r\n",
        "\r\n",
        "test_X = test[:, 3]\r\n",
        "test_Y = test[:, 4]\r\n",
        "print('test shape =', test_X.shape, test_Y.shape)\r\n",
        "\r\n",
        "blind_test_X = blind_test[:, 3]\r\n",
        "print('BLIND test shape =', blind_test_X.shape)"
      ],
      "outputs": [
        {
          "output_type": "stream",
          "name": "stdout",
          "text": [
            "training shape = (2434,) (2434,)\n",
            "Real training shape = (2834,) (2834,)\n",
            "test shape = (400,) (400,)\n",
            "BLIND test shape = (7,)\n"
          ]
        }
      ],
      "metadata": {
        "colab": {
          "base_uri": "https://localhost:8080/"
        },
        "id": "yydlxoH3e87I",
        "outputId": "5376666a-7034-4b3a-c409-d599a7bb153f"
      }
    },
    {
      "cell_type": "code",
      "execution_count": 37,
      "source": [
        "\n",
        "embedding_dim = 300\n",
        "glove = GloVe(name=\"840B\", dim=embedding_dim)"
      ],
      "outputs": [
        {
          "output_type": "stream",
          "name": "stderr",
          "text": [
            ".vector_cache/glove.840B.300d.zip: 2.18GB [06:51, 5.30MB/s]                            \n",
            "100%|█████████▉| 2195067/2196017 [04:00<00:00, 9931.68it/s]"
          ]
        }
      ],
      "metadata": {
        "id": "CssQjoAr2tnL",
        "colab": {
          "base_uri": "https://localhost:8080/"
        },
        "outputId": "94260368-73ab-4314-fd2c-7f6eec24d4f9"
      }
    },
    {
      "cell_type": "code",
      "execution_count": 38,
      "source": [
        "import re\n",
        "from torchtext.legacy import data, datasets, vocab\n",
        "\n",
        "n_tags = 0\n",
        "\n",
        "# Turn a line of words into the curresponding POS tags\n",
        "def lineToTensor(line):\n",
        "    # Split a string into array of words and punctation\n",
        "    # \"Much, fun.\" => [\"Much\", \",\", \"fun\", \".\"]\n",
        "\n",
        "    # words = re.findall(r\"[\\w']+|[.,!?;]\", line)\n",
        "    # tensor = torch.tensor([glove.stoi[w] for w in words if w in glove.stoi], dtype=torch.long)\n",
        "    # return tensor\n",
        "\n",
        "    tokens, tags, unks = tag_sentence(model, device, line,tokenizer,TEXT, UD_TAGS)\n",
        "\n",
        "    tags_ids = [UD_TAGS.vocab.stoi[tag] for tag in tags]\n",
        "    global n_tags\n",
        "    n_tags = len(UD_TAGS.vocab.stoi.keys())\n",
        "\n",
        "    tensor = torch.zeros(len(tags_ids), 1 + n_tags)\n",
        "    i = 0\n",
        "    for (tag, token) in zip(tags_ids, tokens):\n",
        "        if token in glove.stoi.keys():\n",
        "            tensor[i, :] = torch.cat((torch.tensor([glove.stoi[token]]), F.one_hot(torch.tensor(tag), num_classes=n_tags)))\n",
        "            i += 1\n",
        "    r = torch.zeros(i, 1 + n_tags)\n",
        "    r = tensor[:i, :]\n",
        "\n",
        "    return r\n",
        "\n",
        "print(lineToTensor(training_X[0]))"
      ],
      "outputs": [
        {
          "output_type": "stream",
          "name": "stdout",
          "text": [
            "tensor([[1.0800e+02, 0.0000e+00, 0.0000e+00,  ..., 0.0000e+00, 0.0000e+00,\n",
            "         0.0000e+00],\n",
            "        [3.1000e+01, 0.0000e+00, 0.0000e+00,  ..., 0.0000e+00, 0.0000e+00,\n",
            "         0.0000e+00],\n",
            "        [2.5400e+02, 0.0000e+00, 0.0000e+00,  ..., 0.0000e+00, 0.0000e+00,\n",
            "         0.0000e+00],\n",
            "        ...,\n",
            "        [6.4000e+01, 0.0000e+00, 0.0000e+00,  ..., 0.0000e+00, 0.0000e+00,\n",
            "         0.0000e+00],\n",
            "        [2.7070e+03, 0.0000e+00, 1.0000e+00,  ..., 0.0000e+00, 0.0000e+00,\n",
            "         0.0000e+00],\n",
            "        [1.0000e+00, 0.0000e+00, 0.0000e+00,  ..., 0.0000e+00, 0.0000e+00,\n",
            "         0.0000e+00]])\n"
          ]
        }
      ],
      "metadata": {
        "colab": {
          "base_uri": "https://localhost:8080/"
        },
        "id": "9jgO6e_pfBIv",
        "outputId": "5856a698-448d-4042-c80b-cdecc97eaee2"
      }
    },
    {
      "cell_type": "code",
      "execution_count": 39,
      "source": [
        "# We want the entire dataset encoded with the glove embeddings\n",
        "# So, the final size will be (n_samples, 1, excerpt_length, embedding_dim) (extra dimension 1 inserted for pytorch batch)\n",
        "# Since a tensor has fixed size we pad the sequences to ensure all have the same length.\n",
        "# Get the max excerpt length and encode the training set\n",
        "max_excerpt_len = len(max(training_X, key=len))\n",
        "enc_training_X = np.zeros((training_X.shape[0], 1, max_excerpt_len, 1 + n_tags))\n",
        "training_lengths = []\n",
        "for i, x in enumerate(training_X):\n",
        "    enc_x = lineToTensor(x)\n",
        "    enc_training_X[i, 0, :enc_x.shape[0]] = enc_x\n",
        "    training_lengths.append(enc_x.shape[0])\n",
        "\n",
        "print('encoded Training shape =',enc_training_X.shape)\n",
        "\n",
        "\n",
        "max_excerpt_len = len(max(full_training_X, key=len))\n",
        "enc_full_training_X = np.zeros((full_training_X.shape[0], 1, max_excerpt_len, 1 + n_tags))\n",
        "full_training_lengths = []\n",
        "for i, x in enumerate(full_training_X):\n",
        "    enc_x = lineToTensor(x)\n",
        "    enc_full_training_X[i, 0, :enc_x.shape[0]] = enc_x\n",
        "    full_training_lengths.append(enc_x.shape[0])\n",
        "\n",
        "print('encoded Real/Full Training shape =',enc_full_training_X.shape)\n",
        "\n",
        "\n",
        "max_excerpt_len = len(max(test_X, key=len))\n",
        "enc_test_X = np.zeros((test_X.shape[0], 1, max_excerpt_len, 1 + n_tags))\n",
        "test_lengths = []\n",
        "for i, x in enumerate(test_X):\n",
        "    enc_x = lineToTensor(x)\n",
        "    enc_test_X[i, 0, :enc_x.shape[0]] = enc_x\n",
        "    test_lengths.append(enc_x.shape[0])\n",
        "\n",
        "print('enc. Test shape =', enc_test_X.shape)\n",
        "\n",
        "\n",
        "max_excerpt_len = len(max(blind_test_X, key=len))\n",
        "enc_blind_test_X = np.zeros((blind_test_X.shape[0], 1, max_excerpt_len, 1 + n_tags))\n",
        "blind_test_lengths = []\n",
        "for i, x in enumerate(blind_test_X):\n",
        "    enc_x = lineToTensor(x)\n",
        "    enc_blind_test_X[i, 0, :enc_x.shape[0]] = enc_x\n",
        "    blind_test_lengths.append(enc_x.shape[0])\n",
        "\n",
        "print('enc. Test shape =', enc_blind_test_X.shape)"
      ],
      "outputs": [
        {
          "output_type": "stream",
          "name": "stdout",
          "text": [
            "encoded Training shape = (2434, 1, 1341, 19)\n",
            "encoded Real/Full Training shape = (2834, 1, 1341, 19)\n",
            "enc. Test shape = (400, 1, 1323, 19)\n",
            "enc. Test shape = (7, 1, 1144, 19)\n"
          ]
        }
      ],
      "metadata": {
        "colab": {
          "base_uri": "https://localhost:8080/"
        },
        "id": "bTdlKc_9l7Pa",
        "outputId": "ee61944c-0293-452e-b0b6-0183928c4f18"
      }
    },
    {
      "cell_type": "code",
      "execution_count": 40,
      "source": [
        "from math import floor\n",
        "#Utility function to get a random sample\n",
        "def randomTrainingExample():\n",
        "    i = np.random.randint(0, training_X.shape[0])\n",
        "    excerpt_tensor = lineToTensor(training_X[i])\n",
        "    target_tensor = torch.tensor(training_Y[i], dtype=torch.float)\n",
        "    return excerpt_tensor, target_tensor\n",
        "\n",
        "randomTrainingExample()"
      ],
      "outputs": [
        {
          "output_type": "execute_result",
          "data": {
            "text/plain": [
              "(tensor([[1.2266e+04, 0.0000e+00, 0.0000e+00,  ..., 1.0000e+00, 0.0000e+00,\n",
              "          0.0000e+00],\n",
              "         [9.9000e+01, 0.0000e+00, 1.0000e+00,  ..., 0.0000e+00, 0.0000e+00,\n",
              "          0.0000e+00],\n",
              "         [3.1000e+01, 0.0000e+00, 0.0000e+00,  ..., 0.0000e+00, 0.0000e+00,\n",
              "          0.0000e+00],\n",
              "         ...,\n",
              "         [5.0000e+01, 0.0000e+00, 0.0000e+00,  ..., 0.0000e+00, 0.0000e+00,\n",
              "          0.0000e+00],\n",
              "         [1.2266e+04, 0.0000e+00, 0.0000e+00,  ..., 1.0000e+00, 0.0000e+00,\n",
              "          0.0000e+00],\n",
              "         [1.0000e+00, 0.0000e+00, 0.0000e+00,  ..., 0.0000e+00, 0.0000e+00,\n",
              "          0.0000e+00]]), tensor(-0.5144))"
            ]
          },
          "metadata": {
            "tags": []
          },
          "execution_count": 40
        }
      ],
      "metadata": {
        "colab": {
          "base_uri": "https://localhost:8080/"
        },
        "id": "0FTLJIutn5IN",
        "outputId": "a37ee5b0-5640-4a21-9fc9-34835ff282f3"
      }
    },
    {
      "cell_type": "code",
      "execution_count": 74,
      "source": [
        "class CommonLitDataset(Dataset):\n",
        "    # X: numpy matrix (n_samples, 1, excerpt_length, embedding_dim)\n",
        "    def __init__(self, X, Y, lengths):\n",
        "        self.X = X\n",
        "        self.Y = Y\n",
        "        self.lengths = lengths\n",
        "\n",
        "    def __len__(self):\n",
        "        return self.X.shape[0]\n",
        "\n",
        "    def __getitem__(self, idx):\n",
        "        x = torch.zeros(max(self.lengths), embedding_dim + n_tags)\n",
        "        for i in range(self.lengths[idx]):\n",
        "            # print(self.X[idx][0].shape) # seq_len x 19\n",
        "            tok_id = int(self.X[idx][0][i, 0].item())\n",
        "            glove_emb = glove.vectors[tok_id]\n",
        "            tagged_seq = self.X[idx][0][i, 1:]\n",
        "            # Concatenate glove embedding with the POS tagged_seq\n",
        "            min_length = min(glove_emb.shape[0], tagged_seq.shape[0])\n",
        "            #glove_emb = glove_emb[:min_length]\n",
        "            #tagged_seq = tagged_seq[:min_length]\n",
        "            a = torch.tensor(np.hstack((glove_emb, tagged_seq)))\n",
        "            x[i, :] = a\n",
        "        return (x.float(), self.lengths[idx]), torch.tensor(self.Y[idx]).float()"
      ],
      "outputs": [],
      "metadata": {
        "id": "X8lsHjVroI8P"
      }
    },
    {
      "cell_type": "code",
      "execution_count": 77,
      "source": [
        "# Define the model\n",
        "\n",
        "class GRU(nn.Module):\n",
        "    def __init__(self, hidden_dim):\n",
        "        super(GRU, self).__init__()\n",
        "        self.hidden_dim = hidden_dim\n",
        "        self.gru = nn.GRU(n_tags + embedding_dim, hidden_dim, num_layers=3, batch_first=True)\n",
        "        self.linear = nn.Linear(hidden_dim, 1)\n",
        "\n",
        "    def forward(self, x, sequence_length):\n",
        "        x_pack = pack_padded_sequence(x, sequence_length, batch_first=True, enforce_sorted=False)\n",
        "        lstm_out, ht = self.gru(x_pack)\n",
        "        return self.linear(ht[-1])\n",
        "\n",
        "    def initHidden(self, batch_size):\n",
        "        return (torch.zeros(1, batch_size, self.hidden_dim), torch.zeros(1, batch_size, self.hidden_dim))\n",
        "\n",
        "def compute_mse(model, generator):\n",
        "    model.eval()\n",
        "    mse = 0.0\n",
        "    error = nn.MSELoss(reduction='sum')\n",
        "    n = 0\n",
        "    for (x, seq_len), y in generator:\n",
        "        x, targets_batch = x.to(device), y.to(device)\n",
        "\n",
        "        batch_size = x.shape[0]\n",
        "        n += batch_size\n",
        "\n",
        "        output = model(x, seq_len)\n",
        "\n",
        "        targets_batch = torch.reshape(targets_batch, (batch_size, 1))\n",
        "\n",
        "        loss = error(output, targets_batch)\n",
        "        mse += loss.item()\n",
        "    return mse / n"
      ],
      "outputs": [],
      "metadata": {
        "id": "GPdoDaaXoKru"
      }
    },
    {
      "cell_type": "code",
      "execution_count": 78,
      "source": [
        "import time\n",
        "from math import floor, inf\n",
        "\n",
        "# Keep track of losses for plotting\n",
        "current_loss = 0\n",
        "all_losses = []\n",
        "\n",
        "def timeSince(since):\n",
        "    now = time.time()\n",
        "    s = now - since\n",
        "    m = floor(s / 60)\n",
        "    s -= m * 60\n",
        "    return '%dm %ds' % (m, s)\n",
        "\n",
        "start = time.time()\n",
        "print_every = 1\n",
        "plot_every = 1\n",
        "\n",
        "\n",
        "BATCH_SIZE = 16     # batch = 16\n",
        "hidden_dim = 256    # 256\n",
        "epochs = 50          # 75\n",
        "lr = 0.00003         # 0.00003\n",
        "weight_decay = 1e-8 # 1e-7\n",
        "\n",
        "# test_error = 0.61\n",
        "\n",
        "gru = GRU(hidden_dim).to(device)\n",
        "\n",
        "criterion = nn.MSELoss()\n",
        "\n",
        "parameters = filter(lambda p: p.requires_grad, gru.parameters())\n",
        "optimizer = torch.optim.Adam(parameters, lr=lr, weight_decay=weight_decay)\n",
        "\n",
        "params = {'batch_size': BATCH_SIZE,\n",
        "          'shuffle': True,\n",
        "          'num_workers': 0}\n",
        "\n",
        "commonlit_dataset1 = CommonLitDataset(enc_training_X[400:], training_Y[400:], training_lengths[400:])\n",
        "training_generator = torch.utils.data.DataLoader(commonlit_dataset1, **params)\n",
        "\n",
        "commonlit_dataset2 = CommonLitDataset(enc_training_X[:400], training_Y[:400], training_lengths[:400])\n",
        "validation_generator = torch.utils.data.DataLoader(commonlit_dataset2, **params)\n",
        "\n",
        "# Early stopping logic\n",
        "val_losses = []\n",
        "best_val_error = inf\n",
        "best_val_epoch = 0\n",
        "\n",
        "for iter in range(1, epochs + 1):\n",
        "    total = 0\n",
        "    current_loss = 0.0\n",
        "    gru.train()\n",
        "    for (x, seq_len), y in training_generator:\n",
        "        x, y = x.to(device), y.to(device)\n",
        "        optimizer.zero_grad()\n",
        "        y_pred = gru(x, seq_len)\n",
        "\n",
        "        loss = criterion(y_pred, y.unsqueeze(-1))\n",
        "        loss.backward()\n",
        "        optimizer.step()\n",
        "        current_loss += loss.item()*y.shape[0]\n",
        "        total += y.shape[0]\n",
        "\n",
        "    # Mean squared error\n",
        "    current_loss /= total\n",
        "\n",
        "    current_val_error = compute_mse(gru, validation_generator)\n",
        "    val_losses.append(current_val_error)\n",
        "    if current_val_error < best_val_error:\n",
        "        best_val_error = current_val_error\n",
        "        best_val_epoch = iter\n",
        "\n",
        "    # Print iter number, loss\n",
        "    if iter % print_every == 0:\n",
        "        print('Iteration %d | %d%% (%s) MSE = %.4f Val RMSE = %.4f' % (iter, iter / epochs * 100, timeSince(start), current_loss, np.sqrt(current_val_error)))\n",
        "\n",
        "    # Add current loss avg to list of losses\n",
        "    if iter % plot_every == 0:\n",
        "        all_losses.append(current_loss / plot_every)\n",
        "        current_loss = 0"
      ],
      "outputs": [
        {
          "output_type": "stream",
          "name": "stdout",
          "text": [
            "Iteration 1 | 2% (0m 21s) MSE = 1.1763 Val RMSE = 1.0211\n",
            "Iteration 2 | 4% (0m 42s) MSE = 0.9594 Val RMSE = 0.9525\n",
            "Iteration 3 | 6% (1m 2s) MSE = 0.8446 Val RMSE = 0.9405\n",
            "Iteration 4 | 8% (1m 23s) MSE = 0.7795 Val RMSE = 0.8929\n",
            "Iteration 5 | 10% (1m 44s) MSE = 0.7220 Val RMSE = 0.8706\n",
            "Iteration 6 | 12% (2m 4s) MSE = 0.6743 Val RMSE = 0.8522\n",
            "Iteration 7 | 14% (2m 24s) MSE = 0.6179 Val RMSE = 0.8264\n",
            "Iteration 8 | 16% (2m 44s) MSE = 0.5848 Val RMSE = 0.7950\n",
            "Iteration 9 | 18% (3m 6s) MSE = 0.5317 Val RMSE = 0.7372\n",
            "Iteration 10 | 20% (3m 26s) MSE = 0.5115 Val RMSE = 0.7632\n",
            "Iteration 11 | 22% (3m 46s) MSE = 0.5314 Val RMSE = 0.7076\n",
            "Iteration 12 | 24% (4m 7s) MSE = 0.4519 Val RMSE = 0.7210\n",
            "Iteration 13 | 26% (4m 27s) MSE = 0.4443 Val RMSE = 0.6916\n",
            "Iteration 14 | 28% (4m 47s) MSE = 0.4358 Val RMSE = 0.7532\n",
            "Iteration 15 | 30% (5m 9s) MSE = 0.4244 Val RMSE = 0.6931\n",
            "Iteration 16 | 32% (5m 29s) MSE = 0.4188 Val RMSE = 0.6762\n",
            "Iteration 17 | 34% (5m 51s) MSE = 0.4036 Val RMSE = 0.6734\n",
            "Iteration 18 | 36% (6m 11s) MSE = 0.3978 Val RMSE = 0.6609\n",
            "Iteration 19 | 38% (6m 31s) MSE = 0.3995 Val RMSE = 0.6628\n",
            "Iteration 20 | 40% (6m 52s) MSE = 0.3719 Val RMSE = 0.7458\n",
            "Iteration 21 | 42% (7m 12s) MSE = 0.3907 Val RMSE = 0.6961\n",
            "Iteration 22 | 44% (7m 32s) MSE = 0.4343 Val RMSE = 0.6577\n",
            "Iteration 23 | 46% (7m 53s) MSE = 0.3676 Val RMSE = 0.6738\n",
            "Iteration 24 | 48% (8m 13s) MSE = 0.3631 Val RMSE = 0.6513\n",
            "Iteration 25 | 50% (8m 33s) MSE = 0.3621 Val RMSE = 0.6606\n",
            "Iteration 26 | 52% (8m 54s) MSE = 0.3672 Val RMSE = 0.6604\n",
            "Iteration 27 | 54% (9m 14s) MSE = 0.3670 Val RMSE = 0.6639\n",
            "Iteration 28 | 56% (9m 34s) MSE = 0.3462 Val RMSE = 0.6422\n",
            "Iteration 29 | 57% (9m 55s) MSE = 0.3496 Val RMSE = 0.6509\n",
            "Iteration 30 | 60% (10m 16s) MSE = 0.3441 Val RMSE = 0.6472\n",
            "Iteration 31 | 62% (10m 35s) MSE = 0.3371 Val RMSE = 0.6380\n",
            "Iteration 32 | 64% (10m 55s) MSE = 0.3326 Val RMSE = 0.6366\n",
            "Iteration 33 | 66% (11m 17s) MSE = 0.3303 Val RMSE = 0.6532\n",
            "Iteration 34 | 68% (11m 37s) MSE = 0.3239 Val RMSE = 0.6434\n",
            "Iteration 35 | 70% (11m 58s) MSE = 0.3290 Val RMSE = 0.6344\n",
            "Iteration 36 | 72% (12m 18s) MSE = 0.3153 Val RMSE = 0.6370\n",
            "Iteration 37 | 74% (12m 38s) MSE = 0.3119 Val RMSE = 0.6464\n",
            "Iteration 38 | 76% (12m 59s) MSE = 0.3077 Val RMSE = 0.6520\n",
            "Iteration 39 | 78% (13m 19s) MSE = 0.3007 Val RMSE = 0.6280\n",
            "Iteration 40 | 80% (13m 39s) MSE = 0.2968 Val RMSE = 0.7073\n",
            "Iteration 41 | 82% (14m 1s) MSE = 0.3195 Val RMSE = 0.7066\n",
            "Iteration 42 | 84% (14m 21s) MSE = 0.2942 Val RMSE = 0.6338\n",
            "Iteration 43 | 86% (14m 40s) MSE = 0.2939 Val RMSE = 0.6427\n",
            "Iteration 44 | 88% (15m 1s) MSE = 0.2801 Val RMSE = 0.6398\n",
            "Iteration 45 | 90% (15m 22s) MSE = 0.2823 Val RMSE = 0.6522\n",
            "Iteration 46 | 92% (15m 41s) MSE = 0.2936 Val RMSE = 0.6408\n",
            "Iteration 47 | 94% (16m 2s) MSE = 0.2804 Val RMSE = 0.6406\n",
            "Iteration 48 | 96% (16m 23s) MSE = 0.2729 Val RMSE = 0.6397\n",
            "Iteration 49 | 98% (16m 45s) MSE = 0.2751 Val RMSE = 0.6683\n",
            "Iteration 50 | 100% (17m 5s) MSE = 0.2648 Val RMSE = 0.6559\n"
          ]
        }
      ],
      "metadata": {
        "colab": {
          "base_uri": "https://localhost:8080/"
        },
        "id": "B1JmQ7ZHoOF-",
        "outputId": "e3011dc6-8710-4fdd-82cf-c1a1078e0953"
      }
    },
    {
      "cell_type": "code",
      "execution_count": 79,
      "source": [
        "plt.figure()\n",
        "plt.plot(all_losses, label='Training error')\n",
        "plt.plot(val_losses, label='Val Error')\n",
        "plt.legend()"
      ],
      "outputs": [
        {
          "output_type": "execute_result",
          "data": {
            "text/plain": [
              "<matplotlib.legend.Legend at 0x7f262789a6d0>"
            ]
          },
          "metadata": {
            "tags": []
          },
          "execution_count": 79
        },
        {
          "output_type": "display_data",
          "data": {
            "text/plain": [
              "<Figure size 432x288 with 1 Axes>"
            ],
            "image/png": "[encoded data removed]"
          },
          "metadata": {
            "tags": [],
            "needs_background": "light"
          }
        }
      ],
      "metadata": {
        "id": "DmonlGWHoonz",
        "colab": {
          "base_uri": "https://localhost:8080/",
          "height": 284
        },
        "outputId": "478bec17-10c9-47b0-ff60-fcf8e6282d40"
      }
    },
    {
      "cell_type": "markdown",
      "source": [
        "# Retrain"
      ],
      "metadata": {
        "id": "aIPzDhnCBffJ"
      }
    },
    {
      "cell_type": "code",
      "execution_count": 80,
      "source": [
        "params = {'batch_size': BATCH_SIZE,\n",
        "          'shuffle': True,\n",
        "          'num_workers': 0}\n",
        "\n",
        "commonlit_dataset3 = CommonLitDataset(enc_full_training_X, full_training_Y, full_training_lengths)\n",
        "full_training_generator = torch.utils.data.DataLoader(commonlit_dataset3, **params)\n",
        "\n",
        "final_model = GRU(hidden_dim).to(device)\n",
        "\n",
        "epochs = best_val_epoch\n",
        "\n",
        "criterion = nn.MSELoss()\n",
        "\n",
        "all_losses = []\n",
        "\n",
        "start = time.time()\n",
        "\n",
        "parameters = filter(lambda p: p.requires_grad, final_model.parameters())\n",
        "optimizer = torch.optim.Adam(parameters, lr=lr)\n",
        "\n",
        "for iter in range(1, epochs + 1):\n",
        "    total = 0\n",
        "    current_loss = 0.0\n",
        "    final_model.train()\n",
        "    for (x, seq_len), y in training_generator: # TODO: Change in full_training_generator (to include the test data)\n",
        "        x, y = x.to(device), y.to(device)\n",
        "        optimizer.zero_grad()\n",
        "        y_pred = final_model(x, seq_len)\n",
        "\n",
        "        loss = criterion(y_pred, y.unsqueeze(-1))\n",
        "        loss.backward()\n",
        "        optimizer.step()\n",
        "        current_loss += loss.item()*y.shape[0]\n",
        "        total += y.shape[0]\n",
        "\n",
        "    # Mean squared error\n",
        "    current_loss /= total\n",
        "\n",
        "    # Print iter number, loss\n",
        "    if iter % print_every == 0:\n",
        "        print('Iteration %d | %d%% (%s) MSE = %.4f' % (iter, iter / epochs * 100, timeSince(start), current_loss))\n",
        "\n",
        "    # Add current loss avg to list of losses\n",
        "    if iter % plot_every == 0:\n",
        "        all_losses.append(current_loss / plot_every)\n",
        "        current_loss = 0"
      ],
      "outputs": [
        {
          "output_type": "stream",
          "name": "stdout",
          "text": [
            "Iteration 1 | 2% (0m 17s) MSE = 1.2169\n",
            "Iteration 2 | 5% (0m 34s) MSE = 0.9763\n",
            "Iteration 3 | 7% (0m 52s) MSE = 0.8738\n",
            "Iteration 4 | 10% (1m 11s) MSE = 0.7998\n",
            "Iteration 5 | 12% (1m 28s) MSE = 0.7362\n",
            "Iteration 6 | 15% (1m 45s) MSE = 0.6769\n",
            "Iteration 7 | 17% (2m 3s) MSE = 0.6183\n",
            "Iteration 8 | 20% (2m 21s) MSE = 0.5578\n",
            "Iteration 9 | 23% (2m 38s) MSE = 0.5604\n",
            "Iteration 10 | 25% (2m 55s) MSE = 0.4766\n",
            "Iteration 11 | 28% (3m 13s) MSE = 0.4579\n",
            "Iteration 12 | 30% (3m 31s) MSE = 0.4386\n",
            "Iteration 13 | 33% (3m 48s) MSE = 0.4270\n",
            "Iteration 14 | 35% (4m 6s) MSE = 0.4082\n",
            "Iteration 15 | 38% (4m 24s) MSE = 0.4187\n",
            "Iteration 16 | 41% (4m 42s) MSE = 0.3967\n",
            "Iteration 17 | 43% (5m 0s) MSE = 0.3862\n",
            "Iteration 18 | 46% (5m 17s) MSE = 0.3881\n",
            "Iteration 19 | 48% (5m 34s) MSE = 0.3769\n",
            "Iteration 20 | 51% (5m 52s) MSE = 0.3740\n",
            "Iteration 21 | 53% (6m 10s) MSE = 0.3699\n",
            "Iteration 22 | 56% (6m 27s) MSE = 0.3573\n",
            "Iteration 23 | 58% (6m 44s) MSE = 0.3564\n",
            "Iteration 24 | 61% (7m 2s) MSE = 0.3451\n",
            "Iteration 25 | 64% (7m 20s) MSE = 0.3529\n",
            "Iteration 26 | 66% (7m 37s) MSE = 0.3393\n",
            "Iteration 27 | 69% (7m 53s) MSE = 0.3419\n",
            "Iteration 28 | 71% (8m 12s) MSE = 0.3322\n",
            "Iteration 29 | 74% (8m 29s) MSE = 0.3308\n",
            "Iteration 30 | 76% (8m 46s) MSE = 0.3320\n",
            "Iteration 31 | 79% (9m 3s) MSE = 0.3218\n",
            "Iteration 32 | 82% (9m 21s) MSE = 0.3149\n",
            "Iteration 33 | 84% (9m 39s) MSE = 0.3210\n",
            "Iteration 34 | 87% (9m 57s) MSE = 0.3134\n",
            "Iteration 35 | 89% (10m 14s) MSE = 0.3138\n",
            "Iteration 36 | 92% (10m 31s) MSE = 0.3062\n",
            "Iteration 37 | 94% (10m 49s) MSE = 0.3069\n",
            "Iteration 38 | 97% (11m 7s) MSE = 0.3024\n",
            "Iteration 39 | 100% (11m 24s) MSE = 0.3006\n"
          ]
        }
      ],
      "metadata": {
        "id": "K7ujnHdJrxvQ",
        "colab": {
          "base_uri": "https://localhost:8080/"
        },
        "outputId": "a2a494e0-3f73-4505-d5fd-8c5a1f897d16"
      }
    },
    {
      "cell_type": "code",
      "execution_count": 81,
      "source": [
        "# Plot the learning curve\n",
        "plt.figure()\n",
        "plt.plot(all_losses, label='Training error')\n",
        "plt.legend()"
      ],
      "outputs": [
        {
          "output_type": "execute_result",
          "data": {
            "text/plain": [
              "<matplotlib.legend.Legend at 0x7f262777cd10>"
            ]
          },
          "metadata": {
            "tags": []
          },
          "execution_count": 81
        },
        {
          "output_type": "display_data",
          "data": {
            "text/plain": [
              "<Figure size 432x288 with 1 Axes>"
            ],
            "image/png": "[encoded data removed]"
          },
          "metadata": {
            "tags": [],
            "needs_background": "light"
          }
        }
      ],
      "metadata": {
        "colab": {
          "base_uri": "https://localhost:8080/",
          "height": 284
        },
        "id": "KP_3HzzbBnzY",
        "outputId": "5eaf1b59-49b0-42b3-e0dc-e696e5c74c4a"
      }
    },
    {
      "cell_type": "markdown",
      "source": [
        "# Evaluate"
      ],
      "metadata": {
        "id": "_EXSIWukBtJh"
      }
    },
    {
      "cell_type": "code",
      "execution_count": 82,
      "source": [
        "test_params = {'batch_size': 64,\n",
        "          'shuffle': False,\n",
        "          'num_workers': 0}\n",
        "\n",
        "internal_test_dataset = CommonLitDataset(enc_test_X, test_Y, test_lengths)\n",
        "test_generator = torch.utils.data.DataLoader(internal_test_dataset, **test_params)\n",
        "\n",
        "\n",
        "blind_test_params = {'batch_size': 1,\n",
        "          'shuffle': False,\n",
        "          'num_workers': 0}\n",
        "\n",
        "blind_test_dataset = CommonLitDataset(enc_blind_test_X, np.zeros(enc_blind_test_X.shape), blind_test_lengths)\n",
        "blind_test_generator = torch.utils.data.DataLoader(blind_test_dataset, **blind_test_params)\n",
        "\n",
        "# Compute the final MSE on the training set\n",
        "def compute_squared_error(generator):\n",
        "    error = nn.MSELoss(reduction='sum')\n",
        "    with torch.no_grad():\n",
        "        mse = 0.0\n",
        "        for (x, seq_len), targets_batch in generator:\n",
        "            x, targets_batch = x.to(device), targets_batch.to(device)\n",
        "\n",
        "            batch_size = x.shape[0]\n",
        "\n",
        "            output = final_model(x, seq_len)\n",
        "\n",
        "            targets_batch = torch.reshape(targets_batch, (batch_size, 1))\n",
        "\n",
        "            loss = error(output, targets_batch)\n",
        "            mse += loss.item()\n",
        "    return mse\n",
        "print('Training RMSE =', np.sqrt(compute_squared_error(training_generator) / enc_training_X.shape[0]))\n",
        "# A bit useless since we train also on this data\n",
        "print('Internal TEST RMSE =', np.sqrt(compute_squared_error(test_generator) / enc_test_X.shape[0]))\n",
        "    "
      ],
      "outputs": [
        {
          "output_type": "stream",
          "name": "stdout",
          "text": [
            "Training RMSE = 0.48062843963408564\n",
            "Internal TEST RMSE = 0.6384047567342714\n"
          ]
        }
      ],
      "metadata": {
        "colab": {
          "base_uri": "https://localhost:8080/"
        },
        "id": "MeTPGfvsBuge",
        "outputId": "aab202c2-8374-4152-8649-a23665b78e2e"
      }
    },
    {
      "cell_type": "markdown",
      "source": [
        "# Compute outputs"
      ],
      "metadata": {
        "id": "fScb9J3IBytn"
      }
    },
    {
      "cell_type": "code",
      "execution_count": 83,
      "source": [
        "outputs = []\n",
        "with torch.no_grad():\n",
        "    for i, ((x, seq_len), targets_batch) in enumerate(blind_test_generator):\n",
        "        excerpts_batch = x.to(device)\n",
        "\n",
        "        batch_size = excerpts_batch.shape[0]\n",
        "\n",
        "        output = final_model(excerpts_batch, seq_len)\n",
        "        id = blind_test[i, 0]\n",
        "        print(id, output.item())\n",
        "        outputs.append((id, output.item()))\n",
        "\n",
        "# Save outputs to submission.csv\n",
        "if False:\n",
        "    with open('submission.csv', 'w') as f:\n",
        "        f.write('id,target\\n')\n",
        "        for id, o in outputs:\n",
        "            f.write(id+','+str(o)+'\\n')"
      ],
      "outputs": [
        {
          "output_type": "stream",
          "name": "stdout",
          "text": [
            "c0f722661 -1.063838005065918\n",
            "f0953f0a5 -0.24210666120052338\n",
            "0df072751 -0.7804214358329773\n",
            "04caf4e0c -2.6598479747772217\n",
            "0e63f8bea -2.261051654815674\n",
            "12537fe78 -1.6240590810775757\n",
            "965e592c0 0.14499518275260925\n"
          ]
        }
      ],
      "metadata": {
        "colab": {
          "base_uri": "https://localhost:8080/"
        },
        "id": "l7BhX-4CB0jc",
        "outputId": "9634f8af-8900-4f4d-9997-f04d982b124e"
      }
    },
    {
      "cell_type": "code",
      "execution_count": null,
      "source": [],
      "outputs": [],
      "metadata": {
        "id": "HDMiZlbfIDYr"
      }
    }
  ]
}