{
 "cells": [
  {
   "cell_type": "markdown",
   "metadata": {
    "id": "icNlOrUPs7xp"
   },
   "source": [
    "We'll first try with the simplest possible approach based on char-RNN that read all the excerpt and predicts in output the target complexity."
   ]
  },
  {
   "cell_type": "code",
   "execution_count": 1,
   "metadata": {
    "colab": {
     "base_uri": "https://localhost:8080/"
    },
    "id": "kAIyrp5Fs7xt",
    "outputId": "d9435bb4-8ac1-4d53-f306-d4a2a7c875e2"
   },
   "outputs": [
    {
     "name": "stdout",
     "output_type": "stream",
     "text": [
      "cuda is used\n"
     ]
    }
   ],
   "source": [
    "import numpy as np\n",
    "import torch\n",
    "import random\n",
    "import os\n",
    "import torch.nn as nn\n",
    "import pandas as pd\n",
    "import matplotlib.pyplot as plt\n",
    "import string\n",
    "from torch.utils.data import Dataset\n",
    "from torch.nn.utils.rnn import pack_padded_sequence\n",
    "\n",
    "device = torch.device(\"cuda\" if torch.cuda.is_available() else \"cpu\")\n",
    "print(f\"{device} is used\")\n",
    "\n",
    "# seed everything\n",
    "seed = 1\n",
    "random.seed(seed)\n",
    "os.environ['PYTHONASSEED'] = str(seed)\n",
    "np.random.seed(seed)\n",
    "torch.manual_seed(seed)\n",
    "torch.cuda.manual_seed(seed)\n",
    "torch.backends.cudnn.deterministic = True\n",
    "torch.backends.cudnn.benchmark = True\n",
    "#os.environ['WANDB_CONSOLE'] = 'off'"
   ]
  },
  {
   "cell_type": "code",
   "execution_count": 2,
   "metadata": {
    "colab": {
     "base_uri": "https://localhost:8080/"
    },
    "id": "nAk8BRNKs7xv",
    "outputId": "b8be1cea-da4f-49ee-bc7e-8eeba59aade4"
   },
   "outputs": [
    {
     "name": "stdout",
     "output_type": "stream",
     "text": [
      "(2434, 6) (400, 6) (7, 4) (2834, 6)\n"
     ]
    }
   ],
   "source": [
    "# Read the data\n",
    "# Internal datasets\n",
    "training = pd.read_csv('internal_train.csv').to_numpy()\n",
    "test = pd.read_csv('internal_test.csv').to_numpy()\n",
    "# Real datasets\n",
    "blind_test = pd.read_csv('test.csv').to_numpy()\n",
    "full_training = pd.read_csv('train.csv').to_numpy()\n",
    "\n",
    "# TODO: Remove to train on full dataset\n",
    "#training = training[:10, :]\n",
    "\n",
    "training = np.random.permutation(training)\n",
    "print(training.shape, test.shape, blind_test.shape, full_training.shape)"
   ]
  },
  {
   "cell_type": "code",
   "execution_count": 3,
   "metadata": {
    "colab": {
     "base_uri": "https://localhost:8080/"
    },
    "id": "MIYcHII9s7xv",
    "outputId": "4c11c888-6907-4e41-d35f-7eb6ef0438cb"
   },
   "outputs": [
    {
     "name": "stdout",
     "output_type": "stream",
     "text": [
      "training shape = (2434,) (2434,)\n",
      "Real training shape = (2834,) (2834,)\n",
      "test shape = (400,) (400,)\n",
      "BLIND test shape = (7,)\n"
     ]
    }
   ],
   "source": [
    "# id,url_legal,license,excerpt,target,standard_error\n",
    "\n",
    "# We have 5 features (id,url_legal,license,excerpt,standard_error) and 1 output 'target'\n",
    "\n",
    "# For our model we'll only use the excerpt as a feature\n",
    "training_X = training[:, 3]\n",
    "training_Y = training[:, 4]\n",
    "print('training shape =', training_X.shape, training_Y.shape)\n",
    "\n",
    "full_training_X = full_training[:, 3]\n",
    "full_training_Y = full_training[:, 4]\n",
    "print('Real training shape =', full_training_X.shape, full_training_Y.shape)\n",
    "\n",
    "test_X = test[:, 3]\n",
    "test_Y = test[:, 4]\n",
    "print('test shape =', test_X.shape, test_Y.shape)\n",
    "\n",
    "blind_test_X = blind_test[:, 3]\n",
    "print('BLIND test shape =', blind_test_X.shape)"
   ]
  },
  {
   "cell_type": "code",
   "execution_count": 4,
   "metadata": {
    "colab": {
     "base_uri": "https://localhost:8080/"
    },
    "id": "qi8sdh8qs7xw",
    "outputId": "73670dc1-d4ff-4f46-c356-be3d64fc2291"
   },
   "outputs": [
    {
     "name": "stdout",
     "output_type": "stream",
     "text": [
      "I have found that when I used blood charcoal or bone coal in place of wood coal it was still more efficient; but it must be mentioned that when they are used they must be purified as follows before using: Charcoal from blood contains potash and hence it is necessary to wash it with distilled water and dry it before using it. Bone coal (also called bone black, animal charcoal, etc.) contains on an average 10 per cent. of nitrogenous and hydrogenated carbon, 8 per cent. of carbonate of lime, 78 per cent. of phosphate of lime, besides phosphate of magnesia, sulphate of lime, soluble salts, etc. Before using, it should be treated with dilute hydrochloric acid until it does not effervesce any more. The bone coal is then left to stand for 24 or 30 hours and at the end of this time is washed with distilled water until the wash water no longer reddens a blue piece of litmus paper, i.e., until every trace of hydrochloric acid has been removed from the bone coal. Wood charcoal may be treated in like manner.\n",
      "\n",
      "Target = -2.308546397\n"
     ]
    }
   ],
   "source": [
    "print(training_X[0])\n",
    "print('\\nTarget =', training_Y[0])"
   ]
  },
  {
   "cell_type": "code",
   "execution_count": 5,
   "metadata": {
    "colab": {
     "base_uri": "https://localhost:8080/",
     "height": 564
    },
    "id": "cZ4xXyoPs7xx",
    "outputId": "73c1d06f-c72d-41e6-dc9a-644347653589"
   },
   "outputs": [
    {
     "name": "stdout",
     "output_type": "stream",
     "text": [
      "Min target = -3.676267773 | Max target = 1.711389827\n"
     ]
    },
    {
     "data": {
      "image/png": "[encoded data removed]",
      "text/plain": [
       "<Figure size 432x288 with 1 Axes>"
      ]
     },
     "metadata": {
      "needs_background": "light"
     },
     "output_type": "display_data"
    },
    {
     "data": {
      "image/png": "[encoded data removed]",
      "text/plain": [
       "<Figure size 432x288 with 1 Axes>"
      ]
     },
     "metadata": {
      "needs_background": "light"
     },
     "output_type": "display_data"
    }
   ],
   "source": [
    "plt.plot(np.sort(training_Y))\n",
    "plt.title('Training Target')\n",
    "\n",
    "plt.figure()\n",
    "plt.plot(np.sort(test_Y))\n",
    "plt.title('test Target')\n",
    "print(f'Min target = {np.min(training_Y)} | Max target = {np.max(training_Y)}')"
   ]
  },
  {
   "cell_type": "markdown",
   "metadata": {
    "id": "vh-F3FJjs7xy"
   },
   "source": [
    "### Turning excerpts into Tensors\n",
    "\n",
    "To represent a single word, we'll use a custom embeddings.\n",
    "\n",
    "To make an excerpt we join a bunch of those into a 2D matrix <n_words x 1 x embeddings_size>.\n",
    "\n",
    "That extra 1 dimension is because PyTorch assumes everything is in batches - we’re just using a batch size of 1 here."
   ]
  },
  {
   "cell_type": "code",
   "execution_count": 6,
   "metadata": {
    "colab": {
     "base_uri": "https://localhost:8080/"
    },
    "id": "L5pDF_-Js7xy",
    "outputId": "5c29bb70-0674-429d-bf23-30718addfcf4"
   },
   "outputs": [
    {
     "name": "stdout",
     "output_type": "stream",
     "text": [
      "26904\n",
      "tensor([ 8478, 10093,  6888,   692, 12324,  8478, 10142,  8060, 17770,  3480,\n",
      "         1998, 24440, 13338,  7888, 24224,  6289, 24440,  9731,  8904, 21923,\n",
      "         4109,  8132,  6093,  9731,  4379,   776, 25958,   692, 12324,  9444,\n",
      "         8561, 10142,  9444,  4379,   776, 16736, 26610, 15536,  4333, 18676,\n",
      "        17770,  5351,  8060,  8989, 25954, 12191,  1177,  9731,  1039, 16397,\n",
      "         9926, 26124,  9731, 14351, 12098,  3003, 12191, 16890,  9731,  4333,\n",
      "        18676,  9731,  1998, 24440, 10315, 11955,  1998, 15259, 11861, 17770,\n",
      "          765,  8989, 24568, 14314, 26299, 15340,  1294,  8822, 24224,  4085,\n",
      "        12191,   656, 20553, 24725,  1294,  8822, 24224, 18697, 24224, 12395,\n",
      "         5552,  1294,  8822, 24224, 18361, 24224, 12395, 23396, 18361, 24224,\n",
      "        12829, 26075, 24224, 12395,  2996, 25618,   765,  4333, 18676,  9731,\n",
      "         7371,   776,  8089, 14351, 12689, 24116,  3246, 21565,  9731, 11571,\n",
      "        22725,  7533,  4877,  4109,  2939,  1998, 24440,  1039, 16979, 22324,\n",
      "         9926, 17114, 14266, 14421,  3480, 21197, 25441, 12191, 20169,  2939,\n",
      "        11866, 24224, 15432, 20690,  1039,   933, 14351, 12098,  3003, 21565,\n",
      "         2939, 26124,  3003,  1926, 11253, 10914,  9554, 22977,  8739, 24224,\n",
      "         2411, 24885,  8478, 19326, 21565, 14713, 25350, 24224, 24116,  3246,\n",
      "         7255, 12555,  6520,  5351,  2939,  1998, 24440,  6289, 17770, 23508,\n",
      "          776,  8089, 13338,  5966, 12820])\n"
     ]
    }
   ],
   "source": [
    "import re\n",
    "\n",
    "# TODO: Add punctation/Upper case words\n",
    "\n",
    "# First build the vocabulary\n",
    "vocabulary = []\n",
    "for excerpt in training_X:\n",
    "    for word in re.sub(\"[^\\w]\", \" \",  excerpt.lower()).split():\n",
    "        vocabulary.append(word)\n",
    "\n",
    "# Prob not necessary\n",
    "for excerpt in full_training_X:\n",
    "    for word in re.sub(\"[^\\w]\", \" \",  excerpt.lower()).split():\n",
    "        vocabulary.append(word)\n",
    "\n",
    "# Expand the dictionary with the test and blind test samples\n",
    "for excerpt in test_X:\n",
    "    for word in re.sub(\"[^\\w]\", \" \",  excerpt.lower()).split():\n",
    "        vocabulary.append(word)\n",
    "\n",
    "for excerpt in blind_test_X:\n",
    "    for word in re.sub(\"[^\\w]\", \" \",  excerpt.lower()).split():\n",
    "        vocabulary.append(word)\n",
    "\n",
    "\n",
    "\n",
    "# Remove duplicates\n",
    "vocabulary = list(set(vocabulary))\n",
    "print(len(vocabulary))\n",
    "# Map from word to index\n",
    "word_to_idx = {word:id for id, word in enumerate(vocabulary)}\n",
    "\n",
    "# Turn a line of words into the curresponding indices\n",
    "def lineToTensor(line):\n",
    "    tensor = torch.tensor([word_to_idx[w] for w in re.sub(\"[^\\w]\", \" \", line.lower()).split()], dtype=torch.long)\n",
    "    return tensor\n",
    "\n",
    "print(lineToTensor(training_X[0]))"
   ]
  },
  {
   "cell_type": "code",
   "execution_count": 7,
   "metadata": {
    "colab": {
     "base_uri": "https://localhost:8080/"
    },
    "id": "6s8cf7iTs7xz",
    "outputId": "5028c8eb-a4f6-40dc-e1e3-05477551f790"
   },
   "outputs": [
    {
     "name": "stdout",
     "output_type": "stream",
     "text": [
      "encoded Training shape = (2434, 1, 1341)\n",
      "encoded Real/Full Training shape = (2834, 1, 1341)\n",
      "enc. Test shape = (400, 1, 1323)\n",
      "enc. Test shape = (7, 1, 1144)\n"
     ]
    }
   ],
   "source": [
    "# We want the entire dataset encoded with 1-of-k char encoding\n",
    "# So, the final size will be (n_samples, 1, excerpt_length, 57) (extra dimension 1 inserted for pytorch batch)\n",
    "# Since a tensor has fixed size we pad the sequences to ensure all have the same length.\n",
    "\n",
    "# Get the max excerpt length and encode the training set\n",
    "max_excerpt_len = len(max(training_X, key=len))\n",
    "enc_training_X = np.zeros((training_X.shape[0], 1, max_excerpt_len,))\n",
    "training_lengths = []\n",
    "for i, x in enumerate(training_X):\n",
    "    enc_x = lineToTensor(x)\n",
    "    enc_training_X[i, 0, :enc_x.shape[0]] = torch.reshape(enc_x, (-1,))\n",
    "    training_lengths.append(enc_x.shape[0])\n",
    "\n",
    "print('encoded Training shape =',enc_training_X.shape)\n",
    "\n",
    "\n",
    "max_excerpt_len = len(max(full_training_X, key=len))\n",
    "enc_full_training_X = np.zeros((full_training_X.shape[0], 1, max_excerpt_len,))\n",
    "full_training_lengths = []\n",
    "for i, x in enumerate(full_training_X):\n",
    "    enc_x = lineToTensor(x)\n",
    "    enc_full_training_X[i, 0, :enc_x.shape[0]] = torch.reshape(enc_x, (-1,))\n",
    "    full_training_lengths.append(enc_x.shape[0])\n",
    "\n",
    "print('encoded Real/Full Training shape =',enc_full_training_X.shape)\n",
    "\n",
    "\n",
    "max_excerpt_len = len(max(test_X, key=len))\n",
    "enc_test_X = np.zeros((test_X.shape[0], 1, max_excerpt_len,))\n",
    "test_lengths = []\n",
    "for i, x in enumerate(test_X):\n",
    "    enc_x = lineToTensor(x)\n",
    "    enc_test_X[i, 0, :enc_x.shape[0]] = torch.reshape(enc_x, (-1,))\n",
    "    test_lengths.append(enc_x.shape[0])\n",
    "\n",
    "print('enc. Test shape =', enc_test_X.shape)\n",
    "\n",
    "\n",
    "max_excerpt_len = len(max(blind_test_X, key=len))\n",
    "enc_blind_test_X = np.zeros((blind_test_X.shape[0], 1, max_excerpt_len,))\n",
    "blind_test_lengths = []\n",
    "for i, x in enumerate(blind_test_X):\n",
    "    enc_x = lineToTensor(x)\n",
    "    enc_blind_test_X[i, 0, :enc_x.shape[0]] = torch.reshape(enc_x, (-1,))\n",
    "    blind_test_lengths.append(enc_x.shape[0])\n",
    "\n",
    "print('enc. Test shape =', enc_blind_test_X.shape)"
   ]
  },
  {
   "cell_type": "code",
   "execution_count": 8,
   "metadata": {
    "colab": {
     "base_uri": "https://localhost:8080/"
    },
    "id": "nKV-nZKJs7x0",
    "outputId": "f01ed46b-3379-455b-b89d-c507bd6c9451"
   },
   "outputs": [
    {
     "data": {
      "text/plain": [
       "(tensor([ 1388, 11012, 10093,  1700,  3990,   652, 14266,  9554, 19281,  6093,\n",
       "          9079, 12191,  3845, 21923, 17882, 22725, 13641, 22101,  4273,  3990,\n",
       "          9731,  1926, 22141, 14425, 21108,   652, 26598, 24663, 11012,  3480,\n",
       "          8071,  9731, 11187,  3702,  1388, 11012,  4109, 16321,  3845,  8364,\n",
       "          9926, 25725,  4109,  3990,   652, 15954, 14944,  1388, 11012,  3990,\n",
       "         15052, 16886, 24224,   652,  3480, 11057,  3480, 20533, 17548, 24224,\n",
       "         14298,  3480, 13357,  9926,   776,  5966,  8663,  5526, 14266, 18820,\n",
       "          9554, 21519,  1958,   516, 15052,  9500, 15954, 13357,  9926, 17697,\n",
       "         13338,  9554, 23515, 11818,  8071,  9444, 17882, 22725,  4019,  2939,\n",
       "         18868,  1388, 11012,  6910,   692,  9444, 21007, 15052,  9500, 24766,\n",
       "          9444, 19266,  9926, 17330, 21770, 12191,  3065, 11007, 14351, 11012,\n",
       "         12191, 24766,   652, 26598,   776,  5646,  9926, 25078, 24926, 11012,\n",
       "          1958, 21007, 15052,  9500, 12324,  9444,  8561, 20169,  3336,  3480,\n",
       "          4012, 15191,   692, 11012, 17882, 22725, 14912, 25078, 18363, 12191,\n",
       "          9444, 26598, 23720, 24568, 10053,  9444, 10093,  9926, 17882, 24926,\n",
       "         11012, 21007, 15052,  9500, 12324,  9444, 17006, 12005, 11012, 15191,\n",
       "           692,  9444, 26598, 17330,  9554, 10023, 22493, 12191, 14335,  8229,\n",
       "         21770, 24926, 11012, 22983, 10534,   652, 12324,  9444, 11595,  9926,\n",
       "         13641,  8663, 22101,  2462,  8071,  9444, 23344,  2939, 21519, 22983,\n",
       "          5191, 25078, 11818, 12324,  9444, 10304,  4109,  1388]),\n",
       " tensor(-0.5144))"
      ]
     },
     "execution_count": 8,
     "metadata": {},
     "output_type": "execute_result"
    }
   ],
   "source": [
    "from math import floor\n",
    "#Utility function to get a random sample\n",
    "def randomTrainingExample():\n",
    "    i = np.random.randint(0, training_X.shape[0])\n",
    "    excerpt_tensor = lineToTensor(training_X[i])\n",
    "    target_tensor = torch.tensor(training_Y[i], dtype=torch.float)\n",
    "    return excerpt_tensor, target_tensor\n",
    "\n",
    "randomTrainingExample()"
   ]
  },
  {
   "cell_type": "code",
   "execution_count": 9,
   "metadata": {
    "id": "TxgzMVEws7x0"
   },
   "outputs": [],
   "source": [
    "class CommonLitDataset(Dataset):\n",
    "    # X: numpy matrix (n_samples, 1, excerpt_length,)\n",
    "    def __init__(self, X, Y, lengths):\n",
    "        self.X = X\n",
    "        self.Y = Y\n",
    "        self.lengths = lengths\n",
    "\n",
    "    def __len__(self):\n",
    "        return self.X.shape[0]\n",
    "\n",
    "    def __getitem__(self, idx):\n",
    "        return (torch.tensor(self.X[idx][0]).long(), self.lengths[idx]), torch.tensor(self.Y[idx]).float()"
   ]
  },
  {
   "cell_type": "code",
   "execution_count": 21,
   "metadata": {
    "id": "jLjCYgNls7x0"
   },
   "outputs": [],
   "source": [
    "# Define the model\n",
    "\n",
    "class LSTM(nn.Module):\n",
    "    def __init__(self, hidden_dim, embedding_dim, vocab_size):\n",
    "        super(LSTM, self).__init__()\n",
    "        self.hidden_dim = hidden_dim\n",
    "        self.embeddings = nn.Embedding(vocab_size, embedding_dim, padding_idx=0)\n",
    "        self.lstm = nn.LSTM(embedding_dim, hidden_dim, batch_first=True)\n",
    "        self.linear = nn.Linear(hidden_dim, 1)\n",
    "        self.dropout = nn.Dropout(0.4)\n",
    "\n",
    "    def forward(self, x, sequence_length):\n",
    "        x = self.embeddings(x)\n",
    "        x = self.dropout(x)\n",
    "        x_pack = pack_padded_sequence(x, sequence_length, batch_first=True, enforce_sorted=False)\n",
    "        lstm_out, (ht, ct) = self.lstm(x_pack)\n",
    "        return self.linear(ht[-1])\n",
    "\n",
    "    def initHidden(self, batch_size):\n",
    "        return (torch.zeros(1, batch_size, self.hidden_dim), torch.zeros(1, batch_size, self.hidden_dim))\n"
   ]
  },
  {
   "cell_type": "code",
   "execution_count": 11,
   "metadata": {
    "id": "lbzD09zHqmfF"
   },
   "outputs": [],
   "source": [
    "def compute_mse(model, generator):\n",
    "    model.eval()\n",
    "    mse = 0.0\n",
    "    error = nn.MSELoss(reduction='sum')\n",
    "    n = 0\n",
    "    for (x, seq_len), y in generator:\n",
    "        x, targets_batch = x.to(device), y.to(device)\n",
    "\n",
    "        batch_size = x.shape[0]\n",
    "        n += batch_size\n",
    "\n",
    "        output = lstm(x, seq_len)\n",
    "\n",
    "        targets_batch = torch.reshape(targets_batch, (batch_size, 1))\n",
    "\n",
    "        loss = error(output, targets_batch)\n",
    "        mse += loss.item()\n",
    "    return mse / n"
   ]
  },
  {
   "cell_type": "code",
   "execution_count": 56,
   "metadata": {
    "colab": {
     "base_uri": "https://localhost:8080/",
     "height": 405
    },
    "id": "WNTcVkpes7x2",
    "outputId": "ae8dbb8c-cb70-41c1-a920-b5b9aec0b41c"
   },
   "outputs": [
    {
     "name": "stdout",
     "output_type": "stream",
     "text": [
      "Iteration 10 | 10% (0m 36s) MSE = 0.1340 Val MSE = 0.9964\n",
      "Iteration 20 | 20% (1m 15s) MSE = 0.0699 Val MSE = 1.0030\n",
      "Iteration 30 | 30% (1m 55s) MSE = 0.0531 Val MSE = 0.9455\n",
      "Iteration 40 | 40% (2m 34s) MSE = 0.0386 Val MSE = 0.8386\n",
      "Iteration 50 | 50% (3m 13s) MSE = 0.0291 Val MSE = 0.8159\n",
      "Iteration 60 | 60% (3m 52s) MSE = 0.0258 Val MSE = 0.8093\n",
      "Iteration 70 | 70% (4m 33s) MSE = 0.0202 Val MSE = 0.7874\n",
      "Iteration 80 | 80% (5m 11s) MSE = 0.0194 Val MSE = 0.7760\n",
      "Iteration 90 | 90% (5m 50s) MSE = 0.0153 Val MSE = 0.7653\n",
      "Iteration 100 | 100% (6m 28s) MSE = 0.0146 Val MSE = 0.7324\n"
     ]
    }
   ],
   "source": [
    "import time\n",
    "from math import floor, inf\n",
    "\n",
    "# Keep track of losses for plotting\n",
    "current_loss = 0\n",
    "all_losses = []\n",
    "\n",
    "def timeSince(since):\n",
    "    now = time.time()\n",
    "    s = now - since\n",
    "    m = floor(s / 60)\n",
    "    s -= m * 60\n",
    "    return '%dm %ds' % (m, s)\n",
    "\n",
    "start = time.time()\n",
    "print_every = 10\n",
    "plot_every = 1\n",
    "\n",
    "\n",
    "\n",
    "BATCH_SIZE = 16     # batch = 16\n",
    "hidden_dim = 256    # 256\n",
    "embedding_dim = 256 # 256\n",
    "epochs = 150         # 100\n",
    "lr = 0.001          # 0.001\n",
    "weight_decay = 1e-7 # 1e-7\n",
    "\n",
    "# test_error = 0.829\n",
    "\n",
    "lstm = LSTM(hidden_dim, embedding_dim, vocab_size=len(vocabulary)).to(device)\n",
    "\n",
    "criterion = nn.MSELoss()\n",
    "\n",
    "parameters = filter(lambda p: p.requires_grad, lstm.parameters())\n",
    "optimizer = torch.optim.Adam(parameters, lr=lr, weight_decay=weight_decay)\n",
    "\n",
    "params = {'batch_size': BATCH_SIZE,\n",
    "          'shuffle': True,\n",
    "          'num_workers': 0}\n",
    "\n",
    "commonlit_dataset1 = CommonLitDataset(enc_training_X[400:], training_Y[400:], training_lengths[400:])\n",
    "training_generator = torch.utils.data.DataLoader(commonlit_dataset1, **params)\n",
    "\n",
    "commonlit_dataset2 = CommonLitDataset(enc_training_X[:400], training_Y[:400], training_lengths[:400])\n",
    "validation_generator = torch.utils.data.DataLoader(commonlit_dataset2, **params)\n",
    "\n",
    "# Early stopping logic\n",
    "val_losses = []\n",
    "best_val_error = inf\n",
    "best_val_epoch = 0\n",
    "\n",
    "for iter in range(1, epochs + 1):\n",
    "    total = 0\n",
    "    current_loss = 0.0\n",
    "    lstm.train()\n",
    "    for (x, seq_len), y in training_generator:\n",
    "        x, y = x.to(device), y.to(device)\n",
    "        optimizer.zero_grad()\n",
    "        y_pred = lstm(x, seq_len)\n",
    "\n",
    "        loss = criterion(y_pred, y.unsqueeze(-1))\n",
    "        loss.backward()\n",
    "        optimizer.step()\n",
    "        current_loss += loss.item()*y.shape[0]\n",
    "        total += y.shape[0]\n",
    "\n",
    "    # Mean squared error\n",
    "    current_loss /= total\n",
    "\n",
    "    current_val_error = compute_mse(lstm, validation_generator)\n",
    "    val_losses.append(current_val_error)\n",
    "    if current_val_error < best_val_error:\n",
    "        best_val_error = current_val_error\n",
    "        best_val_epoch = iter\n",
    "        # TODO: Implement patience\n",
    "\n",
    "    # Print iter number, loss\n",
    "    if iter % print_every == 0:\n",
    "        print('Iteration %d | %d%% (%s) MSE = %.4f Val MSE = %.4f' % (iter, iter / epochs * 100, timeSince(start), current_loss, current_val_error))\n",
    "\n",
    "    # Add current loss avg to list of losses\n",
    "    if iter % plot_every == 0:\n",
    "        all_losses.append(current_loss / plot_every)\n",
    "        current_loss = 0"
   ]
  },
  {
   "cell_type": "code",
   "execution_count": 57,
   "metadata": {
    "colab": {
     "base_uri": "https://localhost:8080/",
     "height": 284
    },
    "id": "7CE1fwNJs7x2",
    "outputId": "ed06d4ca-964a-4f68-824c-424a0977ec34"
   },
   "outputs": [
    {
     "data": {
      "text/plain": [
       "<matplotlib.legend.Legend at 0x1e27df8bb20>"
      ]
     },
     "execution_count": 57,
     "metadata": {},
     "output_type": "execute_result"
    },
    {
     "data": {
      "image/png": "[encoded data removed]",
      "text/plain": [
       "<Figure size 432x288 with 1 Axes>"
      ]
     },
     "metadata": {
      "needs_background": "light"
     },
     "output_type": "display_data"
    }
   ],
   "source": [
    "# Plot the learning curve\n",
    "plt.figure()\n",
    "plt.plot(all_losses, label='Training error')\n",
    "plt.plot(val_losses, label='Val Error')\n",
    "plt.legend()"
   ]
  },
  {
   "cell_type": "markdown",
   "metadata": {
    "id": "NP1AJH_32H1V"
   },
   "source": [
    "## Retrain the model on the full train dataset"
   ]
  },
  {
   "cell_type": "code",
   "execution_count": 58,
   "metadata": {
    "colab": {
     "base_uri": "https://localhost:8080/"
    },
    "id": "7lCC0Tlv2Hld",
    "outputId": "edac9939-f5d4-4f1a-a098-2c5592ae25bc"
   },
   "outputs": [
    {
     "name": "stdout",
     "output_type": "stream",
     "text": [
      "Iteration 10 | 10% (0m 32s) MSE = 0.1301\n",
      "Iteration 20 | 20% (1m 6s) MSE = 0.0657\n",
      "Iteration 30 | 30% (1m 38s) MSE = 0.0531\n",
      "Iteration 40 | 40% (2m 10s) MSE = 0.0389\n",
      "Iteration 50 | 50% (2m 45s) MSE = 0.0342\n",
      "Iteration 60 | 60% (3m 21s) MSE = 0.0279\n",
      "Iteration 70 | 70% (3m 56s) MSE = 0.0227\n",
      "Iteration 80 | 80% (4m 31s) MSE = 0.0188\n",
      "Iteration 90 | 90% (5m 6s) MSE = 0.0197\n",
      "Iteration 100 | 100% (5m 42s) MSE = 0.0161\n"
     ]
    }
   ],
   "source": [
    "params = {'batch_size': BATCH_SIZE,\n",
    "          'shuffle': True,\n",
    "          'num_workers': 0}\n",
    "\n",
    "commonlit_dataset3 = CommonLitDataset(enc_full_training_X, full_training_Y, full_training_lengths)\n",
    "full_training_generator = torch.utils.data.DataLoader(commonlit_dataset3, **params)\n",
    "\n",
    "final_model = LSTM(hidden_dim, embedding_dim, vocab_size=len(vocabulary)).to(device)\n",
    "\n",
    "epochs = best_val_epoch\n",
    "\n",
    "criterion = nn.MSELoss()\n",
    "\n",
    "all_losses = []\n",
    "\n",
    "start = time.time()\n",
    "\n",
    "parameters = filter(lambda p: p.requires_grad, final_model.parameters())\n",
    "optimizer = torch.optim.Adam(parameters, lr=lr)\n",
    "\n",
    "for iter in range(1, epochs + 1):\n",
    "    total = 0\n",
    "    current_loss = 0.0\n",
    "    final_model.train()\n",
    "    for (x, seq_len), y in training_generator: # TODO: Change in full_training_generator (to include the test data)\n",
    "        x, y = x.to(device), y.to(device)\n",
    "        optimizer.zero_grad()\n",
    "        y_pred = final_model(x, seq_len)\n",
    "\n",
    "        loss = criterion(y_pred, y.unsqueeze(-1))\n",
    "        loss.backward()\n",
    "        optimizer.step()\n",
    "        current_loss += loss.item()*y.shape[0]\n",
    "        total += y.shape[0]\n",
    "\n",
    "    # Mean squared error\n",
    "    current_loss /= total\n",
    "\n",
    "    # Print iter number, loss\n",
    "    if iter % print_every == 0:\n",
    "        print('Iteration %d | %d%% (%s) MSE = %.4f' % (iter, iter / epochs * 100, timeSince(start), current_loss))\n",
    "\n",
    "    # Add current loss avg to list of losses\n",
    "    if iter % plot_every == 0:\n",
    "        all_losses.append(current_loss / plot_every)\n",
    "        current_loss = 0"
   ]
  },
  {
   "cell_type": "code",
   "execution_count": 59,
   "metadata": {
    "colab": {
     "base_uri": "https://localhost:8080/",
     "height": 284
    },
    "id": "2Ek2Bi2P8cDS",
    "outputId": "a43431f2-2dd3-4ed6-ec92-5a558563f0bd"
   },
   "outputs": [
    {
     "data": {
      "text/plain": [
       "<matplotlib.legend.Legend at 0x1e27d73dca0>"
      ]
     },
     "execution_count": 59,
     "metadata": {},
     "output_type": "execute_result"
    },
    {
     "data": {
      "image/png": "[encoded data removed]",
      "text/plain": [
       "<Figure size 432x288 with 1 Axes>"
      ]
     },
     "metadata": {
      "needs_background": "light"
     },
     "output_type": "display_data"
    }
   ],
   "source": [
    "# Plot the learning curve\n",
    "plt.figure()\n",
    "plt.plot(all_losses, label='Training error')\n",
    "plt.legend()"
   ]
  },
  {
   "cell_type": "markdown",
   "metadata": {
    "id": "s1eFoTOT6Ajx"
   },
   "source": [
    "## Evaluate the model"
   ]
  },
  {
   "cell_type": "code",
   "execution_count": 60,
   "metadata": {
    "id": "b3odVoUa5rXI"
   },
   "outputs": [],
   "source": [
    "test_params = {'batch_size': 64,\n",
    "          'shuffle': False,\n",
    "          'num_workers': 0}\n",
    "\n",
    "internal_test_dataset = CommonLitDataset(enc_test_X, test_Y, test_lengths)\n",
    "test_generator = torch.utils.data.DataLoader(internal_test_dataset, **test_params)\n",
    "\n",
    "\n",
    "blind_test_params = {'batch_size': 1,\n",
    "          'shuffle': False,\n",
    "          'num_workers': 0}\n",
    "\n",
    "blind_test_dataset = CommonLitDataset(enc_blind_test_X, np.zeros(enc_blind_test_X.shape), blind_test_lengths)\n",
    "blind_test_generator = torch.utils.data.DataLoader(blind_test_dataset, **blind_test_params)"
   ]
  },
  {
   "cell_type": "code",
   "execution_count": 61,
   "metadata": {
    "colab": {
     "base_uri": "https://localhost:8080/"
    },
    "id": "WSz_-_y_s7x3",
    "outputId": "ca8edadf-a0cc-4620-a1c7-00c9de1c2822"
   },
   "outputs": [
    {
     "name": "stdout",
     "output_type": "stream",
     "text": [
      "Training RMSE = 0.11486371621159631\n",
      "Internal TEST RMSE = 0.829654770545024\n"
     ]
    }
   ],
   "source": [
    "# Compute the final MSE on the training set\n",
    "def compute_squared_error(generator):\n",
    "    error = nn.MSELoss(reduction='sum')\n",
    "    with torch.no_grad():\n",
    "        mse = 0.0\n",
    "        for (x, seq_len), targets_batch in generator:\n",
    "            x, targets_batch = x.to(device), targets_batch.to(device)\n",
    "\n",
    "            batch_size = x.shape[0]\n",
    "\n",
    "            output = final_model(x, seq_len)\n",
    "\n",
    "            targets_batch = torch.reshape(targets_batch, (batch_size, 1))\n",
    "\n",
    "            loss = error(output, targets_batch)\n",
    "            mse += loss.item()\n",
    "    return mse\n",
    "print('Training RMSE =', np.sqrt(compute_squared_error(training_generator) / enc_training_X.shape[0]))\n",
    "# A bit useless since we train also on this data\n",
    "print('Internal TEST RMSE =', np.sqrt(compute_squared_error(test_generator) / enc_test_X.shape[0]))\n",
    "    "
   ]
  },
  {
   "cell_type": "markdown",
   "metadata": {
    "id": "nGPYFMTABCmK"
   },
   "source": [
    "# Compute blind test set outputs"
   ]
  },
  {
   "cell_type": "code",
   "execution_count": 28,
   "metadata": {
    "colab": {
     "base_uri": "https://localhost:8080/"
    },
    "id": "7wnMzcZvCl8Z",
    "outputId": "d4a98b41-9fe1-493c-b32c-5a5f509ffb36"
   },
   "outputs": [
    {
     "name": "stdout",
     "output_type": "stream",
     "text": [
      "c0f722661 -1.0180059671401978\n",
      "f0953f0a5 -1.0058928728103638\n",
      "0df072751 -0.4917626976966858\n",
      "04caf4e0c -1.1692789793014526\n",
      "0e63f8bea -0.9193040728569031\n",
      "12537fe78 -0.35978007316589355\n",
      "965e592c0 -0.24307191371917725\n"
     ]
    }
   ],
   "source": [
    "outputs = []\n",
    "with torch.no_grad():\n",
    "    for i, ((x, seq_len), targets_batch) in enumerate(blind_test_generator):\n",
    "        excerpts_batch = x.to(device)\n",
    "\n",
    "        batch_size = excerpts_batch.shape[0]\n",
    "\n",
    "        output = final_model(excerpts_batch, seq_len)\n",
    "        id = blind_test[i, 0]\n",
    "        print(id, output.item())\n",
    "        outputs.append((id, output.item()))\n",
    "\n",
    "# Save outputs to submission.csv\n",
    "if False:\n",
    "    with open('submission.csv', 'w') as f:\n",
    "        f.write('id,target\\n')\n",
    "        for id, o in outputs:\n",
    "            f.write(id+','+o+'\\n')"
   ]
  },
  {
   "cell_type": "markdown",
   "metadata": {
    "id": "RP4t2r6es7x4"
   },
   "source": [
    " NEXT:\n",
    "\n",
    "https://pytorch.org/tutorials/beginner/basics/data_tutorial.html\n",
    " \n",
    " \n",
    " \n",
    "    Try the nn.LSTM and nn.GRU layers\n",
    "    Combine multiple of these RNNs as a higher level network\n"
   ]
  },
  {
   "cell_type": "code",
   "execution_count": null,
   "metadata": {
    "id": "wt08ZXlQ5gvI"
   },
   "outputs": [],
   "source": []
  }
 ],
 "metadata": {
  "accelerator": "GPU",
  "colab": {
   "collapsed_sections": [],
   "name": "embedding-LSTM.ipynb",
   "provenance": []
  },
  "kernelspec": {
   "display_name": "Python 3 (ipykernel)",
   "language": "python",
   "name": "python3"
  },
  "language_info": {
   "codemirror_mode": {
    "name": "ipython",
    "version": 3
   },
   "file_extension": ".py",
   "mimetype": "text/x-python",
   "name": "python",
   "nbconvert_exporter": "python",
   "pygments_lexer": "ipython3",
   "version": "3.8.10"
  }
 },
 "nbformat": 4,
 "nbformat_minor": 4
}
