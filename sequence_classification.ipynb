{
  "nbformat": 4,
  "nbformat_minor": 0,
  "metadata": {
    "colab": {
      "name": "sequence_classification.ipynb",
      "provenance": [],
      "collapsed_sections": []
    },
    "kernelspec": {
      "name": "python3",
      "display_name": "Python 3"
    },
    "language_info": {
      "name": "python"
    },
    "accelerator": "GPU"
  },
  "cells": [
    {
      "cell_type": "markdown",
      "metadata": {
        "id": "9ZwmaJep4Wys"
      },
      "source": [
        "In this notebook, we use `SequenceClassification` class provided by Transformers. It's a Transformer model with a linear layer on top, so each excerpt is represented by an embedding which is fed into the linear layer to produce the score. Three Transformers models are used: BERT (uncased), RoBERTa, and DistilBERT (uncased)."
      ]
    },
    {
      "cell_type": "code",
      "metadata": {
        "id": "DYpiqnEZOl0G"
      },
      "source": [
        "!pip install transformers"
      ],
      "execution_count": null,
      "outputs": []
    },
    {
      "cell_type": "code",
      "metadata": {
        "id": "toJfj0PyOvID"
      },
      "source": [
        "import matplotlib.pyplot as plt\n",
        "import numpy as np\n",
        "import pandas as pd\n",
        "import torch\n",
        "\n",
        "from sklearn.metrics import mean_squared_error\n",
        "from sklearn.model_selection import KFold\n",
        "from torch.utils.data import Dataset, DataLoader\n",
        "from transformers import (AutoTokenizer, AutoModelForSequenceClassification, AdamW,\n",
        "                          get_linear_schedule_with_warmup, set_seed)"
      ],
      "execution_count": null,
      "outputs": []
    },
    {
      "cell_type": "code",
      "metadata": {
        "id": "7AGf9D8qOzTE"
      },
      "source": [
        "train_data = pd.read_csv('train.csv')  # 2834 rows, 6 cols\n",
        "test_data  = pd.read_csv('test.csv')   #    7 rows, 4 cols"
      ],
      "execution_count": null,
      "outputs": []
    },
    {
      "cell_type": "code",
      "metadata": {
        "id": "_7XD8FZdOyn1",
        "colab": {
          "base_uri": "https://localhost:8080/"
        },
        "outputId": "99614aa0-83e5-46be-9f72-18c6f35f3c01"
      },
      "source": [
        "model_path_dict = {\n",
        "    'bert'   : 'bert-base-uncased',\n",
        "    'roberta': 'roberta-base',\n",
        "    'distil' : 'distilbert-base-uncased'\n",
        "}\n",
        "n_epoch = 20\n",
        "n_folds = 3\n",
        "seq_len = 256\n",
        "batch_size = 32\n",
        "\n",
        "set_seed(0)\n",
        "\n",
        "device = torch.device(\"cuda\" if torch.cuda.is_available() else \"cpu\")\n",
        "print(f\"{device} is used\")"
      ],
      "execution_count": null,
      "outputs": [
        {
          "output_type": "stream",
          "text": [
            "cuda is used\n"
          ],
          "name": "stdout"
        }
      ]
    },
    {
      "cell_type": "code",
      "metadata": {
        "id": "o-OA9cNmU46J"
      },
      "source": [
        "class loader(Dataset):\n",
        "    def __init__(self, tokens, labels=None):\n",
        "        self.tokens = tokens\n",
        "        self.labels = labels\n",
        "\n",
        "    def __getitem__(self, idx):\n",
        "        item = {key: torch.tensor(val[idx]) for key, val in self.tokens.items()}\n",
        "        if self.labels is not None:\n",
        "            item['labels'] = torch.tensor(self.labels[idx], dtype=torch.float)\n",
        "        return item\n",
        "\n",
        "    def __len__(self):\n",
        "        if self.labels is not None:\n",
        "            return len(self.labels)\n",
        "        return len(self.tokens['input_ids'])"
      ],
      "execution_count": null,
      "outputs": []
    },
    {
      "cell_type": "code",
      "metadata": {
        "id": "qdqv4zh7YAYH"
      },
      "source": [
        "def train(model, optimizer, scheduler, train_loader, device):\n",
        "    total_train_loss = 0\n",
        "    model.train() # put to train mode\n",
        "    for batch in train_loader:\n",
        "        print(\".\", end=\"\", flush=True)\n",
        "        optimizer.zero_grad()\n",
        "        outputs = model(batch['input_ids'].to(device),\n",
        "                        attention_mask=batch['attention_mask'].to(device),\n",
        "                        labels=batch['labels'].to(device))\n",
        "        loss = outputs[0]\n",
        "        total_train_loss += loss.item()\n",
        "        loss.backward()\n",
        "        optimizer.step()\n",
        "        scheduler.step() # update learning rate\n",
        "    avg_train_loss = total_train_loss / len(train_loader)\n",
        "    return avg_train_loss"
      ],
      "execution_count": null,
      "outputs": []
    },
    {
      "cell_type": "code",
      "metadata": {
        "id": "j4o2PkOBYBXm"
      },
      "source": [
        "def evaluate(model, val_loader, device):\n",
        "    total_val_loss = 0\n",
        "    model.eval() # put to eval mode\n",
        "    for step, batch in enumerate(val_loader):\n",
        "        with torch.no_grad():\n",
        "            outputs = model(batch['input_ids'].to(device),\n",
        "                            attention_mask=batch['attention_mask'].to(device),\n",
        "                            labels=batch['labels'].to(device))   \n",
        "            total_val_loss += outputs[0].item()\n",
        "    avg_val_loss = total_val_loss / len(val_loader)\n",
        "    return avg_val_loss"
      ],
      "execution_count": null,
      "outputs": []
    },
    {
      "cell_type": "code",
      "metadata": {
        "id": "S3XK4_5Z7QOl"
      },
      "source": [
        "def predict(model, test_loader, device):\n",
        "    y_preds = []\n",
        "    for batch in test_loader:\n",
        "        with torch.no_grad():\n",
        "            outputs = model(batch['input_ids'].to(device),\n",
        "                            attention_mask=batch['attention_mask'].to(device))   \n",
        "            preds = outputs[0].detach().cpu().numpy()\n",
        "            y_preds.append(preds)\n",
        "    return np.concatenate(y_preds).ravel()"
      ],
      "execution_count": null,
      "outputs": []
    },
    {
      "cell_type": "markdown",
      "metadata": {
        "id": "sDIkHEOZ5X7R"
      },
      "source": [
        "Train the 3 models with k-fold cross validation (k = 3) to see the performance."
      ]
    },
    {
      "cell_type": "code",
      "metadata": {
        "id": "Yc3M50UfWnnn",
        "colab": {
          "base_uri": "https://localhost:8080/"
        },
        "outputId": "1fdc6fd4-7eea-4928-802f-9b6fc90b46e7"
      },
      "source": [
        "all_loss = {}\n",
        "\n",
        "for model_name, model_path in model_path_dict.items():\n",
        "    print('\\n' + model_name)\n",
        "\n",
        "    skf = KFold(n_splits=n_folds, shuffle=True, random_state=0)\n",
        "    model_loss = np.zeros((n_folds, n_epoch, 2))\n",
        "\n",
        "    for fold, (idxT, idxV) in enumerate(skf.split(train_data)):\n",
        "        print(\"Fold:\", fold)\n",
        "\n",
        "        # Tokenize data\n",
        "        tokenizer = AutoTokenizer.from_pretrained(model_path)\n",
        "        train_tokens = tokenizer.batch_encode_plus(train_data['excerpt'][idxT].tolist(),\n",
        "                                                   max_length=seq_len, padding='longest', truncation=True)\n",
        "        val_tokens = tokenizer.batch_encode_plus(train_data['excerpt'][idxV].tolist(),\n",
        "                                                 max_length=seq_len, padding='longest', truncation=True)\n",
        "\n",
        "        # Create data loader\n",
        "        train_loader = DataLoader(loader(train_tokens, train_data['target'][idxT].values),\n",
        "                                  batch_size=batch_size, shuffle=True)\n",
        "        val_loader = DataLoader(loader(val_tokens, train_data['target'][idxV].values),\n",
        "                                batch_size=batch_size, shuffle=True)\n",
        "\n",
        "        # Build model\n",
        "        model = AutoModelForSequenceClassification.from_pretrained(model_path, num_labels=1)\n",
        "        model.to(device)\n",
        "        optimizer = AdamW(model.parameters(), lr=5e-5)\n",
        "        scheduler = get_linear_schedule_with_warmup(optimizer, num_warmup_steps = 0,\n",
        "                                                    num_training_steps = len(train_loader) * n_epoch)\n",
        "\n",
        "        # Train model\n",
        "        for epoch in range(n_epoch):\n",
        "            avg_train_loss = train(model, optimizer, scheduler, train_loader, device)\n",
        "            avg_val_loss = evaluate(model, val_loader, device)\n",
        "\n",
        "            model_loss[fold][epoch][0] = avg_train_loss\n",
        "            model_loss[fold][epoch][1] = avg_val_loss\n",
        "            print(\"\\ntrain_loss: %.5f - val_loss: %.5f\"%(avg_train_loss, avg_val_loss))\n",
        "  \n",
        "    all_loss[model_name] = model_loss"
      ],
      "execution_count": null,
      "outputs": [
        {
          "output_type": "stream",
          "text": [
            "\n",
            "bert\n",
            "Fold: 0\n"
          ],
          "name": "stdout"
        },
        {
          "output_type": "stream",
          "text": [
            "Some weights of the model checkpoint at bert-base-uncased were not used when initializing BertForSequenceClassification: ['cls.seq_relationship.bias', 'cls.predictions.bias', 'cls.seq_relationship.weight', 'cls.predictions.decoder.weight', 'cls.predictions.transform.LayerNorm.weight', 'cls.predictions.transform.dense.weight', 'cls.predictions.transform.dense.bias', 'cls.predictions.transform.LayerNorm.bias']\n",
            "- This IS expected if you are initializing BertForSequenceClassification from the checkpoint of a model trained on another task or with another architecture (e.g. initializing a BertForSequenceClassification model from a BertForPreTraining model).\n",
            "- This IS NOT expected if you are initializing BertForSequenceClassification from the checkpoint of a model that you expect to be exactly identical (initializing a BertForSequenceClassification model from a BertForSequenceClassification model).\n",
            "Some weights of BertForSequenceClassification were not initialized from the model checkpoint at bert-base-uncased and are newly initialized: ['classifier.weight', 'classifier.bias']\n",
            "You should probably TRAIN this model on a down-stream task to be able to use it for predictions and inference.\n"
          ],
          "name": "stderr"
        },
        {
          "output_type": "stream",
          "text": [
            "............................................................\n",
            "train_loss: 0.54305 - val_loss: 0.35174\n",
            "............................................................\n",
            "train_loss: 0.22929 - val_loss: 0.40365\n",
            "............................................................\n",
            "train_loss: 0.12348 - val_loss: 0.27598\n",
            "............................................................\n",
            "train_loss: 0.07585 - val_loss: 0.55073\n",
            "............................................................\n",
            "train_loss: 0.05766 - val_loss: 0.29998\n",
            "............................................................\n",
            "train_loss: 0.04215 - val_loss: 0.34539\n",
            "............................................................\n",
            "train_loss: 0.03226 - val_loss: 0.29580\n",
            "............................................................\n",
            "train_loss: 0.02999 - val_loss: 0.56458\n",
            "............................................................\n",
            "train_loss: 0.03602 - val_loss: 0.44495\n",
            "............................................................\n",
            "train_loss: 0.03115 - val_loss: 0.34846\n",
            "............................................................\n",
            "train_loss: 0.02020 - val_loss: 0.33403\n",
            "............................................................\n",
            "train_loss: 0.01708 - val_loss: 0.33610\n",
            "............................................................\n",
            "train_loss: 0.01387 - val_loss: 0.34828\n",
            "............................................................\n",
            "train_loss: 0.01317 - val_loss: 0.30327\n",
            "............................................................\n",
            "train_loss: 0.01718 - val_loss: 0.35184\n",
            "............................................................\n",
            "train_loss: 0.01346 - val_loss: 0.36942\n",
            "............................................................\n",
            "train_loss: 0.01168 - val_loss: 0.30964\n",
            "............................................................\n",
            "train_loss: 0.01174 - val_loss: 0.36526\n",
            "............................................................\n",
            "train_loss: 0.01009 - val_loss: 0.33185\n",
            "............................................................\n",
            "train_loss: 0.00930 - val_loss: 0.35306\n",
            "Fold: 1\n"
          ],
          "name": "stdout"
        },
        {
          "output_type": "stream",
          "text": [
            "Some weights of the model checkpoint at bert-base-uncased were not used when initializing BertForSequenceClassification: ['cls.seq_relationship.bias', 'cls.predictions.bias', 'cls.seq_relationship.weight', 'cls.predictions.decoder.weight', 'cls.predictions.transform.LayerNorm.weight', 'cls.predictions.transform.dense.weight', 'cls.predictions.transform.dense.bias', 'cls.predictions.transform.LayerNorm.bias']\n",
            "- This IS expected if you are initializing BertForSequenceClassification from the checkpoint of a model trained on another task or with another architecture (e.g. initializing a BertForSequenceClassification model from a BertForPreTraining model).\n",
            "- This IS NOT expected if you are initializing BertForSequenceClassification from the checkpoint of a model that you expect to be exactly identical (initializing a BertForSequenceClassification model from a BertForSequenceClassification model).\n",
            "Some weights of BertForSequenceClassification were not initialized from the model checkpoint at bert-base-uncased and are newly initialized: ['classifier.weight', 'classifier.bias']\n",
            "You should probably TRAIN this model on a down-stream task to be able to use it for predictions and inference.\n"
          ],
          "name": "stderr"
        },
        {
          "output_type": "stream",
          "text": [
            "............................................................\n",
            "train_loss: 0.58771 - val_loss: 0.47701\n",
            "............................................................\n",
            "train_loss: 0.25110 - val_loss: 0.67559\n",
            "............................................................\n",
            "train_loss: 0.16741 - val_loss: 0.31752\n",
            "............................................................\n",
            "train_loss: 0.09144 - val_loss: 0.33459\n",
            "............................................................\n",
            "train_loss: 0.06783 - val_loss: 0.55680\n",
            "............................................................\n",
            "train_loss: 0.05298 - val_loss: 0.27311\n",
            "............................................................\n",
            "train_loss: 0.03572 - val_loss: 0.43075\n",
            "............................................................\n",
            "train_loss: 0.03549 - val_loss: 0.28461\n",
            "............................................................\n",
            "train_loss: 0.03255 - val_loss: 0.33458\n",
            "............................................................\n",
            "train_loss: 0.02401 - val_loss: 0.30367\n",
            "............................................................\n",
            "train_loss: 0.01840 - val_loss: 0.34559\n",
            "............................................................\n",
            "train_loss: 0.01651 - val_loss: 0.31171\n",
            "............................................................\n",
            "train_loss: 0.01495 - val_loss: 0.38160\n",
            "............................................................\n",
            "train_loss: 0.01283 - val_loss: 0.32044\n",
            "............................................................\n",
            "train_loss: 0.01365 - val_loss: 0.33306\n",
            "............................................................\n",
            "train_loss: 0.01397 - val_loss: 0.31941\n",
            "............................................................\n",
            "train_loss: 0.01272 - val_loss: 0.33781\n",
            "............................................................\n",
            "train_loss: 0.01088 - val_loss: 0.31528\n",
            "............................................................\n",
            "train_loss: 0.01097 - val_loss: 0.31810\n",
            "............................................................\n",
            "train_loss: 0.00925 - val_loss: 0.32528\n",
            "Fold: 2\n"
          ],
          "name": "stdout"
        },
        {
          "output_type": "stream",
          "text": [
            "Some weights of the model checkpoint at bert-base-uncased were not used when initializing BertForSequenceClassification: ['cls.seq_relationship.bias', 'cls.predictions.bias', 'cls.seq_relationship.weight', 'cls.predictions.decoder.weight', 'cls.predictions.transform.LayerNorm.weight', 'cls.predictions.transform.dense.weight', 'cls.predictions.transform.dense.bias', 'cls.predictions.transform.LayerNorm.bias']\n",
            "- This IS expected if you are initializing BertForSequenceClassification from the checkpoint of a model trained on another task or with another architecture (e.g. initializing a BertForSequenceClassification model from a BertForPreTraining model).\n",
            "- This IS NOT expected if you are initializing BertForSequenceClassification from the checkpoint of a model that you expect to be exactly identical (initializing a BertForSequenceClassification model from a BertForSequenceClassification model).\n",
            "Some weights of BertForSequenceClassification were not initialized from the model checkpoint at bert-base-uncased and are newly initialized: ['classifier.weight', 'classifier.bias']\n",
            "You should probably TRAIN this model on a down-stream task to be able to use it for predictions and inference.\n"
          ],
          "name": "stderr"
        },
        {
          "output_type": "stream",
          "text": [
            "............................................................\n",
            "train_loss: 0.68641 - val_loss: 0.65892\n",
            "............................................................\n",
            "train_loss: 0.30658 - val_loss: 0.34420\n",
            "............................................................\n",
            "train_loss: 0.15908 - val_loss: 0.73500\n",
            "............................................................\n",
            "train_loss: 0.11009 - val_loss: 0.35725\n",
            "............................................................\n",
            "train_loss: 0.06026 - val_loss: 0.31914\n",
            "............................................................\n",
            "train_loss: 0.05338 - val_loss: 0.40079\n",
            "............................................................\n",
            "train_loss: 0.03785 - val_loss: 0.29846\n",
            "............................................................\n",
            "train_loss: 0.03064 - val_loss: 0.32452\n",
            "............................................................\n",
            "train_loss: 0.02084 - val_loss: 0.38029\n",
            "............................................................\n",
            "train_loss: 0.01795 - val_loss: 0.30950\n",
            "............................................................\n",
            "train_loss: 0.01626 - val_loss: 0.31802\n",
            "............................................................\n",
            "train_loss: 0.01580 - val_loss: 0.37017\n",
            "............................................................\n",
            "train_loss: 0.01324 - val_loss: 0.32318\n",
            "............................................................\n",
            "train_loss: 0.01377 - val_loss: 0.36428\n",
            "............................................................\n",
            "train_loss: 0.01149 - val_loss: 0.34928\n",
            "............................................................\n",
            "train_loss: 0.01120 - val_loss: 0.32196\n",
            "............................................................\n",
            "train_loss: 0.01132 - val_loss: 0.31964\n",
            "............................................................\n",
            "train_loss: 0.00981 - val_loss: 0.35758\n",
            "............................................................\n",
            "train_loss: 0.00914 - val_loss: 0.34529\n",
            "............................................................\n",
            "train_loss: 0.00858 - val_loss: 0.34545\n",
            "\n",
            "roberta\n",
            "Fold: 0\n"
          ],
          "name": "stdout"
        },
        {
          "output_type": "stream",
          "text": [
            "Some weights of the model checkpoint at roberta-base were not used when initializing RobertaForSequenceClassification: ['roberta.pooler.dense.bias', 'lm_head.dense.weight', 'lm_head.bias', 'lm_head.layer_norm.bias', 'lm_head.decoder.weight', 'lm_head.layer_norm.weight', 'roberta.pooler.dense.weight', 'lm_head.dense.bias']\n",
            "- This IS expected if you are initializing RobertaForSequenceClassification from the checkpoint of a model trained on another task or with another architecture (e.g. initializing a BertForSequenceClassification model from a BertForPreTraining model).\n",
            "- This IS NOT expected if you are initializing RobertaForSequenceClassification from the checkpoint of a model that you expect to be exactly identical (initializing a BertForSequenceClassification model from a BertForSequenceClassification model).\n",
            "Some weights of RobertaForSequenceClassification were not initialized from the model checkpoint at roberta-base and are newly initialized: ['classifier.out_proj.bias', 'classifier.dense.bias', 'classifier.out_proj.weight', 'classifier.dense.weight']\n",
            "You should probably TRAIN this model on a down-stream task to be able to use it for predictions and inference.\n"
          ],
          "name": "stderr"
        },
        {
          "output_type": "stream",
          "text": [
            "............................................................\n",
            "train_loss: 0.85779 - val_loss: 0.41169\n",
            "............................................................\n",
            "train_loss: 0.38803 - val_loss: 0.31694\n",
            "............................................................\n",
            "train_loss: 0.22944 - val_loss: 0.27270\n",
            "............................................................\n",
            "train_loss: 0.15903 - val_loss: 0.35480\n",
            "............................................................\n",
            "train_loss: 0.09992 - val_loss: 0.38964\n",
            "............................................................\n",
            "train_loss: 0.06565 - val_loss: 0.75868\n",
            "............................................................\n",
            "train_loss: 0.06619 - val_loss: 0.26609\n",
            "............................................................\n",
            "train_loss: 0.05150 - val_loss: 0.52807\n",
            "............................................................\n",
            "train_loss: 0.03846 - val_loss: 0.38142\n",
            "............................................................\n",
            "train_loss: 0.02987 - val_loss: 0.37855\n",
            "............................................................\n",
            "train_loss: 0.02834 - val_loss: 0.37157\n",
            "............................................................\n",
            "train_loss: 0.02196 - val_loss: 0.32675\n",
            "............................................................\n",
            "train_loss: 0.02092 - val_loss: 0.31227\n",
            "............................................................\n",
            "train_loss: 0.02075 - val_loss: 0.33745\n",
            "............................................................\n",
            "train_loss: 0.01908 - val_loss: 0.35910\n",
            "............................................................\n",
            "train_loss: 0.01711 - val_loss: 0.33782\n",
            "............................................................\n",
            "train_loss: 0.01577 - val_loss: 0.36357\n",
            "............................................................\n",
            "train_loss: 0.01592 - val_loss: 0.33849\n",
            "............................................................\n",
            "train_loss: 0.01481 - val_loss: 0.35734\n",
            "............................................................\n",
            "train_loss: 0.01396 - val_loss: 0.35883\n",
            "Fold: 1\n"
          ],
          "name": "stdout"
        },
        {
          "output_type": "stream",
          "text": [
            "Some weights of the model checkpoint at roberta-base were not used when initializing RobertaForSequenceClassification: ['roberta.pooler.dense.bias', 'lm_head.dense.weight', 'lm_head.bias', 'lm_head.layer_norm.bias', 'lm_head.decoder.weight', 'lm_head.layer_norm.weight', 'roberta.pooler.dense.weight', 'lm_head.dense.bias']\n",
            "- This IS expected if you are initializing RobertaForSequenceClassification from the checkpoint of a model trained on another task or with another architecture (e.g. initializing a BertForSequenceClassification model from a BertForPreTraining model).\n",
            "- This IS NOT expected if you are initializing RobertaForSequenceClassification from the checkpoint of a model that you expect to be exactly identical (initializing a BertForSequenceClassification model from a BertForSequenceClassification model).\n",
            "Some weights of RobertaForSequenceClassification were not initialized from the model checkpoint at roberta-base and are newly initialized: ['classifier.out_proj.bias', 'classifier.dense.bias', 'classifier.out_proj.weight', 'classifier.dense.weight']\n",
            "You should probably TRAIN this model on a down-stream task to be able to use it for predictions and inference.\n"
          ],
          "name": "stderr"
        },
        {
          "output_type": "stream",
          "text": [
            "............................................................\n",
            "train_loss: 0.72094 - val_loss: 0.56954\n",
            "............................................................\n",
            "train_loss: 0.36025 - val_loss: 0.32057\n",
            "............................................................\n",
            "train_loss: 0.24117 - val_loss: 0.27743\n",
            "............................................................\n",
            "train_loss: 0.14911 - val_loss: 0.26063\n",
            "............................................................\n",
            "train_loss: 0.12227 - val_loss: 0.27015\n",
            "............................................................\n",
            "train_loss: 0.07386 - val_loss: 0.32544\n",
            "............................................................\n",
            "train_loss: 0.05365 - val_loss: 0.31823\n",
            "............................................................\n",
            "train_loss: 0.04438 - val_loss: 0.35305\n",
            "............................................................\n",
            "train_loss: 0.03689 - val_loss: 0.42717\n",
            "............................................................\n",
            "train_loss: 0.03441 - val_loss: 0.29230\n",
            "............................................................\n",
            "train_loss: 0.02622 - val_loss: 0.33704\n",
            "............................................................\n",
            "train_loss: 0.02457 - val_loss: 0.32336\n",
            "............................................................\n",
            "train_loss: 0.02333 - val_loss: 0.30156\n",
            "............................................................\n",
            "train_loss: 0.02337 - val_loss: 0.35332\n",
            "............................................................\n",
            "train_loss: 0.02247 - val_loss: 0.28062\n",
            "............................................................\n",
            "train_loss: 0.02154 - val_loss: 0.30300\n",
            "............................................................\n",
            "train_loss: 0.02191 - val_loss: 0.29974\n",
            "............................................................\n",
            "train_loss: 0.01679 - val_loss: 0.31931\n",
            "............................................................\n",
            "train_loss: 0.01496 - val_loss: 0.31404\n",
            "............................................................\n",
            "train_loss: 0.01506 - val_loss: 0.31044\n",
            "Fold: 2\n"
          ],
          "name": "stdout"
        },
        {
          "output_type": "stream",
          "text": [
            "Some weights of the model checkpoint at roberta-base were not used when initializing RobertaForSequenceClassification: ['roberta.pooler.dense.bias', 'lm_head.dense.weight', 'lm_head.bias', 'lm_head.layer_norm.bias', 'lm_head.decoder.weight', 'lm_head.layer_norm.weight', 'roberta.pooler.dense.weight', 'lm_head.dense.bias']\n",
            "- This IS expected if you are initializing RobertaForSequenceClassification from the checkpoint of a model trained on another task or with another architecture (e.g. initializing a BertForSequenceClassification model from a BertForPreTraining model).\n",
            "- This IS NOT expected if you are initializing RobertaForSequenceClassification from the checkpoint of a model that you expect to be exactly identical (initializing a BertForSequenceClassification model from a BertForSequenceClassification model).\n",
            "Some weights of RobertaForSequenceClassification were not initialized from the model checkpoint at roberta-base and are newly initialized: ['classifier.out_proj.bias', 'classifier.dense.bias', 'classifier.out_proj.weight', 'classifier.dense.weight']\n",
            "You should probably TRAIN this model on a down-stream task to be able to use it for predictions and inference.\n"
          ],
          "name": "stderr"
        },
        {
          "output_type": "stream",
          "text": [
            "............................................................\n",
            "train_loss: 0.65408 - val_loss: 0.34068\n",
            "............................................................\n",
            "train_loss: 0.31287 - val_loss: 0.50750\n",
            "............................................................\n",
            "train_loss: 0.23804 - val_loss: 0.33812\n",
            "............................................................\n",
            "train_loss: 0.12867 - val_loss: 0.26395\n",
            "............................................................\n",
            "train_loss: 0.09471 - val_loss: 0.41238\n",
            "............................................................\n",
            "train_loss: 0.08477 - val_loss: 0.34833\n",
            "............................................................\n",
            "train_loss: 0.05647 - val_loss: 0.30752\n",
            "............................................................\n",
            "train_loss: 0.04257 - val_loss: 0.36811\n",
            "............................................................\n",
            "train_loss: 0.03784 - val_loss: 0.37335\n",
            "............................................................\n",
            "train_loss: 0.03410 - val_loss: 0.30441\n",
            "............................................................\n",
            "train_loss: 0.03378 - val_loss: 0.33617\n",
            "............................................................\n",
            "train_loss: 0.02949 - val_loss: 0.32535\n",
            "............................................................\n",
            "train_loss: 0.02663 - val_loss: 0.33572\n",
            "............................................................\n",
            "train_loss: 0.02302 - val_loss: 0.34956\n",
            "............................................................\n",
            "train_loss: 0.02301 - val_loss: 0.32921\n",
            "............................................................\n",
            "train_loss: 0.02004 - val_loss: 0.37940\n",
            "............................................................\n",
            "train_loss: 0.01891 - val_loss: 0.38794\n",
            "............................................................\n",
            "train_loss: 0.01881 - val_loss: 0.37219\n",
            "............................................................\n",
            "train_loss: 0.01743 - val_loss: 0.35484\n",
            "............................................................\n",
            "train_loss: 0.01675 - val_loss: 0.35986\n",
            "\n",
            "distil\n",
            "Fold: 0\n"
          ],
          "name": "stdout"
        },
        {
          "output_type": "stream",
          "text": [
            "Some weights of the model checkpoint at distilbert-base-uncased were not used when initializing DistilBertForSequenceClassification: ['vocab_layer_norm.weight', 'vocab_projector.weight', 'vocab_layer_norm.bias', 'vocab_transform.bias', 'vocab_transform.weight', 'vocab_projector.bias']\n",
            "- This IS expected if you are initializing DistilBertForSequenceClassification from the checkpoint of a model trained on another task or with another architecture (e.g. initializing a BertForSequenceClassification model from a BertForPreTraining model).\n",
            "- This IS NOT expected if you are initializing DistilBertForSequenceClassification from the checkpoint of a model that you expect to be exactly identical (initializing a BertForSequenceClassification model from a BertForSequenceClassification model).\n",
            "Some weights of DistilBertForSequenceClassification were not initialized from the model checkpoint at distilbert-base-uncased and are newly initialized: ['pre_classifier.bias', 'classifier.weight', 'pre_classifier.weight', 'classifier.bias']\n",
            "You should probably TRAIN this model on a down-stream task to be able to use it for predictions and inference.\n"
          ],
          "name": "stderr"
        },
        {
          "output_type": "stream",
          "text": [
            "............................................................\n",
            "train_loss: 0.56297 - val_loss: 0.37794\n",
            "............................................................\n",
            "train_loss: 0.24577 - val_loss: 0.33441\n",
            "............................................................\n",
            "train_loss: 0.15708 - val_loss: 0.41711\n",
            "............................................................\n",
            "train_loss: 0.10140 - val_loss: 0.44238\n",
            "............................................................\n",
            "train_loss: 0.06358 - val_loss: 0.32639\n",
            "............................................................\n",
            "train_loss: 0.03855 - val_loss: 0.37342\n",
            "............................................................\n",
            "train_loss: 0.02650 - val_loss: 0.31966\n",
            "............................................................\n",
            "train_loss: 0.02652 - val_loss: 0.30446\n",
            "............................................................\n",
            "train_loss: 0.03977 - val_loss: 0.28598\n",
            "............................................................\n",
            "train_loss: 0.02970 - val_loss: 0.33668\n",
            "............................................................\n",
            "train_loss: 0.02230 - val_loss: 0.28185\n",
            "............................................................\n",
            "train_loss: 0.02269 - val_loss: 0.29775\n",
            "............................................................\n",
            "train_loss: 0.01586 - val_loss: 0.31400\n",
            "............................................................\n",
            "train_loss: 0.01304 - val_loss: 0.33306\n",
            "............................................................\n",
            "train_loss: 0.01210 - val_loss: 0.31236\n",
            "............................................................\n",
            "train_loss: 0.01075 - val_loss: 0.30952\n",
            "............................................................\n",
            "train_loss: 0.00954 - val_loss: 0.30164\n",
            "............................................................\n",
            "train_loss: 0.00974 - val_loss: 0.31173\n",
            "............................................................\n",
            "train_loss: 0.00929 - val_loss: 0.31404\n",
            "............................................................\n",
            "train_loss: 0.00876 - val_loss: 0.31405\n",
            "Fold: 1\n"
          ],
          "name": "stdout"
        },
        {
          "output_type": "stream",
          "text": [
            "Some weights of the model checkpoint at distilbert-base-uncased were not used when initializing DistilBertForSequenceClassification: ['vocab_layer_norm.weight', 'vocab_projector.weight', 'vocab_layer_norm.bias', 'vocab_transform.bias', 'vocab_transform.weight', 'vocab_projector.bias']\n",
            "- This IS expected if you are initializing DistilBertForSequenceClassification from the checkpoint of a model trained on another task or with another architecture (e.g. initializing a BertForSequenceClassification model from a BertForPreTraining model).\n",
            "- This IS NOT expected if you are initializing DistilBertForSequenceClassification from the checkpoint of a model that you expect to be exactly identical (initializing a BertForSequenceClassification model from a BertForSequenceClassification model).\n",
            "Some weights of DistilBertForSequenceClassification were not initialized from the model checkpoint at distilbert-base-uncased and are newly initialized: ['pre_classifier.bias', 'classifier.weight', 'pre_classifier.weight', 'classifier.bias']\n",
            "You should probably TRAIN this model on a down-stream task to be able to use it for predictions and inference.\n"
          ],
          "name": "stderr"
        },
        {
          "output_type": "stream",
          "text": [
            "............................................................\n",
            "train_loss: 0.56451 - val_loss: 0.32213\n",
            "............................................................\n",
            "train_loss: 0.25035 - val_loss: 0.39875\n",
            "............................................................\n",
            "train_loss: 0.14953 - val_loss: 0.31879\n",
            "............................................................\n",
            "train_loss: 0.10121 - val_loss: 0.35573\n",
            "............................................................\n",
            "train_loss: 0.05938 - val_loss: 0.38322\n",
            "............................................................\n",
            "train_loss: 0.07917 - val_loss: 0.28521\n",
            "............................................................\n",
            "train_loss: 0.03652 - val_loss: 0.32745\n",
            "............................................................\n",
            "train_loss: 0.02835 - val_loss: 0.28746\n",
            "............................................................\n",
            "train_loss: 0.02856 - val_loss: 0.32283\n",
            "............................................................\n",
            "train_loss: 0.02096 - val_loss: 0.34209\n",
            "............................................................\n",
            "train_loss: 0.02291 - val_loss: 0.36932\n",
            "............................................................\n",
            "train_loss: 0.02481 - val_loss: 0.29194\n",
            "............................................................\n",
            "train_loss: 0.01602 - val_loss: 0.30714\n",
            "............................................................\n",
            "train_loss: 0.01406 - val_loss: 0.29922\n",
            "............................................................\n",
            "train_loss: 0.01377 - val_loss: 0.29308\n",
            "............................................................\n",
            "train_loss: 0.01284 - val_loss: 0.30875\n",
            "............................................................\n",
            "train_loss: 0.01187 - val_loss: 0.31062\n",
            "............................................................\n",
            "train_loss: 0.01267 - val_loss: 0.30204\n",
            "............................................................\n",
            "train_loss: 0.01022 - val_loss: 0.31367\n",
            "............................................................\n",
            "train_loss: 0.00975 - val_loss: 0.30613\n",
            "Fold: 2\n"
          ],
          "name": "stdout"
        },
        {
          "output_type": "stream",
          "text": [
            "Some weights of the model checkpoint at distilbert-base-uncased were not used when initializing DistilBertForSequenceClassification: ['vocab_layer_norm.weight', 'vocab_projector.weight', 'vocab_layer_norm.bias', 'vocab_transform.bias', 'vocab_transform.weight', 'vocab_projector.bias']\n",
            "- This IS expected if you are initializing DistilBertForSequenceClassification from the checkpoint of a model trained on another task or with another architecture (e.g. initializing a BertForSequenceClassification model from a BertForPreTraining model).\n",
            "- This IS NOT expected if you are initializing DistilBertForSequenceClassification from the checkpoint of a model that you expect to be exactly identical (initializing a BertForSequenceClassification model from a BertForSequenceClassification model).\n",
            "Some weights of DistilBertForSequenceClassification were not initialized from the model checkpoint at distilbert-base-uncased and are newly initialized: ['pre_classifier.bias', 'classifier.weight', 'pre_classifier.weight', 'classifier.bias']\n",
            "You should probably TRAIN this model on a down-stream task to be able to use it for predictions and inference.\n"
          ],
          "name": "stderr"
        },
        {
          "output_type": "stream",
          "text": [
            "............................................................\n",
            "train_loss: 0.56566 - val_loss: 0.35970\n",
            "............................................................\n",
            "train_loss: 0.27018 - val_loss: 0.30761\n",
            "............................................................\n",
            "train_loss: 0.16093 - val_loss: 0.29482\n",
            "............................................................\n",
            "train_loss: 0.09955 - val_loss: 0.32066\n",
            "............................................................\n",
            "train_loss: 0.06388 - val_loss: 0.31244\n",
            "............................................................\n",
            "train_loss: 0.04183 - val_loss: 0.28135\n",
            "............................................................\n",
            "train_loss: 0.03706 - val_loss: 0.27388\n",
            "............................................................\n",
            "train_loss: 0.03776 - val_loss: 0.32729\n",
            "............................................................\n",
            "train_loss: 0.02543 - val_loss: 0.29310\n",
            "............................................................\n",
            "train_loss: 0.02412 - val_loss: 0.29862\n",
            "............................................................\n",
            "train_loss: 0.02400 - val_loss: 0.29976\n",
            "............................................................\n",
            "train_loss: 0.02115 - val_loss: 0.30648\n",
            "............................................................\n",
            "train_loss: 0.01689 - val_loss: 0.30520\n",
            "............................................................\n",
            "train_loss: 0.01585 - val_loss: 0.30118\n",
            "............................................................\n",
            "train_loss: 0.01480 - val_loss: 0.28655\n",
            "............................................................\n",
            "train_loss: 0.01473 - val_loss: 0.28665\n",
            "............................................................\n",
            "train_loss: 0.01383 - val_loss: 0.31243\n",
            "............................................................\n",
            "train_loss: 0.01352 - val_loss: 0.28435\n",
            "............................................................\n",
            "train_loss: 0.01111 - val_loss: 0.28466\n",
            "............................................................\n",
            "train_loss: 0.01106 - val_loss: 0.28567\n"
          ],
          "name": "stdout"
        }
      ]
    },
    {
      "cell_type": "code",
      "metadata": {
        "id": "tut5VumInarx",
        "colab": {
          "base_uri": "https://localhost:8080/",
          "height": 809
        },
        "outputId": "8c2154f6-d534-47a3-b617-eb259ed30a51"
      },
      "source": [
        "# Plot the learning curve\n",
        "# The loss per epoch is the average of all folds\n",
        "for model_name, model_loss in all_loss.items():\n",
        "    plt.figure()\n",
        "    plt.title(model_name)\n",
        "    plt.plot(np.mean(all_loss[model_name][:,:,0], axis=0), label='Training error')\n",
        "    plt.plot(np.mean(all_loss[model_name][:,:,1], axis=0), label='Val Error')\n",
        "    plt.legend()"
      ],
      "execution_count": null,
      "outputs": [
        {
          "output_type": "display_data",
          "data": {
            "image/png": "[encoded data removed]",
            "text/plain": [
              "<Figure size 432x288 with 1 Axes>"
            ]
          },
          "metadata": {
            "tags": [],
            "needs_background": "light"
          }
        },
        {
          "output_type": "display_data",
          "data": {
            "image/png": "[encoded data removed]",
            "text/plain": [
              "<Figure size 432x288 with 1 Axes>"
            ]
          },
          "metadata": {
            "tags": [],
            "needs_background": "light"
          }
        },
        {
          "output_type": "display_data",
          "data": {
            "image/png": "[encoded data removed]",
            "text/plain": [
              "<Figure size 432x288 with 1 Axes>"
            ]
          },
          "metadata": {
            "tags": [],
            "needs_background": "light"
          }
        }
      ]
    },
    {
      "cell_type": "markdown",
      "metadata": {
        "id": "meWHv8J96Y0H"
      },
      "source": [
        "Train the 3 models with full dataset to make prediction on the blind test set. "
      ]
    },
    {
      "cell_type": "code",
      "metadata": {
        "id": "6P00pWgNyNMt"
      },
      "source": [
        "all_submissions = {}\n",
        "n_epoch = 10\n",
        "\n",
        "for model_name, model_path in model_path_dict.items():\n",
        "    print('\\n' + model_name)\n",
        "\n",
        "    # Tokenize data\n",
        "    tokenizer = AutoTokenizer.from_pretrained(model_path)\n",
        "    train_tokens = tokenizer.batch_encode_plus(train_data['excerpt'].tolist(),\n",
        "                                               max_length=seq_len, padding='longest', truncation=True)\n",
        "    test_tokens = tokenizer.batch_encode_plus(test_data['excerpt'].tolist(),\n",
        "                                              max_length=seq_len, padding='longest', truncation=True)\n",
        "\n",
        "    # Create data loader\n",
        "    train_loader = DataLoader(loader(train_tokens, train_data['target'].values),\n",
        "                              batch_size=batch_size, shuffle=True)\n",
        "    test_loader = DataLoader(loader(test_tokens), batch_size=batch_size, shuffle=True)\n",
        "\n",
        "    # Build model\n",
        "    model = AutoModelForSequenceClassification.from_pretrained(model_path, num_labels=1)\n",
        "    model.to(device)\n",
        "    optimizer = AdamW(model.parameters(), lr=5e-5)\n",
        "    scheduler = get_linear_schedule_with_warmup(optimizer, num_warmup_steps = 0,\n",
        "                                                num_training_steps = len(train_loader) * n_epoch)\n",
        "\n",
        "    # Train model\n",
        "    for epoch in range(n_epoch):\n",
        "        avg_train_loss = train(model, optimizer, scheduler, train_loader, device)\n",
        "    \n",
        "    # Predict blind test set\n",
        "    test_data['target'] = predict(model, test_loader, device)\n",
        "    all_submissions[model_name] = test_data[['id', 'target']]"
      ],
      "execution_count": null,
      "outputs": []
    },
    {
      "cell_type": "markdown",
      "metadata": {
        "id": "spER3xn-6oVq"
      },
      "source": [
        "The final submission is the average of the predictions made by the 3 models."
      ]
    },
    {
      "cell_type": "code",
      "metadata": {
        "id": "G3q2bt1A3KcV"
      },
      "source": [
        "target = None\n",
        "for submission in all_submissions.values():\n",
        "    if target is None:\n",
        "        target = submission['target'].values.copy()\n",
        "    else:\n",
        "        target += submission['target'].values\n",
        "target/=len(all_submissions)\n",
        "test_data['target'] = target\n",
        "submission = test_data[['id', 'target']]\n",
        "submission.to_csv('submission.csv', index=False)"
      ],
      "execution_count": null,
      "outputs": []
    }
  ]
}